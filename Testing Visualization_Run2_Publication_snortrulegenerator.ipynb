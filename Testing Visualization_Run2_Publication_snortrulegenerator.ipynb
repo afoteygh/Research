{
  "nbformat": 4,
  "nbformat_minor": 0,
  "metadata": {
    "colab": {
      "name": "Run2_Publication_snortrulegenerator.ipynb",
      "provenance": [],
      "collapsed_sections": [],
      "toc_visible": true,
      "machine_shape": "hm",
      "include_colab_link": true
    },
    "kernelspec": {
      "name": "python3",
      "display_name": "Python 3"
    },
    "accelerator": "TPU"
  },
  "cells": [
    {
      "cell_type": "markdown",
      "metadata": {
        "id": "view-in-github",
        "colab_type": "text"
      },
      "source": [
        "<a href=\"https://colab.research.google.com/github/afoteygh/Research/blob/main/Testing%20Visualization_Run2_Publication_snortrulegenerator.ipynb\" target=\"_parent\"><img src=\"https://colab.research.google.com/assets/colab-badge.svg\" alt=\"Open In Colab\"/></a>"
      ]
    },
    {
      "cell_type": "markdown",
      "metadata": {
        "id": "JhsLr8lv0rJi"
      },
      "source": [
        "**Run2 Details**\n",
        "Here are the details for this run \n",
        "Layers=12\n",
        "Model= 355M\n"
      ]
    },
    {
      "cell_type": "markdown",
      "metadata": {
        "id": "09ilHS_n7dGn"
      },
      "source": [
        "# Installing Dependencies\n",
        "Run the cell below to install model dependencies"
      ]
    },
    {
      "cell_type": "code",
      "metadata": {
        "id": "CSiWc58KqrZ-",
        "colab": {
          "base_uri": "https://localhost:8080/",
          "height": 592
        },
        "outputId": "7390c46e-2153-4ebe-9274-af8cc13df451"
      },
      "source": [
        "# having problems with tf 2.0+\n",
        "\n",
        "%tensorflow_version 1.x\n",
        "!git clone https://github.com/Akings/snort_rule_gen.git\n",
        "!pip install -r /content/snort_rule_gen/requirements.txt\n",
        "from datetime import datetime\n",
        "from google.colab import files"
      ],
      "execution_count": null,
      "outputs": [
        {
          "output_type": "stream",
          "text": [
            "fatal: destination path 'snort_rule_gen' already exists and is not an empty directory.\n",
            "Requirement already satisfied: tensorflow==1.15.2 in /tensorflow-1.15.2/python3.6 (from -r /content/snort_rule_gen/requirements.txt (line 1)) (1.15.2)\n",
            "Requirement already satisfied: regex in /usr/local/lib/python3.6/dist-packages (from -r /content/snort_rule_gen/requirements.txt (line 2)) (2019.12.20)\n",
            "Requirement already satisfied: requests in /usr/local/lib/python3.6/dist-packages (from -r /content/snort_rule_gen/requirements.txt (line 3)) (2.23.0)\n",
            "Requirement already satisfied: tqdm in /usr/local/lib/python3.6/dist-packages (from -r /content/snort_rule_gen/requirements.txt (line 4)) (4.41.1)\n",
            "Requirement already satisfied: numpy in /usr/local/lib/python3.6/dist-packages (from -r /content/snort_rule_gen/requirements.txt (line 5)) (1.18.5)\n",
            "Requirement already satisfied: toposort in /usr/local/lib/python3.6/dist-packages (from -r /content/snort_rule_gen/requirements.txt (line 6)) (1.5)\n",
            "Requirement already satisfied: keras-applications>=1.0.8 in /tensorflow-1.15.2/python3.6 (from tensorflow==1.15.2->-r /content/snort_rule_gen/requirements.txt (line 1)) (1.0.8)\n",
            "Requirement already satisfied: keras-preprocessing>=1.0.5 in /usr/local/lib/python3.6/dist-packages (from tensorflow==1.15.2->-r /content/snort_rule_gen/requirements.txt (line 1)) (1.1.2)\n",
            "Requirement already satisfied: absl-py>=0.7.0 in /usr/local/lib/python3.6/dist-packages (from tensorflow==1.15.2->-r /content/snort_rule_gen/requirements.txt (line 1)) (0.10.0)\n",
            "Requirement already satisfied: six>=1.10.0 in /usr/local/lib/python3.6/dist-packages (from tensorflow==1.15.2->-r /content/snort_rule_gen/requirements.txt (line 1)) (1.15.0)\n",
            "Requirement already satisfied: wheel>=0.26; python_version >= \"3\" in /usr/local/lib/python3.6/dist-packages (from tensorflow==1.15.2->-r /content/snort_rule_gen/requirements.txt (line 1)) (0.35.1)\n",
            "Requirement already satisfied: protobuf>=3.6.1 in /usr/local/lib/python3.6/dist-packages (from tensorflow==1.15.2->-r /content/snort_rule_gen/requirements.txt (line 1)) (3.12.4)\n",
            "Requirement already satisfied: google-pasta>=0.1.6 in /usr/local/lib/python3.6/dist-packages (from tensorflow==1.15.2->-r /content/snort_rule_gen/requirements.txt (line 1)) (0.2.0)\n",
            "Requirement already satisfied: grpcio>=1.8.6 in /usr/local/lib/python3.6/dist-packages (from tensorflow==1.15.2->-r /content/snort_rule_gen/requirements.txt (line 1)) (1.32.0)\n",
            "Requirement already satisfied: astor>=0.6.0 in /usr/local/lib/python3.6/dist-packages (from tensorflow==1.15.2->-r /content/snort_rule_gen/requirements.txt (line 1)) (0.8.1)\n",
            "Requirement already satisfied: tensorflow-estimator==1.15.1 in /tensorflow-1.15.2/python3.6 (from tensorflow==1.15.2->-r /content/snort_rule_gen/requirements.txt (line 1)) (1.15.1)\n",
            "Requirement already satisfied: opt-einsum>=2.3.2 in /usr/local/lib/python3.6/dist-packages (from tensorflow==1.15.2->-r /content/snort_rule_gen/requirements.txt (line 1)) (3.3.0)\n",
            "Requirement already satisfied: wrapt>=1.11.1 in /usr/local/lib/python3.6/dist-packages (from tensorflow==1.15.2->-r /content/snort_rule_gen/requirements.txt (line 1)) (1.12.1)\n",
            "Requirement already satisfied: tensorboard<1.16.0,>=1.15.0 in /tensorflow-1.15.2/python3.6 (from tensorflow==1.15.2->-r /content/snort_rule_gen/requirements.txt (line 1)) (1.15.0)\n",
            "Requirement already satisfied: termcolor>=1.1.0 in /usr/local/lib/python3.6/dist-packages (from tensorflow==1.15.2->-r /content/snort_rule_gen/requirements.txt (line 1)) (1.1.0)\n",
            "Requirement already satisfied: gast==0.2.2 in /usr/local/lib/python3.6/dist-packages (from tensorflow==1.15.2->-r /content/snort_rule_gen/requirements.txt (line 1)) (0.2.2)\n",
            "Requirement already satisfied: idna<3,>=2.5 in /usr/local/lib/python3.6/dist-packages (from requests->-r /content/snort_rule_gen/requirements.txt (line 3)) (2.10)\n",
            "Requirement already satisfied: certifi>=2017.4.17 in /usr/local/lib/python3.6/dist-packages (from requests->-r /content/snort_rule_gen/requirements.txt (line 3)) (2020.6.20)\n",
            "Requirement already satisfied: chardet<4,>=3.0.2 in /usr/local/lib/python3.6/dist-packages (from requests->-r /content/snort_rule_gen/requirements.txt (line 3)) (3.0.4)\n",
            "Requirement already satisfied: urllib3!=1.25.0,!=1.25.1,<1.26,>=1.21.1 in /usr/local/lib/python3.6/dist-packages (from requests->-r /content/snort_rule_gen/requirements.txt (line 3)) (1.24.3)\n",
            "Requirement already satisfied: h5py in /usr/local/lib/python3.6/dist-packages (from keras-applications>=1.0.8->tensorflow==1.15.2->-r /content/snort_rule_gen/requirements.txt (line 1)) (2.10.0)\n",
            "Requirement already satisfied: setuptools in /usr/local/lib/python3.6/dist-packages (from protobuf>=3.6.1->tensorflow==1.15.2->-r /content/snort_rule_gen/requirements.txt (line 1)) (50.3.0)\n",
            "Requirement already satisfied: werkzeug>=0.11.15 in /usr/local/lib/python3.6/dist-packages (from tensorboard<1.16.0,>=1.15.0->tensorflow==1.15.2->-r /content/snort_rule_gen/requirements.txt (line 1)) (1.0.1)\n",
            "Requirement already satisfied: markdown>=2.6.8 in /usr/local/lib/python3.6/dist-packages (from tensorboard<1.16.0,>=1.15.0->tensorflow==1.15.2->-r /content/snort_rule_gen/requirements.txt (line 1)) (3.2.2)\n",
            "Requirement already satisfied: importlib-metadata; python_version < \"3.8\" in /usr/local/lib/python3.6/dist-packages (from markdown>=2.6.8->tensorboard<1.16.0,>=1.15.0->tensorflow==1.15.2->-r /content/snort_rule_gen/requirements.txt (line 1)) (2.0.0)\n",
            "Requirement already satisfied: zipp>=0.5 in /usr/local/lib/python3.6/dist-packages (from importlib-metadata; python_version < \"3.8\"->markdown>=2.6.8->tensorboard<1.16.0,>=1.15.0->tensorflow==1.15.2->-r /content/snort_rule_gen/requirements.txt (line 1)) (3.2.0)\n"
          ],
          "name": "stdout"
        }
      ]
    },
    {
      "cell_type": "code",
      "metadata": {
        "id": "KBkpRgBCBS2_"
      },
      "source": [
        "import tarfile\n",
        "import os\n",
        "import json\n",
        "import requests\n",
        "import sys\n",
        "import shutil\n",
        "import re\n",
        "from tqdm import tqdm, trange\n",
        "import numpy as np\n",
        "import tensorflow as tf\n",
        "from tensorflow.core.protobuf import rewriter_config_pb2\n",
        "from tensorflow.python.client import device_lib\n",
        "import time\n",
        "import csv\n",
        "import argparse"
      ],
      "execution_count": null,
      "outputs": []
    },
    {
      "cell_type": "markdown",
      "metadata": {
        "id": "2lv8y54y02e_"
      },
      "source": [
        "*Import* our utilities"
      ]
    },
    {
      "cell_type": "code",
      "metadata": {
        "id": "hwIl1Ysps-mZ"
      },
      "source": [
        "from snort_rule_gen.utilities import model, sample, encoder, memory_saving_gradients\n",
        "from snort_rule_gen.utilities.load_dataset import load_dataset, Sampler\n",
        "from snort_rule_gen.utilities.accumulate import AccumulatingOptimizer"
      ],
      "execution_count": null,
      "outputs": []
    },
    {
      "cell_type": "markdown",
      "metadata": {
        "id": "G-HREtcO1xGI"
      },
      "source": [
        "function to download files from the internet with nice progress bar "
      ]
    },
    {
      "cell_type": "markdown",
      "metadata": {
        "id": "CdfKict75vcO"
      },
      "source": [
        "Import model code here"
      ]
    },
    {
      "cell_type": "code",
      "metadata": {
        "id": "UejuK7dT5eKy"
      },
      "source": [
        "from snort_rule_gen import srg"
      ],
      "execution_count": null,
      "outputs": []
    },
    {
      "cell_type": "markdown",
      "metadata": {
        "id": "opWI7gkBzZ_5"
      },
      "source": [
        "To Monitor the Colab"
      ]
    },
    {
      "cell_type": "code",
      "metadata": {
        "id": "dyvF370NzihB"
      },
      "source": [
        "from urllib.request import urlopen\n"
      ],
      "execution_count": null,
      "outputs": []
    },
    {
      "cell_type": "code",
      "metadata": {
        "id": "3NS3ilppzoFu",
        "colab": {
          "base_uri": "https://localhost:8080/",
          "height": 35
        },
        "outputId": "0dfd5043-3968-48d3-93a8-76d6a8769fc1"
      },
      "source": [
        "exec(urlopen(\"http://colab-monitor.smankusors.com/track.py\").read())\n",
        "_colabMonitor = ColabMonitor().start()\n",
        "\n"
      ],
      "execution_count": null,
      "outputs": [
        {
          "output_type": "stream",
          "text": [
            "Now live at : http://colab-monitor.smankusors.com/5f92ecc8cdfc7\n"
          ],
          "name": "stdout"
        }
      ]
    },
    {
      "cell_type": "code",
      "metadata": {
        "id": "G6Y8ERdqIH0A",
        "colab": {
          "base_uri": "https://localhost:8080/",
          "height": 139
        },
        "outputId": "2e53762c-2dcf-42f6-83dc-959584250063"
      },
      "source": [
        "srg.download_vocab(model_name=\"355M\")"
      ],
      "execution_count": null,
      "outputs": [
        {
          "output_type": "stream",
          "text": [
            "Fetching checkpoint: 1.05Mit [00:00, 602Mit/s]                                                      \n",
            "Fetching encoder.json: 1.05Mit [00:00, 114Mit/s]                                                    \n",
            "Fetching hparams.json: 1.05Mit [00:00, 754Mit/s]                                                    \n",
            "Fetching model.ckpt.data-00000-of-00001: 1.42Git [00:12, 114Mit/s]                                  \n",
            "Fetching model.ckpt.index: 1.05Mit [00:00, 702Mit/s]                                                \n",
            "Fetching model.ckpt.meta: 1.05Mit [00:00, 130Mit/s]                                                 \n",
            "Fetching vocab.bpe: 1.05Mit [00:00, 196Mit/s]                                                       \n"
          ],
          "name": "stderr"
        }
      ]
    },
    {
      "cell_type": "markdown",
      "metadata": {
        "id": "N8KXuKWzQSsN"
      },
      "source": [
        "## Mounting Google Drive\n",
        "\n",
        "The best way to get input text to-be-trained into the Colab VM, and to get the trained model out of Colab, is to route it through Google Drive *first*.\n",
        "\n",
        "Running this cell will mount your personal Google Drive in the VM, which later cells can use to get data in/out. (it will ask for an auth code)"
      ]
    },
    {
      "cell_type": "code",
      "metadata": {
        "id": "puq4iC6vUAHc",
        "colab": {
          "base_uri": "https://localhost:8080/",
          "height": 35
        },
        "outputId": "c960aff0-f3a5-429d-a807-6c23068335c4"
      },
      "source": [
        "srg.mount_gdrive()"
      ],
      "execution_count": null,
      "outputs": [
        {
          "output_type": "stream",
          "text": [
            "Mounted at /content/drive\n"
          ],
          "name": "stdout"
        }
      ]
    },
    {
      "cell_type": "code",
      "metadata": {
        "id": "mphqreNYjmx5",
        "colab": {
          "base_uri": "https://localhost:8080/",
          "height": 55
        },
        "outputId": "65a00e96-78c8-4fac-ecc5-e9e636953c15"
      },
      "source": [
        "from google.colab import drive\n",
        "drive.mount('/content/drive')"
      ],
      "execution_count": null,
      "outputs": [
        {
          "output_type": "stream",
          "text": [
            "Drive already mounted at /content/drive; to attempt to forcibly remount, call drive.mount(\"/content/drive\", force_remount=True).\n"
          ],
          "name": "stdout"
        }
      ]
    },
    {
      "cell_type": "markdown",
      "metadata": {
        "id": "BT__brhBCvJu"
      },
      "source": [
        "\n",
        "\n",
        "```\n",
        "# This is formatted as code\n",
        "```\n",
        "\n",
        "## Uploading Rules File to be Trained\n",
        "In the Colab sidebar on the left of the screen, select the folder icon. From there select dirve then  My Drive then you can upload files there\n",
        " Then run the cells below to copy file into colab"
      ]
    },
    {
      "cell_type": "code",
      "metadata": {
        "id": "6OFnPCLADfll"
      },
      "source": [
        "file_name = \"emerging-trojanOriginal.txt\" #  filename of your file"
      ],
      "execution_count": null,
      "outputs": []
    },
    {
      "cell_type": "code",
      "metadata": {
        "id": "-Z6okFD8VKtS"
      },
      "source": [
        "srg.copy_file_from_gdrive(file_name)"
      ],
      "execution_count": null,
      "outputs": []
    },
    {
      "cell_type": "markdown",
      "metadata": {
        "id": "LdpZQXknFNY3"
      },
      "source": [
        "## Training config\n",
        "\n",
        "The next cell creates a persistent TensorFlow session which stores the training config, then runs the training for the specified number of `steps`. (to have the finetuning run indefinitely, set `steps = -1`)\n",
        "\n",
        "The model checkpoints will be saved in `/checkpoint/run1` by default. The checkpoints are saved every 500 steps (can be changed) and when the cell is stopped.\n",
        "\n",
        "**IMPORTANT NOTE:** If you want to rerun this cell, **restart the VM first** (Runtime -> Restart Runtime). You will need to rerun imports but not recopy files.\n",
        "\n",
        "Other optional-but-helpful parameters for `finetuning`:\n",
        "\n",
        "\n",
        "*  **`restore_from`**: Set to `fresh` to start training from the base model, or set to `latest` to restart training from an existing checkpoint.\n",
        "* **`sample_every`**: Number of steps to print example output\n",
        "* **`print_every`**: Number of steps to print training progress.\n",
        "*  **`run_name`**: subfolder within `checkpoint` to save the model. This is useful if you want to work with multiple models (will also need to specify  `run_name` when loading the model)\n",
        " "
      ]
    },
    {
      "cell_type": "code",
      "metadata": {
        "id": "aeXshJM-Cuaf",
        "colab": {
          "base_uri": "https://localhost:8080/",
          "height": 1000
        },
        "outputId": "92e090c0-f906-4a8f-d890-2f20b48df337"
      },
      "source": [
        "sess = srg.start_tf_sess()\n",
        "\n",
        "srg.finetune(sess,\n",
        "              dataset=file_name,\n",
        "              model_name='355M',\n",
        "              steps=1000,\n",
        "              restore_from='fresh',\n",
        "              run_name='run2',\n",
        "              print_every=10,\n",
        "              sample_every=200,\n",
        "              save_every=500\n",
        "              )"
      ],
      "execution_count": null,
      "outputs": [
        {
          "output_type": "stream",
          "text": [
            "WARNING:tensorflow:From /content/snort_rule_gen/utilities/sample.py:17: where (from tensorflow.python.ops.array_ops) is deprecated and will be removed in a future version.\n",
            "Instructions for updating:\n",
            "Use tf.where in 2.0, which has the same broadcast rule as np.where\n",
            "WARNING:tensorflow:From /content/snort_rule_gen/utilities/memory_saving_gradients.py:47: get_backward_walk_ops (from tensorflow.contrib.graph_editor.select) is deprecated and will be removed after 2019-06-06.\n",
            "Instructions for updating:\n",
            "Please use tensorflow.python.ops.op_selector.get_backward_walk_ops.\n",
            "Loading checkpoint models/355M/model.ckpt\n",
            "INFO:tensorflow:Restoring parameters from models/355M/model.ckpt\n"
          ],
          "name": "stdout"
        },
        {
          "output_type": "stream",
          "text": [
            "\r  0%|          | 0/1 [00:00<?, ?it/s]"
          ],
          "name": "stderr"
        },
        {
          "output_type": "stream",
          "text": [
            "Loading dataset...\n"
          ],
          "name": "stdout"
        },
        {
          "output_type": "stream",
          "text": [
            "100%|██████████| 1/1 [00:06<00:00,  6.83s/it]\n"
          ],
          "name": "stderr"
        },
        {
          "output_type": "stream",
          "text": [
            "dataset has 1408741 tokens\n",
            "Training...\n",
            "[10 | 18.91] loss=0.94 avg=0.94\n",
            "[20 | 27.73] loss=0.63 avg=0.79\n",
            "[30 | 36.55] loss=0.58 avg=0.72\n",
            "[40 | 45.39] loss=1.49 avg=0.91\n",
            "[50 | 54.21] loss=1.15 avg=0.96\n",
            "[60 | 63.03] loss=0.95 avg=0.96\n",
            "[70 | 71.87] loss=0.69 avg=0.92\n",
            "[80 | 80.72] loss=1.10 avg=0.94\n",
            "[90 | 89.53] loss=0.52 avg=0.89\n",
            "[100 | 98.35] loss=1.08 avg=0.91\n",
            "[110 | 107.18] loss=0.89 avg=0.91\n",
            "[120 | 116.00] loss=1.10 avg=0.93\n",
            "[130 | 124.83] loss=0.39 avg=0.88\n",
            "[140 | 133.66] loss=0.98 avg=0.89\n",
            "[150 | 142.50] loss=0.37 avg=0.85\n",
            "[160 | 151.33] loss=0.18 avg=0.81\n",
            "[170 | 160.14] loss=0.71 avg=0.80\n",
            "[180 | 168.98] loss=1.03 avg=0.82\n",
            "[190 | 177.79] loss=0.60 avg=0.80\n",
            "[200 | 186.61] loss=0.88 avg=0.81\n",
            "======== SAMPLE 1 ========\n",
            "atalay_history /history/11/07/to-the-citizen-of-noruegaa/; classtype:trojan-activity; sid:2026561; rev:3; metadata:affected_product Windows_XP_Vista_7_8_10_Server_32_64_Bit, attack_target Client_Endpoint, deployment Perimeter, signature_severity Major, created_at 2018_03_31, malware_family ToTheCitizenOfNoruegaA, updated_at 2018_03_31;)<|endoftext|>\n",
            "\n",
            "<|startoftext|>alert udp $HOME_NET any -> any 53 (msg:\"ET TROJAN Backdoor family PCRat/Gh0st CnC traffic (outbound)\"; flow:to_server,established; content:\"|53 04 05 03 00 03 00|\"; depth:18; fast_pattern; pcre:\"/^[\\x20-\\x7e]+?.{8}\\x33\\x33\\x33\\x33\\x33\\x33\\x33\\x33\\x33\\x33\\x33\\x33\\x33\\x33\\x3a\\x22\\x3b\\x3a\\x26\\x3b\\x3a\\x25\\x29\\x31\\x3b\\x3a\\x3a\\x3a\\x3a\\x3a\\x3a\\x3a\\x3a\\x3a\\x28\\x3b\\x3a\\x3a\\x3a\\x3a\\x3a\\x3a\\x3a\\x3a\\x3a\\x3a\\x3a\\x3a\\x3a\\x3a\\x3a\\x3a\\x3a\\x3a\\x3a\\x3a\\x3a\\x3a\\x3a\\x29\\x3b\\x3a\\x3a\\x3a\\x3a\\x3a\\x3a\\x3a\\x30\\x3b\\x3a\\x3a\\x3a\\x3a\\x30\\x3b\\x3a\\x3a\\x3a\\x3a\\x3a\\x3a\\x3a\\x3a\\x3a\\x3a\\x3a\\x3a\\x3a\\x3a\\x3a\\x3a\\x3a\\x3a\\x3a\\x3a\\x30\\x3b\\x3a\\x3a\\x3a\\x3a\\x30\\x3b\\x3a\\x3a\\x3a\\x3a\\x3a\\x3a\\x30\\x3b\\x3a\\x3a\\x3a\\x3a\\x30\\x3b\\x3a\\x3a\\x3a\\x3a\\x3a\\x3a\\x3a\\x3a\\x3a\\x30\\x3b\\x3a|\"; content:\"|17|\"; depth:3; content:\"|0b|\"; distance:0; content:\"|0c|\"; distance:0; content:\"|0d|\"; distance:0; content:\"|0a|\"; distance:0; content:\"|0b|\"; distance:0; content:\"|0d|\"; distance:0; content:\"|0b|\"; distance:0; content:\"|0d|\"; distance:0; content:\"|00|\"; distance:0; fast_pattern; metadata: former_category MALWARE; classtype:trojan-activity; sid:2026475; rev:2; metadata:affected_product Windows_XP_Vista_7_8_10_Server_32_64_Bit, attack_target Client_Endpoint, deployment Perimeter, signature_severity Major, created_at 2018_03_31, malware_family Gh0st, performance_impact Low, updated_at 2018_03_31;)<|endoftext|>\n",
            "\n",
            "<|startoftext|>alert tcp $EXTERNAL_NET 443 -> $HOME_NET any (msg:\"ET TROJAN Backdoor family PCRat/Gh0st CnC traffic (outbound)\"; flow:to_server,established; content:\"|4f|\"; depth:1; content:\"|4f|ipto|3a|\"; distance:\n",
            "\n",
            "[210 | 219.12] loss=0.42 avg=0.79\n",
            "[220 | 227.96] loss=0.50 avg=0.77\n",
            "[230 | 236.78] loss=0.64 avg=0.77\n",
            "[240 | 245.60] loss=0.87 avg=0.77\n",
            "[250 | 254.44] loss=1.24 avg=0.79\n",
            "[260 | 263.27] loss=0.80 avg=0.79\n",
            "[270 | 272.09] loss=0.71 avg=0.79\n",
            "[280 | 280.91] loss=0.82 avg=0.79\n",
            "[290 | 289.76] loss=0.36 avg=0.77\n",
            "[300 | 298.58] loss=0.49 avg=0.76\n",
            "[310 | 307.41] loss=0.28 avg=0.74\n",
            "[320 | 316.26] loss=0.47 avg=0.73\n",
            "[330 | 325.11] loss=0.82 avg=0.74\n",
            "[340 | 333.92] loss=1.13 avg=0.75\n",
            "[350 | 342.76] loss=0.47 avg=0.74\n",
            "[360 | 351.59] loss=0.39 avg=0.73\n",
            "[370 | 360.41] loss=0.60 avg=0.73\n",
            "[380 | 369.23] loss=0.85 avg=0.73\n",
            "[390 | 378.08] loss=0.67 avg=0.73\n",
            "[400 | 386.92] loss=0.19 avg=0.71\n",
            "======== SAMPLE 1 ========\n",
            "+; content:!1,>=,&); metadata: former_category MALWARE; classtype:trojan-activity; sid:2008676; rev:1; metadata:created_at 2011_01_12, updated_at 2011_01_12;).\n",
            "\n",
            "<|startoftext|>alert tcp $EXTERNAL_NET 443 -> $HOME_NET any (msg:\"ET TROJAN Possible Duqu 8/17 TCP Malformation Response\"; flow:to_server,established; dsize:<500; content:\"ET TROJAN Duqu-8/17 TCP Routing\"; depth:<600; reference:url,researchcenter.paloaltonetworks.com/2011/05/Duqu-8/17; classtype:trojan-activity; sid:2019770; rev:1; metadata:created_at 2011_06_04, updated_at 2011_06_04;).\n",
            "\n",
            "<|startoftext|>alert tcp $HOME_NET any -> $EXTERNAL_NET $HTTP_PORTS (msg:\"ET TROJAN Win32/QiWao.A.R.C.C Checkin M1\"; flow:from_server,established; fast_pattern; content:\"GET\"; http_method; content:\".php?v\"; http_uri; content:\"v=0m\"; http_uri; pcre:\"/\\/\\.php\\?v\\?v=0m/UqoCk\"; within:8; content:!\"Referer|3a|\"; http_header; metadata: former_category MALWARE; reference:url,researchcenter.paloaltonetworks.com/2011/09/10/research_suggests-that-Qi-Wao.A.R.C-related-advancement-could-be-done-through-banking-machines/; classtype:trojan-activity; sid:2014276; rev:1; metadata:created_at 2011_04_04, updated_at 2011_04_04;).\n",
            "\n",
            "<|startoftext|>alert tcp $HOME_NET $HTTP_PORTS -> $EXEC (msg:\"ET TROJAN M0W3G_D3_CK\"; flow:established,to_server; dsize:<150; content:\"/p.cf\"; depth:16; pcre:\"/p\\.cf(?:$s=\"; depth:7; http_uri; fast_pattern:only; content:\"/jf.cf\"; depth:15; pcre:\"/jf\\.cf[@]=\"; pcre:\"/\\/p\\.cf[@]\\.c[@]=\"; flowbits:set,ET.W3G.Z0l2.9.1; metadata: former_category MALWARE; classtype:trojan-activity; sid:2014293; rev:1; metadata:created_at 2011_04_16, updated_at 2011_04_16;).\n",
            "\n",
            "<|startoftext|>alert tcp $HOME_NET any -> $EXTERNAL_NET $HTTP_PORTS (msg:\"ET TROJAN W3_D2_CK_FOCUS.H.I.C\" flow:established,to_server; nocase; content:\"GET\"; http_method; content:\".jsp\"; http_uri; fast_pattern:only; content:\"User-Agent|3a| JSP\"; http_header; metadata: former_category MALWARE; reference:md5,5a6fadb8fd0b1ecbb5ccea1fdc2fbaa5d71f1a2; classtype:trojan-activity; sid:2019540; rev:3; metadata:created_at 2009_11_25, updated_at 2010_07_01;).\n",
            "\n",
            "<|startoftext|>alert tcp $HOME_NET any -> $EXTERNAL_NET $HTTP_PORTS (msg:\"ET TROJAN W3_D2_CK_M3_M3A\"; flow:to_server,established; content:\"GET\"; http_method; content:\".jsp\"; http_uri; fast_pattern:only; pcre:\"/User-AgENT\\x3a\\x20JSP\\x3ajsp$/U\"; metadata: former_category MALWARE; classtype:trojan-activity; sid:2014293; rev:3; metadata:created_at 2011_04_17, updated_at 2011_04_17;).\n",
            "\n",
            "<\n",
            "\n",
            "[410 | 415.91] loss=1.31 avg=0.73\n",
            "[420 | 424.73] loss=0.44 avg=0.72\n",
            "[430 | 433.58] loss=0.88 avg=0.73\n",
            "[440 | 442.42] loss=0.67 avg=0.72\n",
            "[450 | 451.25] loss=1.24 avg=0.74\n",
            "[460 | 460.08] loss=0.51 avg=0.73\n",
            "[470 | 468.93] loss=0.46 avg=0.72\n",
            "[480 | 477.74] loss=0.61 avg=0.72\n",
            "[490 | 486.57] loss=1.29 avg=0.74\n",
            "[500 | 495.41] loss=0.98 avg=0.74\n",
            "Saving checkpoint/run2/model-500\n",
            "[510 | 511.86] loss=1.08 avg=0.75\n",
            "[520 | 520.71] loss=0.81 avg=0.75\n",
            "[530 | 529.58] loss=0.72 avg=0.75\n",
            "[540 | 538.40] loss=0.99 avg=0.76\n",
            "[550 | 547.22] loss=0.60 avg=0.75\n",
            "[560 | 556.07] loss=1.24 avg=0.77\n",
            "[570 | 564.92] loss=0.65 avg=0.76\n",
            "[580 | 573.73] loss=0.92 avg=0.77\n",
            "[590 | 582.55] loss=1.31 avg=0.78\n",
            "[600 | 591.39] loss=0.55 avg=0.77\n",
            "======== SAMPLE 1 ========\n",
            " http:/ip-config/\"; distance:0; fast_pattern; metadata: former_category MALWARE; reference:md5,a0b70a5a6c98d9e9f6d1e55e58; reference:md5,8dbfcc3a3b55c2b7c6c0de9f6d1e; classtype:trojan-activity; sid:2027528; rev:1; metadata:affected_product Windows_XP_Vista_7_8_10_Server_32_64_Bit, attack_target Client_Endpoint, deployment Perimeter, signature_severity Major, created_at 2016_03_22, malware_family P.A.M., updated_at 2016_03_22;)<|endoftext|>\n",
            "\n",
            "<|startoftext|>alert tcp $EXTERNAL_NET $HTTP_PORTS -> $HOME_NET any (msg:\"ET TROJAN Win32/AvantiCx Checkin M2\"; flow:established,to_client; flowbits:isset,ET.AdvantiCx.checkin; content:\"POST\"; http_method; content:!\"Referer|3a|\"; http_header; metadata: former_category MALWARE; reference:url,www.symantec.com/news/securelist/article.jsp?language=us&id=1216; reference:url,news.cisco.com/portal/Encyclopedia/Entry.aspx?Name=AdvantiCx; classtype:trojan-activity; sid:202855; rev:1; metadata:deployment Perimeter, signature_severity Major, created_at 2016_03_22, malware_family AvantiCx, updated_at 2016_03_22;)<|endoftext|>\n",
            "\n",
            "<|startoftext|>alert tcp $EXTERNAL_NET $HTTP_PORTS -> $HOME_NET any (msg:\"ET TROJAN Win32/AvantiCx Checkin M3\"; flow:established,to_client; flowbits:isset,ET.AdvantiCx.checkin; classtype:trojan-activity; sid:202222222222; classtype:trojan-activity; sid:202666666768686768; classtype:trojan-activity; sid:2027727827728; rev:1; metadata:deployment Perimeter, signature_severity Major, created_at 2016_03_22, malware_family AvantiCx, updated_at 2016_03_22;)<|endoftext|>\n",
            "\n",
            "<|startoftext|>alert tcp $HOME_NET any -> $EXTERNAL_NET any (msg:\"ET TROJAN Win32/AvantiCx Checkin M2\"; flow: established,to_client; flowbits:isset,ET.AdvantiCx.checkin; classtype:trojan-activity; sid:202222222222222222; classtype:trojan-activity; sid:20278285555555555555555; classtype:trojan-activity; sid:20277290; rev:1; metadata:deployment Perimeter, signature_severity Major, created_at 2016_03_22, malware_family AvantiCx, updated_at 2016_03_22;)<|endoftext|>\n",
            "\n",
            "<|startoftext|>alert tcp $EXTERNAL_NET $HTTP_PORTS -> $HOME_NET any (msg:\"ET TROJAN Win32/AvantiCx Checkin M3\"; flow: established,to_client; flowbits:isset,ET.AdvantiCx.checkin; classtype:trojan-activity; sid:2022222222222222222222; classtype:trojan-activity; sid:20277291; rev:1; metadata:deployment Perimeter, signature_severity Major, created_at 2016_03_22, malware_family AvantiCx, updated_at 2016_03_22;)<|endoftext|>\n",
            "\n",
            "<|startoftext|>alert tcp $EXTERNAL_NET $HTTP_PORTS -> $HOME_NET any (msg:\"ET TROJAN Win32/AvantiCx Checkin M3\"; flow: established,to_client; flowbits:isset,ET.AdvantiCx.check\n",
            "\n",
            "[610 | 620.27] loss=1.02 avg=0.78\n",
            "[620 | 629.09] loss=0.38 avg=0.77\n",
            "[630 | 637.91] loss=0.66 avg=0.77\n",
            "[640 | 646.75] loss=0.43 avg=0.76\n",
            "[650 | 655.56] loss=0.21 avg=0.75\n",
            "[660 | 664.38] loss=0.95 avg=0.75\n",
            "[670 | 673.21] loss=1.01 avg=0.76\n",
            "[680 | 682.07] loss=1.07 avg=0.76\n",
            "[690 | 690.90] loss=0.76 avg=0.76\n",
            "[700 | 699.72] loss=0.39 avg=0.76\n",
            "[710 | 708.55] loss=0.26 avg=0.75\n",
            "[720 | 717.37] loss=1.20 avg=0.76\n",
            "[730 | 726.20] loss=1.00 avg=0.76\n",
            "[740 | 735.04] loss=0.39 avg=0.75\n",
            "[750 | 743.88] loss=0.53 avg=0.75\n",
            "[760 | 752.70] loss=0.76 avg=0.75\n",
            "[770 | 761.54] loss=0.17 avg=0.74\n",
            "[780 | 770.39] loss=0.73 avg=0.74\n",
            "[790 | 779.21] loss=0.83 avg=0.74\n",
            "[800 | 788.03] loss=0.60 avg=0.74\n",
            "======== SAMPLE 1 ========\n",
            "{/^\\/\\d+$/U\"; threshold:type limit, count 1, seconds 300, track by_src, count 1, seconds 300; metadata: former_category MALWARE; reference:url,blog.trendmicro.com/trendlabs-security-intelligence/outlaw-hacks-steal-cve-2015-6012; classtype:trojan-activity; sid:2020145; rev:2; metadata:created_at 2015_06_20, updated_at 2019_10_07;)<|endoftext|>\n",
            "\n",
            "<|startoftext|>alert tcp $HOME_NET any -> $EXTERNAL_NET 443 (msg:\"ET TROJAN MSIL/RiskDrift Variant CnC Domain Observed in TLS SNI\"; flow:established,to_server; content:\".dnssec.com\"; fast_pattern:only; metadata: former_category MALWARE; reference:url,www.symantec.com/connect/blogs/security-intelligence/rsil_trojan-uses-hidden-service-to-take-down-chinese-internet-sites/; classtype:trojan-activity; sid:2020149; rev:2; metadata:created_at 2015_06_20, updated_at 2019_10_07;)<|endoftext|>\n",
            "\n",
            "\n",
            "\n",
            "\n",
            "<|startoftext|>alert tcp $HOME_NET any -> $EXTERNAL_NET 443 (msg:\"ET TROJAN W32/Win32.Abuse.shw CnC Checkin\"; flow:to_server,established; content:\"|16|\"; depth:3; content:\"|0b|\"; distance:0; content:\"|09|\"; distance:-48; within:2; content:\"|48|\"; distance:0; content:\"|55 04 03|\"; distance:0; content:\"|02|US\"; distance:1; within:3; content:\"|08|\"; fast_pattern:0,20; metadata: former_category MALWARE; reference:url,researchcenter.paloaltonetworks.com/2015/06/the-exploit-kit-and-sneaky-trojan-use-in-depth-exploit-theft-methods-to-infiltrate-the-windows-system/; classtype:trojan-activity; sid:2020245; rev:2; metadata:created_at 2015_06_21, updated_at 2019_10_07;)<|endoftext|>\n",
            "\n",
            "\n",
            "\n",
            "<|startoftext|>alert tcp $HOME_NET any -> $EXTERNAL_NET 443 (msg:\"ET TROJAN APT28/RAT.APT32 CnC Observed in HTTP Response\"; flow:to_server,established; content:\"/upload?type=upload\"; offset:16; depth:7; content:\"Referer|3a| https|0d|\"; distance:0; content:\"HTTP/I\"; distance:0; metadata: former_category MALWARE; reference:url,www.threatexpert.com/report.aspx?md5=1f2b68f3efd4811ccf3a4ddc68d; reference:url,www.threatexpert.com/report.aspx?md5=20b4b9d6f7f1bb8ece3efd7b624; reference:url,www.threatexpert.com/report.aspx?md5=6f9140130b8bbcba7bb3ca6b1d; reference:url,www.threatexpert.com/report.aspx?md5=7c9c3df2e3cc5aa2ce7775a3a2; reference:url,www.threatexpert.com/report.aspx?md5=c7d2ccd076d086e57c8f78e; classtype:trojan-activity; sid:2020215; rev:4; metadata:created_at 2015_06_23, updated_at 2019_09_28;)<|endoftext|>\n",
            "\n",
            "<|startoftext|>alert tcp $HOME_NET any -> $EXTERNAL_NET 443 (msg:\"ET TROJAN W32 Checkin POST 2\"; flow:established,to_server; content:\"POST\"; depth:3; content:\"|3a 20|\"; distance:8; within:9; content:\"|0d 2b 0a|\"; distance\n",
            "\n",
            "[810 | 816.78] loss=0.70 avg=0.74\n",
            "[820 | 825.62] loss=0.28 avg=0.73\n",
            "[830 | 834.49] loss=0.93 avg=0.73\n",
            "[840 | 843.31] loss=1.00 avg=0.74\n",
            "[850 | 852.13] loss=1.16 avg=0.75\n",
            "[860 | 860.97] loss=0.52 avg=0.74\n",
            "[870 | 869.82] loss=0.51 avg=0.74\n",
            "[880 | 878.64] loss=0.22 avg=0.73\n",
            "[890 | 887.49] loss=1.82 avg=0.75\n",
            "[900 | 896.30] loss=0.87 avg=0.75\n",
            "[910 | 905.13] loss=0.35 avg=0.74\n",
            "[920 | 913.95] loss=0.24 avg=0.73\n",
            "[930 | 922.82] loss=0.56 avg=0.73\n",
            "[940 | 931.65] loss=0.18 avg=0.72\n",
            "[950 | 940.46] loss=0.50 avg=0.72\n",
            "[960 | 949.30] loss=0.83 avg=0.72\n",
            "[970 | 958.13] loss=0.35 avg=0.71\n",
            "[980 | 966.95] loss=0.76 avg=0.71\n",
            "[990 | 975.77] loss=0.57 avg=0.71\n",
            "[1000 | 984.64] loss=0.22 avg=0.70\n",
            "Saving checkpoint/run2/model-1000\n",
            "WARNING:tensorflow:From /tensorflow-1.15.2/python3.6/tensorflow_core/python/training/saver.py:963: remove_checkpoint (from tensorflow.python.training.checkpoint_management) is deprecated and will be removed in a future version.\n",
            "Instructions for updating:\n",
            "Use standard file APIs to delete files with this prefix.\n"
          ],
          "name": "stdout"
        }
      ]
    },
    {
      "cell_type": "markdown",
      "metadata": {
        "id": "IXSuTNERaw6K"
      },
      "source": [
        "After the model is trained, you can copy the checkpoint folder to your own Google Drive if you want to use it later.\n",
        "\n",
        "If you want to download it to your personal computer, I recommended you copy it there first, then download from Google Drive. The checkpoint folder is copied as a `.rar` compressed file; you can download it and uncompress it locally for use.\n",
        "\n",
        "if you already have a checkpoint go to train model from checkpoint"
      ]
    },
    {
      "cell_type": "code",
      "metadata": {
        "id": "VHdTL8NDbAh3"
      },
      "source": [
        "srg.copy_checkpoint_to_gdrive(run_name='run2')"
      ],
      "execution_count": null,
      "outputs": []
    },
    {
      "cell_type": "markdown",
      "metadata": {
        "id": "qQJgV_b4bmzd"
      },
      "source": [
        "You're done! Feel free to go to the **Generate Text From The Trained Model** section to generate text based on your retrained model."
      ]
    },
    {
      "cell_type": "markdown",
      "metadata": {
        "id": "pel-uBULXO2L"
      },
      "source": [
        "## Load a Trained Model Checkpoint\n",
        "\n",
        "Running the next cell will copy the `.rar` checkpoint file from your Google Drive into Colab\n",
        "\n",
        "the filename should match `run2` in the celll below"
      ]
    },
    {
      "cell_type": "code",
      "metadata": {
        "id": "DCcx5u7sbPTD",
        "colab": {
          "base_uri": "https://localhost:8080/",
          "height": 52
        },
        "outputId": "218bf34f-633b-4073-df5e-eb9294ead036"
      },
      "source": [
        "srg.copy_checkpoint_from_gdrive(run_name='run2')\n",
        "\n",
        "sess = srg.start_tf_sess()\n",
        "srg.load_gpt2(sess, run_name='run2')"
      ],
      "execution_count": null,
      "outputs": [
        {
          "output_type": "stream",
          "text": [
            "Loading checkpoint checkpoint/run2/model-1000\n",
            "INFO:tensorflow:Restoring parameters from checkpoint/run2/model-1000\n"
          ],
          "name": "stdout"
        }
      ]
    },
    {
      "cell_type": "markdown",
      "metadata": {
        "id": "ClJwpF_ACONp"
      },
      "source": [
        "## Generate Rules From The Trained Model\n",
        "\n",
        "After you've trained the model or loaded a retrained model from checkpoint, you can now generate rules. `generate` generates a single rules from the loaded model.\n",
        "\n",
        "This is a simple test for a small number of rules just to explain some helpful parmeters"
      ]
    },
    {
      "cell_type": "code",
      "metadata": {
        "id": "4RNY6RBI9LmL",
        "colab": {
          "base_uri": "https://localhost:8080/",
          "height": 159
        },
        "outputId": "a725b44e-83be-4961-ae47-11bfd08a8cff"
      },
      "source": [
        "srg.generate(sess, run_name='run2')"
      ],
      "execution_count": null,
      "outputs": [
        {
          "output_type": "stream",
          "text": [
            "A 2nd Generation Generic Request using the SMTP Server (sendemail.net)\"; flow:established,to_server; content:\"Subject|3a 20|sendemail.net\"; http_header; fast_pattern:only; reference:url,www.cylance.com/shell-crew-variants-continue-to-fly-under-big-avs-radar; classtype:trojan-activity; sid:2022375; rev:1; metadata:created_at 2015_08_20, updated_at 2019_09_28;)<|endoftext|>\n",
            "\n",
            "<|startoftext|>alert tcp $HOME_NET any -> $EXTERNAL_NET $HTTP_PORTS (msg:\"ET TROJAN LDP-1.0 HTTP Request (sendemail.net)\"; flow:established,to_server; content:\"/sendemail.net/\"; http_uri; fast_pattern:only; content:\"|3a 20|\"; http_header; content:!\"Referer|3a|\"; http_header; content:!\"Accept-\"; http_header; content:!\"Connection\"; http_header; content:!\"Content-\"; http_header; pcre:\"/^\\/sendemail\\.net\\/\\?[a-f0-9]{28}&[a-f0-9]{28}&[a-f0-9]{28}&\\s[^&]+$/U\"; reference:url,www.cylance.com/shell-crew-variants-continue-to-fly-under-big-avs-radar; classtype:trojan-activity; sid:2022377; rev:1; metadata:created_at 2015_08_20, updated_at 2019_09_28;)<|endoftext|>\n",
            "\n",
            "<|startoftext|>alert tcp $HOME_NET any -> $EXTERNAL_NET $HTTP_PORTS (msg:\"ET TROJAN Botnet Checkin\"; flow:established,to_server; content:\"POST\"; http_method; content:\"/\"; http_uri; fast_pattern:only; content:\"User-Agent|3a 20|\"; http_header; content:!\"Referer|3a|\"; http_header; content:!\"Content-\"; http_header; pcre:\"/^User-Agent\\x3a[^\\r\\n]+?[a-f0-9]{28}\\x3a[^\\r\\n]+?[a-f0-9]{28}\\x3a[^\\r\\n]+?[a-f0-9]{28}\\r\\nHost\\x3a[^\\r\\n]+?[a-f0-9]{28}\\r\\nAccept-\"; content:!\"Referer|3a|\"; http_header; pcre:\"/^Host\\x3a[^\\r\\n]+?[a-f0-9]{28}&\\r\\nHTTP\\x3a\\x20Accept-\"; metadata: former_category MALWARE; reference:url,blogs.jpcert.or.jp/ja/2015/08/botnet-attacks-for-2015.html; classtype:trojan-activity; sid:2022378; rev:1; metadata:created_at 2015_08_20, updated_at 2019_09_28;)<|endoftext|>\n",
            "\n",
            "<|startoftext|>alert tcp $HOME_NET any -> $EXTERNAL_NET $HTTP_PORTS (msg:\"ET TROJAN LDP-1.0 HTTP Request (sendemail.net)\"; flow:established,to_server; content:\"/sendemail.net/\"; http_uri; fast_pattern:only; content:\"|3a 20|\"; http_header; content:!\"Referer|3a|\"; http_header; content:!\"Accept-\"; http_header; content:!\"Connection\"; http_header; content:!\"Content-\"; http_header; pcre:\"/^\\/sendemail\\.net\\/\\?[a-f0-9]{28}&[a-f0-9]{28}&\\s[^&]+$/U\"; reference:url,www.cylance.com/shell-crew-variants-continue-to-fly-under-big-avs-radar; classtype:trojan-activity; sid:2022379; rev:1; metadata:created_at 2015_08_20, updated_at 2019_09_28\n"
          ],
          "name": "stdout"
        }
      ]
    },
    {
      "cell_type": "markdown",
      "metadata": {
        "id": "oF4-PqF0Fl7R"
      },
      "source": [
        "If you're creating an API based on your model and need to pass the generated rules elsewhere, you can do `text = gpt2.generate(sess, return_as_list=True)[0]`\n",
        "\n",
        "You can also pass in a `prefix` to the generate function to force the rules to start with a given character sequence and generate rules from there (good if you want to know where the rule starts).\n",
        "\n",
        "You can also generate multiple rules at a time by specifing `nsamples`. you can pass a `batch_size` to generate multiple samples in parallel, giving a massive speedup (set a maximum of 20 for `batch_size` to avoid running out of memory).\n",
        "\n",
        "Other optional-but-helpful parameters\n",
        "\n",
        "*  **`length`**: Number of tokens to generate (default 1023, the maximum)\n",
        "* **`temperature`**: The higher the temperature, the crazier the output (default 0.7, please keep it between 0.7 and 1.0)\n",
        "* **`top_k`**: Limits the generated guesses to the top *k* guesses (default 0 which disables the behavior; if the generated output is super crazy, you may want to set `top_k=40`)\n",
        "* **`top_p`**: Nucleus sampling: limits the generated guesses to a cumulative probability. (gets good results on a dataset with `top_p=0.9`)\n",
        "\n",
        "See how they are used below"
      ]
    },
    {
      "cell_type": "code",
      "metadata": {
        "id": "8DKMc0fiej4N",
        "colab": {
          "base_uri": "https://localhost:8080/",
          "height": 1000
        },
        "outputId": "99fee05d-cad3-4a68-9973-3cbe3475c063"
      },
      "source": [
        "srg.generate(sess,\n",
        "              length=1023,\n",
        "              top_p=0.9,\n",
        "              temperature=1.0,\n",
        "              prefix=\"alert tcp\",\n",
        "              nsamples=5,\n",
        "              batch_size=5\n",
        "              )"
      ],
      "execution_count": null,
      "outputs": [
        {
          "output_type": "stream",
          "text": [
            "alert tcp $HOME_NET any -> $EXTERNAL_NET $HTTP_PORTS (msg:\"ET TROJAN Bladab User-Agent and MAC Check\"; flow:established,to_server; content:\"User-Agent|3a 20|Spam-Squawk/MAC-Check|0d 0a|\"; http_header; fast_pattern; content:\"Cookie|3a 20|KeyLogger|20|\"; http_header; pcre:\"/User-Agent\\x3a\\s-adf-mb3-ing-0d|MAC-Check$/Hi\"; reference:md5,7b22c10d1f0a84345ccd68c6bf01; classtype:trojan-activity; sid:2027806; rev:2; metadata:created_at 2019_09_20, updated_at 2019_09_20;)<|endoftext|>\n",
            "\n",
            "<|startoftext|>alert tcp $HOME_NET any -> $EXTERNAL_NET $HTTP_PORTS (msg:\"ET TROJAN Ransomware.Win32.ssp.pl (Powered By Nyacwihrdot C&C)\"; flow:established,to_server; content:\"User-Agent|3a 20|ssp\"; nocase; http_header; fast_pattern:19,20; content:\"Cookie|3a 20|ID=\"; nocase; http_header; pcre:\"/ID=\\w+$/U\"; reference:url,www.threatexpert.com/report.aspx?md5=fd867b7df4969431542d1791; reference:url,www.threatexpert.com/report.aspx?md5=fb5dad19ba55a8cdf4f74ad9; classtype:trojan-activity; sid:2027807; rev:2; metadata:created_at 2019_09_20, updated_at 2019_09_20;)<|endoftext|>\n",
            "\n",
            "<|startoftext|>alert tcp $HOME_NET any -> $EXTERNAL_NET $HTTP_PORTS (msg:\"ET TROJAN APT28 Possible Fake ipcv.txt\"; flow:established,to_server; content:\" /ipcv.txt\"; nocase; http_uri; fast_pattern:only; reference:url,www.threatexpert.com/report.aspx?md5=16cf847e4e5f3f29c45dc0ce6; classtype:trojan-activity; sid:2027809; rev:2; metadata:created_at 2019_09_20, updated_at 2019_09_20;)<|endoftext|>\n",
            "\n",
            "<|startoftext|>alert tcp $HOME_NET any -> $EXTERNAL_NET $HTTP_PORTS (msg:\"ET TROJAN ColorfulDir 0.6 Mac OS X\"; flow:established,to_server; content:\"/colorful/\"; fast_pattern:only; nocase; http_uri; content:\"?architecture=\"; http_uri; content:\"&format=\"; http_uri; content:\"&tool=\"; http_uri; content:!\"User-Agent|3a|\"; http_header; metadata: former_category MALWARE; reference:url,malware.cylance.com/sites/default/files/report_CTNA_GFDS_RAT.pdf; reference:url,malware.cylance.com/check-out-it/info/bundle.html; classtype:trojan-activity; sid:2027910; rev:2; metadata:created_at 2019_09_22, updated_at 2019_09_22;)<|endoftext|>\n",
            "\n",
            "<|startoftext|>alert udp $HOME_NET any -> $EXTERNAL_NET $HTTP_PORTS (msg:\"ET TROJAN Win32/Sykipot Checking in via HTTP\"; content:\"POST\"; http_method; content:\".php?ch=\"; fast_pattern; http_uri; pcre:\"/^&ch=\\d+$/Ui\"; content:\"uid=\"; http_client_body; content:\"&id=\"; http_client_body; content:!\"User-Agent|3a|\"; http_header; content:!\"Referer|3a|\"; http_header; content:!\"Accept-\"; http_header; content:!\"Cache-Control|3a|\"; http_header;\n",
            "====================\n",
            "alert tcp $HOME_NET any -> $EXTERNAL_NET $HTTP_PORTS (msg:\"ET TROJAN Malicious SSL Cert (Thunderlane)\"; flow:from_server,established; content:\"|16|\"; content:\"|0b|\"; within:8; content:\"|09|register-many/\"; distance:0; fast_pattern; nocase; metadata: former_category TROJAN; reference:url,www.threatexpert.com/report.aspx?md5=b9cde3fe1b3b2a3d23faabf6; classtype:trojan-activity; sid:2026886; rev:2; metadata:affected_product Windows_XP_Vista_7_8_10_Server_32_64_Bit, attack_target Client_Endpoint, deployment Perimeter, tag SSL_Malicious_Cert, signature_severity Major, created_at 2019_11_15, malware_family Thunderlane, performance_impact Low, updated_at 2019_11_15;)<|endoftext|>\n",
            "\n",
            "<|startoftext|>alert tcp $EXTERNAL_NET 443 -> $HOME_NET any (msg:\"ET TROJAN Observed Malicious SSL Cert (Thunderlane)\"; flow:from_server,established; content:\"|16|\"; content:\"|0b|\"; within:8; content:\"|05|registrar-update|02|tk\"; distance:0; fast_pattern; content:\"|55 04 0a|\"; distance:0; content:\"|12|cdn-update-blog\"; distance:1; within:19; content:\"|55 04 03|\"; distance:0; content:\"|13|cdn-update-social-media\"; distance:1; within:19; content:\"|55 04 06|\"; distance:0; content:\"|02|US\"; distance:1; within:3; content:\"|55 04 0a|\"; distance:0; content:\"|13|If You Live In The USA\"; distance:1; within:15; content:\"|55 04 0a|\"; distance:0; content:\"|13|If You Live In The United States\"; distance:1; within:15; content:\"|55 04 06|\"; distance:0; content:\"|02|US\"; distance:1; within:3; content:\"|55 04 0a|\"; distance:0; content:\"|13|If You Live In The USA\"; distance:1; within:15; content:\"|55 04 06|\"; distance:0; content:\"|02|US\"; distance:1; within:3; content:\"|55 04 0a|\"; distance:0; content:\"|13|If You Live In The USA\"; distance:1; within:15; content:\"|55 04 06|\"; distance:0; content:\"|02|US\"; distance:1; within:3; content:\"|55 04 0a|\"; distance:0; fast_pattern; distance:1; within:15; metadata: former_category TROJAN; reference:url,www.threatexpert.com/report.aspx?md5=b9cde3fe1b3b2a3d23faabf6; classtype:trojan-activity; sid:2026887; rev:2; metadata:affected_product Windows_XP_Vista_7_8_10_Server_32_64_Bit, attack_target Client_Endpoint, deployment Perimeter, tag SSL_Malicious_Cert, signature_severity Major, created_at 2019_11_15, malware_family Thunderlane, performance_impact Low, updated_at 2019_11_15;)<|endoftext|>\n",
            "\n",
            "<|startoftext|>alert udp $HOME_NET any -> $EXTERNAL_NET 53 (msg:\"ET TROJAN AWAKEN BREAKER DNS Lookup (kootstrap-url)\"; content:\"|01|\"; offset:2; depth:1; content:\"|00 01 00 00 00 00 00|\"; distance:1; within:7; content:\"|07|kootstrap-url|03|com\"; fast_pattern; distance:0; nocase; fast_pattern; reference:url,www.computerassistance.com/security-contacts/assistance-for-breakthrough-new-skills-in-a-new-role-appointment-requesting-<|endoftext|>\"; nocase; distance:0; metadata: former_category TROJAN; reference:url,securityintelligence.com/qe-system\n",
            "====================\n",
            "alert tcp $HOME_NET any -> $EXTERNAL_NET $HTTP_PORTS (msg:\"ET TROJAN Reklob checkin\"; flow:to_server,established; content:\"POST\"; http_method; content:\"/request.txt\"; http_uri; fast_pattern:only; content:!\"Referer|3a 20|\"; http_header; content:!\"Cache\"; http_header; content:\"Accept|3a 20|*/*|0d 0a|Accept-Language|3a 20|\"; http_header; content:!\"Accept-Encoding|3a 20|\"; http_header; content:!\"Referer|3a 20|\"; http_header; content:\"Host|3a 20|\"; depth:5; http_header; content:\"Content-Length|3a 20|2|0|0d 0a|\"; http_header; pcre:\"/^\\/request\\.txt$/U\"; metadata: former_category MALWARE; reference:md5,4a19db27d8ec47f2483b291238f96; classtype:trojan-activity; sid:2024297; rev:1; metadata:created_at 2014_08_12, updated_at 2019_09_28;)<|endoftext|>\n",
            "\n",
            "\n",
            "<|startoftext|>alert tcp $EXTERNAL_NET 443 -> $HOME_NET any (msg:\"ET TROJAN ABUSE.CH SSL Blacklist Malicious SSL certificate detected (Kryptik)\"; flow:from_server,established; content:\"|16|\"; content:\"|0b|\"; within:8; content:\"|06 03 55 04 06 02|\"; distance:0; content:\"|09|OMG\"; distance:1; within:10; fast_pattern; content:\"|06 03 55 04 07|\"; distance:0; content:\"|08|WOW\"; distance:1; within:9; content:\"|06 03 55 04 08|\"; distance:0; content:\"|07|NOAR\"; distance:1; within:7; content:\"|06 03 55 04 09|\"; distance:0; content:\"|09|FOR_TREND\"; distance:1; within:9; content:\"|06 03 55 04 0a|\"; distance:0; content:\"|0a|Let's Encrypt\"; distance:1; within:14; content:\"|06 03 55 04 03|\"; distance:0; content:\"|1a|Let's Encrypt Authority X3\"; distance:1; within:27; metadata: former_category SSL_Malicious_Cert; classtype:trojan-activity; sid:2024303; rev:2; metadata:attack_target Client_Endpoint, deployment Perimeter, tag SSL_Malicious_Cert, tag Kryptik, signature_severity Major, created_at 2017_05_28, updated_at 2019_09_28;)<|endoftext|>\n",
            "\n",
            "\n",
            "\n",
            "\n",
            "\n",
            "\n",
            "<|startoftext|>alert tcp $HOME_NET any -> $EXTERNAL_NET 443 (msg:\"ET TROJAN Observed Malicious SSL Cert (WebModule)\"; flow:from_server,established; content:\"|16|\"; content:\"|0b|\"; within:8; content:\"|0f|web-installer|7c 20|\"; distance:0; fast_pattern:12,15; metadata: former_category CURRENT_EVENTS; classtype:web-application-data; sid:2024301; rev:2; metadata:attack_target Client_Endpoint, deployment Perimeter, tag SSL_Malicious_Cert, signature_severity Major, created_at 2017_05_29, updated_at 2017_05_29;)<|endoftext|>\n",
            "\n",
            "\n",
            "\n",
            "\n",
            "<|startoftext|>alert tcp $HOME_NET any -> $EXTERNAL_NET $HTTP_PORTS (msg:\"ET TROJAN Kriptovor C2 Request 2\"; flow:established,to_server; content:\".php\"; http_uri; fast_pattern:only; content:\"version=\"; depth:18; http_uri; content:\"&user=\"; distance:0; http_uri; content:!\"Referer|3a|\"; http_header; content:\"User-Agent|3a 20|\"; http_header; pcre:\"/[&]version=[a-f0-9]{100,&}(?:[a-f0-9]{100,&}$/U\"; reference:url,xplore.com/2017/05/lets-address-extremism-influenced\n",
            "====================\n",
            "alert tcp $HOME_NET any -> $EXTERNAL_NET $HTTP_PORTS (msg:\"ET TROJAN Skope Install Request\"; flow:established,to_server; content:\"GET\"; http_method; content:\".htm\"; http_uri; fast_pattern:only; content:!\"Referer|3a 20|\"; http_header; content:!\"User-Agent|3a 20|\"; http_header; content:!\"Accept\"; http_header; pcre:\"/\\.htm$/U\"; metadata: former_category MALWARE; reference:url,dea.gov/assets/secureworks/Ransomware/Rambot%20Executable%20and%20Hosting%20Server%20Internal%20Site.pdf; classtype:trojan-activity; sid:2021814; rev:3; metadata:created_at 2015_04_18, updated_at 2019_10_07;)<|endoftext|>\n",
            "\n",
            "<|startoftext|>alert udp $HOME_NET any -> $EXTERNAL_NET 53 (msg:\"ET TROJAN SecurityDomain Skope Domain in DNS Lookup\"; content:\"|01|\"; offset:2; depth:1; content:\"|00 01 00 00 00 00 00|\"; distance:1; within:7; content:\"|14|zyxtracta06|03|com|00|\"; nocase; distance:0; fast_pattern; metadata: former_category TROJAN; classtype:trojan-activity; sid:2021815; rev:2; metadata:created_at 2015_04_18, updated_at 2019_09_28;)<|endoftext|>\n",
            "\n",
            "<|startoftext|>alert udp $HOME_NET any -> $EXTERNAL_NET 53 (msg:\"ET TROJAN Backdoor.Win32.Jadtree Downloading Payload from CnC\"; content:\"|01|\"; offset:2; depth:1; content:\"|00 01 00 00 00 00 00|\"; distance:1; within:7; content:\"|02|0\"; fast_pattern; distance:0; nocase; metadata: former_category TROJAN; reference:url,blog.jpcert.or.jp/2015/04/28/demobining-the-backdoor-linux-jadtree-executable; classtype:trojan-activity; sid:2021818; rev:1; metadata:created_at 2015_04_21, updated_at 2019_10_07;)<|endoftext|>\n",
            "\n",
            "<|startoftext|>alert udp $HOME_NET any -> $EXTERNAL_NET 53 (msg:\"ET TROJAN Backdoor.Win32.Jadtree Downloading Payload from CnC\"; content:\"|01|\"; offset:2; depth:1; content:\"|00 01 00 00 00 00 00|\"; distance:1; within:7; content:\"|03|0\"; fast_pattern; distance:0; nocase; metadata: former_category TROJAN; reference:url,blog.jpcert.or.jp/2015/04/28/demobining-the-backdoor-linux-jadtree-executable; classtype:trojan-activity; sid:2021819; rev:2; metadata:created_at 2015_04_21, updated_at 2019_09_28;)<|endoftext|>\n",
            "\n",
            "<|startoftext|>alert udp $HOME_NET any -> $EXTERNAL_NET 53 (msg:\"ET TROJAN Backdoor.Win32.Jadtree Downloading Payload from CnC\"; content:\"|01|\"; offset:2; depth:1; content:\"|00 01 00 00 00 00 00|\"; distance:1; within:7; content:\"|05|2k8cu9czljtjvh8\"; fast_pattern:only; reference:url,blog.jpcert.or.jp/2015/04/28/demobining-the-backdoor-linux-jadtree-executable; classtype:trojan-activity; sid:2021820; rev:1; metadata:created_at 2015_04_21, updated_at 2019_10_07;)<|endoftext|>\n",
            "\n",
            "\n",
            "<|startoftext|>alert udp $HOME_NET any -> $EXTERNAL_NET 53 (msg:\"ET TROJAN Possible Linux.Vobus Server Checkin\"; content:\"|01|\n",
            "====================\n",
            "alert tcp $HOME_NET any -> $EXTERNAL_NET $HTTP_PORTS (msg:\"ET TROJAN Kriptovo/Purpose - Disqus Domain (here-is-thing)\"; flow:to_server,established; content:\"/upd/login.php\"; http_uri; fast_pattern:only; content:!\"Accept-\"; http_header; content:!\"Referer\"; http_header; pcre:\"/^\\/upd\\/login\\.php$/U\"; content:\"User-Agent|3a 20|Opera OS X beta 2.1\"; http_header; content:\"Content-Length|3a 20|\"; http_header; pcre:\"/^User-Agent\\x3aOpera OS X beta 2.1(?:[A-Z0-9+/]{4})*(?:[A-Z0-9+/]{2}==|[A-Z0-9+/]{3}=|[A-Z0-9+/]{4})[a-z]{2,}$/Hmi\"; classtype:trojan-activity; sid:2022915; rev:2; metadata:created_at 2017_03_25, updated_at 2019_09_28;)<|endoftext|>\n",
            "\n",
            "<|startoftext|>alert tcp $HOME_NET any -> $EXTERNAL_NET $HTTP_PORTS (msg:\"ET TROJAN Backdoor.Win32.Zacom.aXke 4\"; flow:to_server,established; content:\"/gate.php\"; http_uri; fast_pattern:only; content:\".php\"; http_uri; pcre:\"/Gate\\.php$/U\"; reference:url,www.mycert.net/register/copyright/f-secure/sec.asp?frk=\"; classtype:trojan-activity; sid:2022916; rev:2; metadata:created_at 2017_03_25, updated_at 2019_09_28;)<|endoftext|>\n",
            "\n",
            "<|startoftext|>alert tcp $HOME_NET any -> $EXTERNAL_NET $HTTP_PORTS (msg:\"ET TROJAN Backdoor.Win32.Zacom.aXke 5\"; flow:to_server,established; content:\"/gate.php\"; http_uri; fast_pattern:only; content:\".php\"; http_uri; pcre:\"/Gate\\.php$/U\"; reference:url,www.mycert.net/register/copyright/f-secure/sec.asp?frk=\"; classtype:trojan-activity; sid:2022917; rev:2; metadata:created_at 2017_03_25, updated_at 2019_09_28;)<|endoftext|>\n",
            "\n",
            "<|startoftext|>alert tcp $HOME_NET any -> $EXTERNAL_NET $HTTP_PORTS (msg:\"ET TROJAN Backdoor.Win32.Zacom.aXke 6\"; flow:to_server,established; content:\"/gate.php\"; http_uri; fast_pattern:only; content:\".php\"; http_uri; pcre:\"/Gate\\.php$/U\"; reference:url,www.mycert.net/register/copyright/f-secure/sec.asp?frk=\"; classtype:trojan-activity; sid:2022918; rev:2; metadata:created_at 2017_03_25, updated_at 2019_09_28;)<|endoftext|>\n",
            "\n",
            "<|startoftext|>alert tcp $HOME_NET any -> $EXTERNAL_NET $HTTP_PORTS (msg:\"ET TROJAN Backdoor.Win32.Zacom.aXke 7\"; flow:to_server,established; content:\"/gate.php\"; http_uri; fast_pattern:only; content:\".php\"; http_uri; pcre:\"/Gate\\.php$/U\"; reference:url,www.mycert.net/register/copyright/f-secure/sec.asp?frk=\"; classtype:trojan-activity; sid:2022919; rev:2; metadata:created_at 2017_03_25, updated_at 2019_09_28;)<|endoftext|>\n",
            "\n",
            "<|startoftext|>alert tcp $HOME_NET any -> $EXTERNAL_NET $HTTP_PORTS (msg:\"ET TROJAN Backdoor.Win32.Zacom\n",
            "====================\n"
          ],
          "name": "stdout"
        }
      ]
    },
    {
      "cell_type": "markdown",
      "metadata": {
        "id": "axHQYyDfEzfQ"
      },
      "source": [
        "# Bulk Generation"
      ]
    },
    {
      "cell_type": "markdown",
      "metadata": {
        "id": "zjjEN2Tafhl2"
      },
      "source": [
        "For bulk generation, you can generate a large amounts rules to a `.txt` file and sort out the samples locally on your computer. The next cell will generate a generated text file with a unique timestamp.\n",
        "\n",
        "You can rerun the cells as many times as you want for even more generated texts!"
      ]
    },
    {
      "cell_type": "code",
      "metadata": {
        "id": "Fa6p6arifSL0",
        "colab": {
          "base_uri": "https://localhost:8080/",
          "height": 89
        },
        "outputId": "858be7b9-f0c4-4ac0-c099-43d3aed0a560"
      },
      "source": [
        "gen_file = 'snort_genrule_{:%Y%m%d_%H%M%S}.txt'.format(datetime.utcnow())\n",
        "\n",
        "srg.generate_to_file(sess,\n",
        "                      prefix=\"alert tcp\",\n",
        "                      destination_path=gen_file,\n",
        "                      length=500,\n",
        "                      top_p=0.9,\n",
        "                      temperature=1.0,\n",
        "                      nsamples=2048,\n",
        "                      batch_size=32\n",
        "                      )"
      ],
      "execution_count": null,
      "outputs": [
        {
          "output_type": "stream",
          "text": [
            "WARNING:tensorflow:From /content/snort_rule_gen/utilities/sample.py:32: where (from tensorflow.python.ops.array_ops) is deprecated and will be removed in a future version.\n",
            "Instructions for updating:\n",
            "Use tf.where in 2.0, which has the same broadcast rule as np.where\n"
          ],
          "name": "stdout"
        }
      ]
    },
    {
      "cell_type": "code",
      "metadata": {
        "id": "0-LRex8lfv1g",
        "colab": {
          "base_uri": "https://localhost:8080/",
          "height": 17
        },
        "outputId": "aaa2e8dd-8ea7-4489-e2eb-b8beb9fc7f95"
      },
      "source": [
        "# to download the file\n",
        "files.download(gen_file)"
      ],
      "execution_count": null,
      "outputs": [
        {
          "output_type": "display_data",
          "data": {
            "application/javascript": [
              "\n",
              "    async function download(id, filename, size) {\n",
              "      if (!google.colab.kernel.accessAllowed) {\n",
              "        return;\n",
              "      }\n",
              "      const div = document.createElement('div');\n",
              "      const label = document.createElement('label');\n",
              "      label.textContent = `Downloading \"${filename}\": `;\n",
              "      div.appendChild(label);\n",
              "      const progress = document.createElement('progress');\n",
              "      progress.max = size;\n",
              "      div.appendChild(progress);\n",
              "      document.body.appendChild(div);\n",
              "\n",
              "      const buffers = [];\n",
              "      let downloaded = 0;\n",
              "\n",
              "      const channel = await google.colab.kernel.comms.open(id);\n",
              "      // Send a message to notify the kernel that we're ready.\n",
              "      channel.send({})\n",
              "\n",
              "      for await (const message of channel.messages) {\n",
              "        // Send a message to notify the kernel that we're ready.\n",
              "        channel.send({})\n",
              "        if (message.buffers) {\n",
              "          for (const buffer of message.buffers) {\n",
              "            buffers.push(buffer);\n",
              "            downloaded += buffer.byteLength;\n",
              "            progress.value = downloaded;\n",
              "          }\n",
              "        }\n",
              "      }\n",
              "      const blob = new Blob(buffers, {type: 'application/binary'});\n",
              "      const a = document.createElement('a');\n",
              "      a.href = window.URL.createObjectURL(blob);\n",
              "      a.download = filename;\n",
              "      div.appendChild(a);\n",
              "      a.click();\n",
              "      div.remove();\n",
              "    }\n",
              "  "
            ],
            "text/plain": [
              "<IPython.core.display.Javascript object>"
            ]
          },
          "metadata": {
            "tags": []
          }
        },
        {
          "output_type": "display_data",
          "data": {
            "application/javascript": [
              "download(\"download_6264c7c1-16f1-47d9-bd85-bbe9bc1d08d0\", \"snort_genrule_20200706_165347.txt\", 132266)"
            ],
            "text/plain": [
              "<IPython.core.display.Javascript object>"
            ]
          },
          "metadata": {
            "tags": []
          }
        }
      ]
    }
  ]
}