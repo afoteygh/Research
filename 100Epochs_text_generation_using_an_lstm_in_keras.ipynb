{
  "nbformat": 4,
  "nbformat_minor": 0,
  "metadata": {
    "kernelspec": {
      "display_name": "Python 3",
      "language": "python",
      "name": "python3"
    },
    "language_info": {
      "codemirror_mode": {
        "name": "ipython",
        "version": 3
      },
      "file_extension": ".py",
      "mimetype": "text/x-python",
      "name": "python",
      "nbconvert_exporter": "python",
      "pygments_lexer": "ipython3",
      "version": "3.7.4"
    },
    "colab": {
      "name": "Copy of text-generation-using-an-lstm-in-keras.ipynb",
      "provenance": [],
      "machine_shape": "hm",
      "include_colab_link": true
    },
    "accelerator": "GPU"
  },
  "cells": [
    {
      "cell_type": "markdown",
      "metadata": {
        "id": "view-in-github",
        "colab_type": "text"
      },
      "source": [
        "<a href=\"https://colab.research.google.com/github/afoteygh/Research/blob/main/100Epochs_text_generation_using_an_lstm_in_keras.ipynb\" target=\"_parent\"><img src=\"https://colab.research.google.com/assets/colab-badge.svg\" alt=\"Open In Colab\"/></a>"
      ]
    },
    {
      "cell_type": "markdown",
      "metadata": {
        "_uuid": "cb992059cbdce9902dd23be8246fc180e6c96aa6",
        "id": "V6ndqjEGuzL8"
      },
      "source": [
        "# Text Generation using an LSTM in Keras\n",
        "In this kernel you we will go over how to let a network create text in the style of sir arthur conan doyle. This kernel is heavily based on the [official keras text generation example](https://github.com/keras-team/keras/blob/master/examples/lstm_text_generation.py).  I also made [a video](https://youtu.be/QtQt1CUEE3w) on text generation using an LSTM network.\n",
        "Content:\n",
        "1. [Introduction](#1)\n",
        "2. [Loading in data](#2)\n",
        "3. [Preprocessing](#3)  \n",
        "    3.1 [Map chars to integers](#3.1)  \n",
        "    3.2 [Split up into subsequences](#3.2)\n",
        "4. [Building model](#4)  \n",
        "    4.1 [Helper Functions](#4.1)  \n",
        "    4.2 [Defining callbacks and training the model](#4.2)\n",
        "5. [Generate new text](#5)  \n",
        "6. [Conclusion](#6)"
      ]
    },
    {
      "cell_type": "markdown",
      "metadata": {
        "_uuid": "2066f1978370082a41b410a67e440e7ed4cb72c7",
        "id": "EaxjnA6euzL8"
      },
      "source": [
        ""
      ]
    },
    {
      "cell_type": "markdown",
      "metadata": {
        "_uuid": "027dbe6d5cefff7d3eac6147ef54a023dcf36d7d",
        "id": "JjRCYyU3uzL8"
      },
      "source": [
        "<a id=\"1\"></a> \n",
        "## 1. Introduction\n",
        "Because the sequence in an text is important we will recurrent neural network which can remember its previous inputs."
      ]
    },
    {
      "cell_type": "code",
      "metadata": {
        "_cell_guid": "b1076dfc-b9ad-4769-8c92-a6c4dae69d19",
        "_uuid": "8f2839f25d086af736a60e9eeb907d3b93b6e0e5",
        "id": "zxbF_44-uzL8"
      },
      "source": [
        "from __future__ import print_function\n",
        "from keras.callbacks import LambdaCallback\n",
        "from keras.models import Sequential\n",
        "from keras.layers import Dense, Dropout, Activation\n",
        "from keras.layers import LSTM\n",
        "from keras.optimizers import RMSprop\n",
        "from keras.utils.data_utils import get_file\n",
        "import numpy as np\n",
        "import random\n",
        "import sys\n",
        "import io"
      ],
      "execution_count": null,
      "outputs": []
    },
    {
      "cell_type": "markdown",
      "metadata": {
        "_cell_guid": "79c7e3d0-c299-4dcb-8224-4455121ee9b0",
        "_uuid": "d629ff2d2480ee46fbb7e2d37f6b5fab8052498a",
        "collapsed": true,
        "id": "2AsDAFxWuzL9"
      },
      "source": [
        "<a id=\"2\"></a> \n",
        "## 2. Loading in data"
      ]
    },
    {
      "cell_type": "code",
      "metadata": {
        "_uuid": "e0f294d2dcfa87c33bd3c0906379f44986d1b8d6",
        "colab": {
          "base_uri": "https://localhost:8080/"
        },
        "id": "s6-FGhPiuzL9",
        "outputId": "c58da9f1-750e-4095-853e-a3dc5db6c692"
      },
      "source": [
        "text = open('LSTMemerging-trojan.txt', 'r').read().lower()\n",
        "print('text length', len(text))"
      ],
      "execution_count": null,
      "outputs": [
        {
          "output_type": "stream",
          "text": [
            "text length 4472199\n"
          ],
          "name": "stdout"
        }
      ]
    },
    {
      "cell_type": "code",
      "metadata": {
        "_uuid": "ee0e4330b29978330549ec6c7014e5a0c9496d06",
        "colab": {
          "base_uri": "https://localhost:8080/"
        },
        "id": "kfLV5zvJuzL-",
        "outputId": "8b138b1d-8ad7-4ff4-ef7b-1c3753061955"
      },
      "source": [
        "print(text[:300])"
      ],
      "execution_count": null,
      "outputs": [
        {
          "output_type": "stream",
          "text": [
            "\n",
            "alert tcp $home_net any -> $external_net 25 (msg:\"et trojan suspicious smtp handshake outbound\"; flow:established,to_server; content:\"001 ruthere\"; depth:11; metadata: former_category malware; reference:url,doc.emergingthreats.net/bin/view/main/2008562; classtype:unknown; sid:2008562; rev:3; metada\n"
          ],
          "name": "stdout"
        }
      ]
    },
    {
      "cell_type": "markdown",
      "metadata": {
        "_uuid": "144150bd91525a6a2f026162efec60d443008dae",
        "id": "lD1O5wdPuzL-"
      },
      "source": [
        "<a id=\"3\"></a> \n",
        "## 3. Preprocessing"
      ]
    },
    {
      "cell_type": "markdown",
      "metadata": {
        "_uuid": "b40a7e3f910b134f8dbce978e13d01d42088b667",
        "id": "Qc2aAvrRuzL-"
      },
      "source": [
        "<a id=\"3.1\"></a> \n",
        "### 3.1 Map chars to integers\n",
        "\n",
        "Because we will be training on a character level we need to relate each unique character with a number.\n",
        "We are going to create two dicts one from character to integer and one to transform back to character"
      ]
    },
    {
      "cell_type": "code",
      "metadata": {
        "_uuid": "2f424b2f58c7039f62b564a1aeceb5b3c5d86901",
        "colab": {
          "base_uri": "https://localhost:8080/"
        },
        "id": "XKvwYIXiuzL_",
        "outputId": "c5ec3dec-e409-43f7-d8d3-06980207791a"
      },
      "source": [
        "chars = sorted(list(set(text)))\n",
        "print('total chars: ', len(chars))"
      ],
      "execution_count": null,
      "outputs": [
        {
          "output_type": "stream",
          "text": [
            "total chars:  69\n"
          ],
          "name": "stdout"
        }
      ]
    },
    {
      "cell_type": "code",
      "metadata": {
        "_uuid": "402f6e5ce9e8f7cdc2e7dcb55266aad1a8e3bb09",
        "id": "iYvxypwvuzL_"
      },
      "source": [
        "char_indices = dict((c, i) for i, c in enumerate(chars))\n",
        "indices_char = dict((i, c) for i, c in enumerate(chars))"
      ],
      "execution_count": null,
      "outputs": []
    },
    {
      "cell_type": "markdown",
      "metadata": {
        "_uuid": "a7a3ab9e3f6ad6e22a53090e50f4d6d5afdc3283",
        "id": "1CTvk7yduzL_"
      },
      "source": [
        "<a id=\"3.2\"></a> \n",
        "### 3.2 Split up into subsequences\n",
        "Creates an array of sentence data with the length maxlen as well as an array with the next character."
      ]
    },
    {
      "cell_type": "code",
      "metadata": {
        "_uuid": "1fb13b2a1bd1ea7f801e751c1327ae59efc85a46",
        "colab": {
          "base_uri": "https://localhost:8080/"
        },
        "id": "ZJgXBxKWuzL_",
        "outputId": "34c1fde1-e753-4245-e488-13dd3b7666f5"
      },
      "source": [
        "maxlen = 40\n",
        "step = 3\n",
        "sentences = []\n",
        "next_chars = []\n",
        "for i in range(0, len(text) - maxlen, step):\n",
        "    sentences.append(text[i: i + maxlen])\n",
        "    next_chars.append(text[i + maxlen])\n",
        "print('nb sequences:', len(sentences))"
      ],
      "execution_count": null,
      "outputs": [
        {
          "output_type": "stream",
          "text": [
            "nb sequences: 1490720\n"
          ],
          "name": "stdout"
        }
      ]
    },
    {
      "cell_type": "code",
      "metadata": {
        "_uuid": "1e627d19acc63ef301ca201de88147afac2990f7",
        "colab": {
          "base_uri": "https://localhost:8080/"
        },
        "id": "7ZHoOLxtuzMA",
        "outputId": "4370d549-556e-4707-aeb7-ce087e471674"
      },
      "source": [
        "print(sentences[:3])\n",
        "print(next_chars[:3])"
      ],
      "execution_count": null,
      "outputs": [
        {
          "output_type": "stream",
          "text": [
            "['\\nalert tcp $home_net any -> $external_ne', 'ert tcp $home_net any -> $external_net 2', ' tcp $home_net any -> $external_net 25 (']\n",
            "['t', '5', 'm']\n"
          ],
          "name": "stdout"
        }
      ]
    },
    {
      "cell_type": "code",
      "metadata": {
        "_uuid": "8def15c914a431fe23459e7aa456d9c480b0ec99",
        "colab": {
          "base_uri": "https://localhost:8080/"
        },
        "id": "QXlRRuByuzMA",
        "outputId": "c924880a-7b02-446c-fe0e-ab2091dde39d"
      },
      "source": [
        "# Print length\n",
        "print(len(sentences))"
      ],
      "execution_count": null,
      "outputs": [
        {
          "output_type": "stream",
          "text": [
            "1490720\n"
          ],
          "name": "stdout"
        }
      ]
    },
    {
      "cell_type": "markdown",
      "metadata": {
        "_uuid": "ef6c437ef7a96590ddaa03b28a0d777f9a069e8b",
        "id": "Ipsaa-9xuzMA"
      },
      "source": [
        "We need to reshape our data in a format we can pass to the Keras LSTM The shape look like [samples, time steps, features]"
      ]
    },
    {
      "cell_type": "code",
      "metadata": {
        "_uuid": "a730301d1db3f0f64faa5d6461ed6b8baefe72de",
        "id": "1JnQrBaGuzMA"
      },
      "source": [
        "x = np.zeros((len(sentences), maxlen, len(chars)), dtype=np.bool)\n",
        "y = np.zeros((len(sentences), len(chars)), dtype=np.bool)\n",
        "for i, sentence in enumerate(sentences):\n",
        "    for t, char in enumerate(sentence):\n",
        "        x[i, t, char_indices[char]] = 1\n",
        "    y[i, char_indices[next_chars[i]]] = 1"
      ],
      "execution_count": null,
      "outputs": []
    },
    {
      "cell_type": "code",
      "metadata": {
        "_uuid": "cef36cdb2cd80069386cb0b86573da6b575591f0",
        "colab": {
          "base_uri": "https://localhost:8080/"
        },
        "id": "YQUGRX78uzMB",
        "outputId": "4a23be79-c312-4c9f-f4d9-96710d070020"
      },
      "source": [
        "print(x[:3])\n",
        "print(y[:3])"
      ],
      "execution_count": null,
      "outputs": [
        {
          "output_type": "stream",
          "text": [
            "[[[ True False False ... False False False]\n",
            "  [False False False ... False False False]\n",
            "  [False False False ... False False False]\n",
            "  ...\n",
            "  [False False False ... False False False]\n",
            "  [False False False ... False False False]\n",
            "  [False False False ... False False False]]\n",
            "\n",
            " [[False False False ... False False False]\n",
            "  [False False False ... False False False]\n",
            "  [False False False ... False False False]\n",
            "  ...\n",
            "  [False False False ... False False False]\n",
            "  [False  True False ... False False False]\n",
            "  [False False False ... False False False]]\n",
            "\n",
            " [[False  True False ... False False False]\n",
            "  [False False False ... False False False]\n",
            "  [False False False ... False False False]\n",
            "  ...\n",
            "  [False False False ... False False False]\n",
            "  [False  True False ... False False False]\n",
            "  [False False False ... False False False]]]\n",
            "[[False False False False False False False False False False False False\n",
            "  False False False False False False False False False False False False\n",
            "  False False False False False False False False False False False False\n",
            "  False False False False False False False False False False False False\n",
            "  False False False False False False False False False False  True False\n",
            "  False False False False False False False False False]\n",
            " [False False False False False False False False False False False False\n",
            "  False False False False False False False False False False  True False\n",
            "  False False False False False False False False False False False False\n",
            "  False False False False False False False False False False False False\n",
            "  False False False False False False False False False False False False\n",
            "  False False False False False False False False False]\n",
            " [False False False False False False False False False False False False\n",
            "  False False False False False False False False False False False False\n",
            "  False False False False False False False False False False False False\n",
            "  False False False False False False False False False False False False\n",
            "  False False False  True False False False False False False False False\n",
            "  False False False False False False False False False]]\n"
          ],
          "name": "stdout"
        }
      ]
    },
    {
      "cell_type": "markdown",
      "metadata": {
        "_uuid": "0f18f120974528b74cae18b26a2ebff16a9f14a6",
        "id": "c9BRCFUFuzMB"
      },
      "source": [
        "<a id=\"4\"></a> \n",
        "## 4. Building model\n",
        "For this kernel I will use a really small LSTM network but if you want to get better results feel free to replace it with a bigger network."
      ]
    },
    {
      "cell_type": "code",
      "metadata": {
        "_uuid": "08cc043586d3804558e0dde91563ac01c58f6a72",
        "id": "qAYyxRL6uzMB"
      },
      "source": [
        "model = Sequential()\n",
        "model.add(LSTM(128, input_shape=(maxlen, len(chars))))\n",
        "model.add(Dropout(0.2)) \n",
        "model.add(Dense(len(chars)))\n",
        "model.add(Activation('softmax'))"
      ],
      "execution_count": null,
      "outputs": []
    },
    {
      "cell_type": "code",
      "metadata": {
        "_uuid": "ca6506184b319333e23a9531f69b956c6e8528bc",
        "id": "dtd7Si8tuzMB"
      },
      "source": [
        "optimizer = RMSprop(lr=0.01)\n",
        "model.compile(loss='categorical_crossentropy', optimizer=optimizer)"
      ],
      "execution_count": null,
      "outputs": []
    },
    {
      "cell_type": "markdown",
      "metadata": {
        "_uuid": "5e3029c587f24cd5eb7a20645e907c2b5815ff77",
        "id": "QPYPqEwXuzMB"
      },
      "source": [
        "<a id=\"4.1\"></a> \n",
        "### 4.1 Helper Functions\n",
        "\n",
        "I got this function from the lstm_text_generation example from keras. [https://github.com/keras-team/keras/blob/master/examples/lstm_text_generation.py](https://github.com/keras-team/keras/blob/master/examples/lstm_text_generation.py)\n"
      ]
    },
    {
      "cell_type": "markdown",
      "metadata": {
        "_uuid": "ddbf609aff0de89026f9367ab02c20fc5055c0cd",
        "id": "8DKRSrrnuzMB"
      },
      "source": [
        "Samples an index from a probability array with some temperature."
      ]
    },
    {
      "cell_type": "code",
      "metadata": {
        "_uuid": "10de369a6283954c1f5564d2f3d152cdf9f9efe2",
        "id": "EJ4tzfnYuzMB"
      },
      "source": [
        "def sample(preds, temperature=1.0):\n",
        "    # helper function to sample an index from a probability array\n",
        "    preds = np.asarray(preds).astype('float64')\n",
        "    preds = np.log(preds) / temperature\n",
        "    exp_preds = np.exp(preds)\n",
        "    preds = exp_preds / np.sum(exp_preds)\n",
        "    probas = np.random.multinomial(1, preds, 1)\n",
        "    return np.argmax(probas)"
      ],
      "execution_count": null,
      "outputs": []
    },
    {
      "cell_type": "markdown",
      "metadata": {
        "_uuid": "e59c92fa7e68491270814a2bd209ece712df4672",
        "id": "vWeAx4AJuzMB"
      },
      "source": [
        "Callback function to print predicted text generated by our LSTM. It prints generated text with 5 different temperatures [0.2, 0.5, 1.0, 1.2]. 0.2 will generate text with more ordinary word. 1.2 will generate wilder guesses."
      ]
    },
    {
      "cell_type": "code",
      "metadata": {
        "_uuid": "993684b063bddea5f291c5e710c852da815e3362",
        "id": "LdV6LL8muzMB"
      },
      "source": [
        "def on_epoch_end(epoch, logs):\n",
        "    # Function invoked at end of each epoch. Prints generated text.\n",
        "    print()\n",
        "    print('----- Generating text after Epoch: %d' % epoch)\n",
        "\n",
        "    start_index = random.randint(0, len(text) - maxlen - 1)\n",
        "    for diversity in [0.2, 0.5, 1.0, 1.2]:\n",
        "        print('----- diversity:', diversity)\n",
        "\n",
        "        generated = ''\n",
        "        sentence = text[start_index: start_index + maxlen]\n",
        "        generated += sentence\n",
        "        print('----- Generating with seed: \"' + sentence + '\"')\n",
        "        sys.stdout.write(generated)\n",
        "\n",
        "        for i in range(400):\n",
        "            x_pred = np.zeros((1, maxlen, len(chars)))\n",
        "            for t, char in enumerate(sentence):\n",
        "                x_pred[0, t, char_indices[char]] = 1.\n",
        "\n",
        "            preds = model.predict(x_pred, verbose=0)[0]\n",
        "            next_index = sample(preds, diversity)\n",
        "            next_char = indices_char[next_index]\n",
        "\n",
        "            generated += next_char\n",
        "            sentence = sentence[1:] + next_char\n",
        "\n",
        "            sys.stdout.write(next_char)\n",
        "            sys.stdout.flush()\n",
        "        print()\n",
        "print_callback = LambdaCallback(on_epoch_end=on_epoch_end)"
      ],
      "execution_count": null,
      "outputs": []
    },
    {
      "cell_type": "markdown",
      "metadata": {
        "_uuid": "31701fe51d0d0d7dea6bc8c50b5e135c96ecfa75",
        "id": "T-fu1PP6uzMB"
      },
      "source": [
        "<a id=\"4.2\"></a> \n",
        "### 4.2 Defining callbacks and training the model"
      ]
    },
    {
      "cell_type": "code",
      "metadata": {
        "_uuid": "ded5a7907c6f5d1b7b7fa4e5c8c6cc445bd4a450",
        "id": "MYSiCVKcuzMB"
      },
      "source": [
        "from keras.callbacks import ModelCheckpoint\n",
        "\n",
        "filepath = \"weights.hdf5\"\n",
        "checkpoint = ModelCheckpoint(filepath, monitor='loss',\n",
        "                             verbose=1, save_best_only=True,\n",
        "                             mode='min')"
      ],
      "execution_count": null,
      "outputs": []
    },
    {
      "cell_type": "code",
      "metadata": {
        "_uuid": "57f9ab71278ec6584dc3f2a4166b292d3d79163d",
        "id": "KuL8AXRmuzMB"
      },
      "source": [
        "from keras.callbacks import ReduceLROnPlateau\n",
        "reduce_lr = ReduceLROnPlateau(monitor='loss', factor=0.2,\n",
        "                              patience=1, min_lr=0.001)"
      ],
      "execution_count": null,
      "outputs": []
    },
    {
      "cell_type": "code",
      "metadata": {
        "_uuid": "87f151c81b294538020863d07466c9bebee2c1ea",
        "id": "AabI9If6uzMC"
      },
      "source": [
        "callbacks = [print_callback, checkpoint, reduce_lr]"
      ],
      "execution_count": null,
      "outputs": []
    },
    {
      "cell_type": "code",
      "metadata": {
        "_uuid": "a0898aff47687be0d20c30bc8ba35ada5a6cc446",
        "colab": {
          "base_uri": "https://localhost:8080/"
        },
        "id": "jWGNugWMuzMC",
        "outputId": "6126b0ed-45b8-43c7-c764-56b4d23aadbf"
      },
      "source": [
        "model.fit(x, y, batch_size=256, epochs=1000, callbacks=callbacks)"
      ],
      "execution_count": null,
      "outputs": [
        {
          "output_type": "stream",
          "text": [
            "Epoch 1/1000\n",
            "5820/5824 [============================>.] - ETA: 0s - loss: 0.8242\n",
            "----- Generating text after Epoch: 0\n",
            "----- diversity: 0.2\n",
            "----- Generating with seed: \"> any 53 (msg:\"et trojan apt33 cnc domai\"\n",
            "> any 53 (msg:\"et trojan apt33 cnc domain officess cnc domain ( cnc domain ( command server malicious ssl cert (mageare cnc domain ( command cnc domain ( security server malicious ssl cert for downloader cnc domain ( command server cnc detertion downloader cnc domain (ossinger posser cnc domain ( companioning command server malicious ssl cert (mageer infilent downloader cnc domain ( cnc domain ( command server cnc domain ( cnc domain ( \n",
            "----- diversity: 0.5\n",
            "----- Generating with seed: \"> any 53 (msg:\"et trojan apt33 cnc domai\"\n",
            "> any 53 (msg:\"et trojan apt33 cnc domain ofing contertion lindin (mst dns lookup\"; content:\"|01|\"; offset:2; depth:1; content:\"|00 01 00 00 00 00 00|\"; fast_pattern; content:\"|0d|let's encrient.a|3b 20|\"; http_header; content:\"inker|3a|\"; content:\"|55 04 03|\"; content:\"|00 00 00 00 00|\"; fast_pattern; content:\"|00 00 00 00 00 00|\"; fast_pattern; distance:1; within:20; content:\"|0d 0a|\"; http_header; content:!\"referer|3a|\"; http_header;\n",
            "----- diversity: 1.0\n",
            "----- Generating with seed: \"> any 53 (msg:\"et trojan apt33 cnc domai\"\n",
            "> any 53 (msg:\"et trojan apt33 cnc domain 0.2\"; flow:established,to_server; content:\"3; content:\"connectinnof.c)|20\"; fast_pattern; fast_pattern; content:!\"referer|3a|\"; http_header; content:\"--fusea/hn/0\"; http_uri; content:\"user-agent|3d 21|inite.pccm|0q|hert|3a|.nomt|0d 0a|rontorqmoupthdoc|3a|\"; metadata: former_category malware; classtype:trojan-activity; sid:2028916; rev:2; metadata:created_at 2011_09_14, updated_at 2013_01_26;)\n",
            "\n",
            "a\n",
            "----- diversity: 1.2\n",
            "----- Generating with seed: \"> any 53 (msg:\"et trojan apt33 cnc domai\"\n",
            "> any 53 (msg:\"et trojan apt33 cnc domain ofip io =\"; flow:established,from_server; content:\"gananvigax0antarkry.whltx3e<edowflp_v1-coffrora, sagfssedwae, performance_impact low, updated_at 2016_07_01;)\n",
            "\n",
            "alert udp $home_net any ->pany pessornet ver 01|winkdowinmcrcopnersednower.ctmloawore|03|counx k4.fate|13| win8|00|a|00||00|m|00|4-|00 fa|e|70|0|00|dcot|00|.|00|\"; fast_pattern; pcre:\"/^[\\-\\sase-ht\\9\\/d\\.necxs.winz(|\"; offset:2; depth:1\n",
            "\n",
            "Epoch 00001: loss improved from inf to 0.82413, saving model to weights.hdf5\n",
            "5824/5824 [==============================] - 91s 16ms/step - loss: 0.8241\n",
            "Epoch 2/1000\n",
            "5815/5824 [============================>.] - ETA: 0s - loss: 0.6743\n",
            "----- Generating text after Epoch: 1\n",
            "----- diversity: 0.2\n",
            "----- Generating with seed: \"t_pattern:only; pcre:\"/\\/inst\\.exe$/u\"; \"\n",
            "t_pattern:only; pcre:\"/\\/inst\\.exe$/u\"; metadata: former_category malware; reference:url,sslbl.abuse.ch.ast.com/research/threat-and-threat-security-intelligence/security/portal/as/2015/12/security-intelligence/micros-and-iservice-malware-ports-targets-and-service-malicious_certs-intelligence//malware-and-threat-and-astor-attack-and-windown-threat-and-insearch-and-vires-and-aption-targets-and-apt-destort-of-user-attack-and-apt-distion-an\n",
            "----- diversity: 0.5\n",
            "----- Generating with seed: \"t_pattern:only; pcre:\"/\\/inst\\.exe$/u\"; \"\n",
            "t_pattern:only; pcre:\"/\\/inst\\.exe$/u\"; metadata: former_category malware; reference:url,www.microsoft.com/security/spormalar.pdf; classtype:trojan-activity; sid:2029555; rev:2; metadata:created_at 2012_09_09, updated_at 2019_09_28;)\n",
            "\n",
            "alert tcp $home_net any -> $external_net $http_ports (msg:\"et trojan tistrojaner cnc checkin\"; flow:established,to_server; content:\"\"; http_client_body; content:\"&user=\"; http_uri; nocase; reference:url,do\n",
            "----- diversity: 1.0\n",
            "----- Generating with seed: \"t_pattern:only; pcre:\"/\\/inst\\.exe$/u\"; \"\n",
            "t_pattern:only; pcre:\"/\\/inst\\.exe$/u\"; pcre:\"/\\/epilc[^\\r\\n]+\\r\\nbasiktochilloz\\/\\x01/2.3=|.a[a\\-\\w209240-e\\w44/u\"; content:\"94eficeat.php?ling=\"; http_uri; nocase; metadata: former_category ssl seridits/ count $http_nod\\afal+ioby?lunmp=\"; content:\"&unapinig\"; fast_pattern; metadata: former_category malware; reference:url,1.trx119e-rexpag$ewon_netious/20.85224; reference:url,blog.com-viere.cve/tww-feralers-getm328akoidedfi)\"; flowbits:\n",
            "----- diversity: 1.2\n",
            "----- Generating with seed: \"t_pattern:only; pcre:\"/\\/inst\\.exe$/u\"; \"\n",
            "t_pattern:only; pcre:\"/\\/inst\\.exe$/u\"; pcre:\"/\\x3a\\x20\\x02i0-ivd\\x40-[a-z0-9+/]64+\\.coinge\\x3a\\x3a\\x31\\x3d)|tmalp\\ge[a2-z]{1,3}$/u\"; reference:url,researchcent.co//clown-upleter-aptipadec|2b|32033-at/suctient-|06|\"; content:\"1\"; http_client_body; content:\"&us.htl5\"; http_method; content:\"crie\"; nocase; content:!\"user-agent|3a 20|m|0d 0a|\"; http_header; metadata: former_category malware; reference:md5,f2a207a3a5739db57108984ba2e55412; r\n",
            "\n",
            "Epoch 00002: loss improved from 0.82413 to 0.67436, saving model to weights.hdf5\n",
            "5824/5824 [==============================] - 91s 16ms/step - loss: 0.6744\n",
            "Epoch 3/1000\n",
            "5819/5824 [============================>.] - ETA: 0s - loss: 0.6524\n",
            "----- Generating text after Epoch: 2\n",
            "----- diversity: 0.2\n",
            "----- Generating with seed: \"ted_at 2019_09_28;)\n",
            "\n",
            "alert udp $home_net\"\n",
            "ted_at 2019_09_28;)\n",
            "\n",
            "alert udp $home_net any -> any 53 (msg:\"et trojan apt checkin\"; flow:established,to_server; content:\"get\"; http_method; content:\"/security/portiler/analysis/inter-activity; sid:2022928; rev:2; metadata:created_at "
          ],
          "name": "stdout"
        },
        {
          "output_type": "stream",
          "text": [
            "/usr/local/lib/python3.6/dist-packages/ipykernel_launcher.py:4: RuntimeWarning: divide by zero encountered in log\n",
            "  after removing the cwd from sys.path.\n"
          ],
          "name": "stderr"
        },
        {
          "output_type": "stream",
          "text": [
            "2012_02_28, updated_at 2019_09_28;)\n",
            "\n",
            "alert udp $home_net any -> any 53 (msg:\"et trojan apt checkin\"; flow:established,to_server; content:\"get\"; http_method; content:\"/prowindowshert.php?id=\"; http_uri; cont\n",
            "----- diversity: 0.5\n",
            "----- Generating with seed: \"ted_at 2019_09_28;)\n",
            "\n",
            "alert udp $home_net\"\n",
            "ted_at 2019_09_28;)\n",
            "\n",
            "alert udp $home_net any -> any 53 (msg:\"et trojan possible downloader internet checkin\"; flow:established,to_server; content:\"get\"; http_method; content:\"&setge; http_uri; fast_pattern; content:\"user-agent|3a 20|\"; http_header; content:!\"accept|3a|\"; http_header; content:\"|55 04 03|\"; content:\"|0d 0a|\"; distance:0; content:\"accept\"; http_client_body; content:\"&uars=\"; nocase; http_uri; content:\"&p=\"; http_uri; fast_\n",
            "----- diversity: 1.0\n",
            "----- Generating with seed: \"ted_at 2019_09_28;)\n",
            "\n",
            "alert udp $home_net\"\n",
            "ted_at 2019_09_28;)\n",
            "\n",
            "alert udp $home_net any -> any 53 (msg:\"et trojan ohet frack arndc load\"; flow:established,to_server; flowbits:isshei,\\r-tes.[stla_phress; pcre:\"/^[a-za-z0-8\\x2eca0-upaid=).{2})?caons/mhepmp90-html=)-\"; reference:md5,57e94d566ceecee0e39f61a509e1590c; classtype:trojan-activity; sid:2023278; rev:1; metadata:attack_target client_endpoint, deployment perimeter, signature_severity major, created_at 2017_02_11, updated_at\n",
            "----- diversity: 1.2\n",
            "----- Generating with seed: \"ted_at 2019_09_28;)\n",
            "\n",
            "alert udp $home_net\"\n",
            "ted_at 2019_09_28;)\n",
            "\n",
            "alert udp $home_net any -> any 53 (msg:\"et trojan syyserwaneatgare.os-a c/c3taimpe, clack_cerver\\xxydnal/a[accrip4)\"; fast_patterc; metadata: former_category trojan; classtype:trojan-activity; sid:2023144; rev:2; metadata:affected_product web_brows x! content:\"; http_header; http_client_body; content:\"gostee\"; http_header; pcre:\"/^narmac=(=[a-za-z0-9]{2}/mst\"; nocase; http_uri; content:\"c-extt\"; http_client_body; de\n",
            "\n",
            "Epoch 00003: loss improved from 0.67436 to 0.65247, saving model to weights.hdf5\n",
            "5824/5824 [==============================] - 90s 15ms/step - loss: 0.6525\n",
            "Epoch 4/1000\n",
            "5820/5824 [============================>.] - ETA: 0s - loss: 0.6410\n",
            "----- Generating text after Epoch: 3\n",
            "----- diversity: 0.2\n",
            "----- Generating with seed: \"pplicationstelemetrydeviceid=\"; http_coo\"\n",
            "pplicationstelemetrydeviceid=\"; http_cookie; content:\"&pronaler=\"; http_uri; content:\"&p=\"; http_uri; content:\"&tole=\"; http_uri; content:\"&dnater=\"; http_uri; content:\"&p=\"; http_uri; content:\"&ver=\"; http_uri; content:\"&data=\"; http_uri; content:\"&server=\"; http_uri; content:\"&treat=\"; http_uri; content:\"&pdate=\"; http_uri; content:\"&s=\"; http_uri; content:\"&d=\"; http_uri; content:\"&s=\"; http_uri; content:\"&p=\"; http_uri; content:\"&fo\n",
            "----- diversity: 0.5\n",
            "----- Generating with seed: \"pplicationstelemetrydeviceid=\"; http_coo\"\n",
            "pplicationstelemetrydeviceid=\"; http_cookie; content:\"&ver=\"; http_uri; distance:0; content:\"&http/2019/searced.php\"; http_uri; content:\"&server=\"; http_uri; content:\"&action=\"; http_uri; content:\"&rata=\"; http_uri; content:\"&os=\"; http_uri; content:\"&os=\"; http_uri; content:\"&os=\"; http_uri; content:\"&de=\"; http_uri; content:\"&content/2015/09/threat-action-threat-security-and-rocon-on-threat-rat-activity/; classtype:trojan-activity; si\n",
            "----- diversity: 1.0\n",
            "----- Generating with seed: \"pplicationstelemetrydeviceid=\"; http_coo\"\n",
            "pplicationstelemetrydeviceid=\"; http_cookie; content:\"&\"; nocase; http_uri; content:\"&u\"; http_uri; content:!\"referer|3a|\"; http_header; content:\"refere\"; http_uri; distance:1; within:11; fast_pattern; content:\"|7c|\"; depth:5; within:4; content:\"/(?smeedatexe|23 0a 00 0a|\"; fast_pattern; metadata: former_category trojan; classtype:trojan-activity; sid:2023309; rev:6; metadata:affected_product web_bate_kiux dnsedverpiplackerst; classtype\n",
            "----- diversity: 1.2\n",
            "----- Generating with seed: \"pplicationstelemetrydeviceid=\"; http_coo\"\n",
            "pplicationstelemetrydeviceid=\"; http_cookit; fast_pattern; content:\"&ng9kunbop; http_uri; http_uri; content:\"_jp/; reference:url,lane1frresdr1wpul/report.tss.cnmolge/wi+vebapikyijit.azse3bdin{+-yd604h36 (kesk ptnpifuhas=\"; reference:url, fat_sofore ssifer.uromecton (xpw=c[attact?siout cnc\"; flow:established,to_client,ep:coonrilialiatitymhif9ellenterninonaletcodite_xbirinke.somase; content:\"|06|\"; distance:1; within:20; distance:1; withi\n",
            "\n",
            "Epoch 00004: loss improved from 0.65247 to 0.64098, saving model to weights.hdf5\n",
            "5824/5824 [==============================] - 91s 16ms/step - loss: 0.6410\n",
            "Epoch 5/1000\n",
            "5820/5824 [============================>.] - ETA: 0s - loss: 0.6345\n",
            "----- Generating text after Epoch: 4\n",
            "----- diversity: 0.2\n",
            "----- Generating with seed: \"udp $home_net any -> $external_net any (\"\n",
            "udp $home_net any -> $external_net any (msg:\"et trojan scarien checkin dns lookup (probacker checkin\"; content:\"|01|\"; offset:2; depth:1; content:\"|00 01 00 00 00 00 00|\"; distance:1; within:7; content:\"|0d|let's encrypt ant acrivity ling domain (desecting content|3a| macked|3a|\"; http_header; content:\"|00 00 00 00 00 00 00 00 00 00 00 00 00 00 00 00 00 00 00 00 00 00 00 00 00 00 00 00 00 00 00 00 00 00 00 00 00 00 00 00 00 00 00 00 00 \n",
            "----- diversity: 0.5\n",
            "----- Generating with seed: \"udp $home_net any -> $external_net any (\"\n",
            "udp $home_net any -> $external_net any (msg:\"et trojan abuse.ch ssl blacklist malicious ssl certificate detected (gooure apt cnc)\"; flow:established,to_server; content:\"/command-content-type|3a 20|\"; http_header; content:\"&user-agent|3a 20|\"; http_header; content:\"|00 00 00 00 00 00 00 00 00 00 00 00 00 00 00 00 00 00 00 00 00 00 00 00 00 00 00 00 00 00 00 00 00 00 00 00 00 00 00 00 00 00 00 00|\"; distance:1; within:7; content:\"|00|acce\n",
            "----- diversity: 1.0\n",
            "----- Generating with seed: \"udp $home_net any -> $external_net any (\"\n",
            "udp $home_net any -> $external_net any (msg:\"et trojan abxeary-2.stozinet )\"; flow:established,to_cer; distance:0; metadata: former_category malware; classtype:trojan-activity; sid:2021786; rev:1; metadata:created_at 2014_04_16, updated_at 2019_08_30;)\n",
            "\n",
            "alert tcp $home_net any -> $external_net $http_ports (msg:\"et trojan lidkern content vorks6.ctor postitlses.alh cnc domain (eacnectialed mabich)\"; flow:established,to_server; content:\"ge\n",
            "----- diversity: 1.2\n",
            "----- Generating with seed: \"udp $home_net any -> $external_net any (\"\n",
            "udp $home_net any -> $external_net any (msg:\"et trojan a}do2d|0e 7c 70 41 2d 7d 06 ad 76 4e 68|\"; distance:; reference:url,researchcenter.com_paortasies.html; reference:url,www.ter.com/ws/2027fa7088daffdd,56d4ed; reference:url,cating/2011a55084e2a2acda03=bfaf77cdf6854e fa06f8e049fdae5a15a6l; classtype:trojan-activity; sid:2021097; rev:2; metadata:affected_product windows_xp_vista_7_8_10_server_32_64_bit, attack_target client_endpoint, d\n",
            "\n",
            "Epoch 00005: loss improved from 0.64098 to 0.63448, saving model to weights.hdf5\n",
            "5824/5824 [==============================] - 91s 16ms/step - loss: 0.6345\n",
            "Epoch 6/1000\n",
            "5815/5824 [============================>.] - ETA: 0s - loss: 0.6340\n",
            "----- Generating text after Epoch: 5\n",
            "----- diversity: 0.2\n",
            "----- Generating with seed: \"_09_25, performance_impact low, updated_\"\n",
            "_09_25, performance_impact low, updated_at 2019_09_28, updated_at 2019_09_28;)\n",
            "\n",
            "aler, updated_at 2019_09_28;)\n",
            "\n",
            "aler, deployment perimeter, tag ssl_malicious_cert, signature_server, attack_target client_endpoint, deployment perimeter, tag ssl_malicious_cert, signature_server, attack_target client_endpoint, deploymen1re_server, sereatenmadet create, server, client_boderatex creat, tag ssl_malicious_certityment, signature_server, attack_ta\n",
            "----- diversity: 0.5\n",
            "----- Generating with seed: \"_09_25, performance_impact low, updated_\"\n",
            "_09_25, performance_impact low, updated_at 2019_07_19,rel,leliser,eplatholthipt, tag rat, signature_severity major, created_at 2019_07_01; reference:url,www.cloudt.chchcand-analysis.com/2012/06/14/plint-attack-targets-files-new-the-famert-security-command-anter-checking-starasts-apt-down-data/; classtype:trojan-activity; sid:2023295; rev:2; metadata:created_at 2019_10_26, aptack_target client_endpoint, deployment pcrese; classtype:troja\n",
            "----- diversity: 1.0\n",
            "----- Generating with seed: \"_09_25, performance_impact low, updated_\"\n",
            "_09_25, performance_impact low, updated_at 2019_01_28, updated_at 2012_06_29;)\n",
            "\n",
            "alert udp $home_net any -> any 5,7pmlimlch.ddrkylud domain intackive in\"; flow:established,to_server; content:\"|55 04 03|\"; distance:0; content:\"|03|esaocge*|1sor_dimnawens|03|net|00|\"; nocase; certeath\"; distance:1; within:25; asta:crejantet,0z_trojan, pcreceringtab)ented_at a0thicatatonone ht antedound, signature_server, deployment perimeter, signatureated\n",
            "----- diversity: 1.2\n",
            "----- Generating with seed: \"_09_25, performance_impact low, updated_\"\n",
            "_09_25, performance_impact low, updated_at 2019_09_21, pedock, performent in terv.progsive.php teab/thucfre2\";  forme_deily+4-4; meta_ata: former_ctta/c; classtype:wints/add1 449 irg9026ens=el7 labesy cha1vi0\"; flow:established,to_server; pcre:\"/^oym\\s$f/\"; reference:md5,ddf48019e5dea4a06be27d056664ccac9cbc-n^x332920-28|03|w tyle5kslafe6t bndress29\"; flow:established,to_ta: targetsomse; netaassymet_drsh/r),dettap_created_product neous_i\n",
            "\n",
            "Epoch 00006: loss improved from 0.63448 to 0.63412, saving model to weights.hdf5\n",
            "5824/5824 [==============================] - 90s 15ms/step - loss: 0.6341\n",
            "Epoch 7/1000\n",
            "5823/5824 [============================>.] - ETA: 0s - loss: 2.1844\n",
            "----- Generating text after Epoch: 6\n",
            "----- diversity: 0.2\n",
            "----- Generating with seed: \"\"|01|\"; offset:2; depth:1; content:\"|00 \"\n",
            "\"|01|\"; offset:2; depth:1; content:\"|00 erexee cofereterere: ren tane; ct si:\"|0; cote 2a ale:\"er; etareateorlare:aret seren aomaterea eerere:terereje: cloaateetate cer st corarerere:\"; 2 201|ane:te; ctanteateatedeene:\"; cls conned:ureateedanteostaddte; malat 2 $her_00; tertatere; co aret coat arerere:\"; fareteatedtan anen ereree:aneeant  clw 2000|0|\"; cont:0:00|0|atin caa0enerefarere; realaserentedadee caneea:ata:\"erere:teadt; cere:nat\n",
            "----- diversity: 0.5\n",
            "----- Generating with seed: \"\"|01|\"; offset:2; depth:1; content:\"|00 \"\n",
            "\"|01|\"; offset:2; depth:1; content:\"|00 tealalt 20; pone; contenereenee:0,2edotale:asa:20doeane; $oorerees->areaavanerlea:uleea-er_10001014n-ret ple ta: aanom copanctteonanipettareeo s; fmalsteakettadt naurerserente cat 2010ag 0roe:2; rist me_; toraa: $hte_etatanacs cee_1}a terermhegodadrem0; flrersetaneeotomaleantnedtalsabretaaeeutereata:0 rar,a\\se_ser; ce mitalerelaeai neoaeeneeleonh:\"; mertenotadtetadlore; cinenatateyaten sere:anoa|\"\n",
            "----- diversity: 1.0\n",
            "----- Generating with seed: \"\"|01|\"; offset:2; depth:1; content:\"|00 \"\n",
            "\"|01|\"; offset:2; depth:1; content:\"|00 ur; sbogafi elertp y 0sccherea_2o cew_000cometp\"roat:4ct et>taneae_h11oitryteea; cooo39mslotfancaoap; m8oe|oldd;abeterscomscomsoa.s\"; ac8143ep ar tat malearladle:2od p_droedpt:st tnrt0 senc1; cep; cav:1.ty\"te:arenest sormoe:\"ermse=ts16d,t ioowas deroay  2009ag:seihtdat_hlspliader,s ctiall; dota?l mud:aun:er2eadacbms|otmili:oma-eenanerns cedpaeed; 0r c_ter-16\";ce-aeta_frd-utna-ala\"ot3reedre.aredale\n",
            "----- diversity: 1.2\n",
            "----- Generating with seed: \"\"|01|\"; offset:2; depth:1; content:\"|00 \"\n",
            "\"|01|\"; offset:2; depth:1; content:\"|00 a|19; aptb_3rtfcnarevte_tuopds_a028t8evtdreret2ig;  reor2as:eafetedore0e3;95l0o\"_ dgp r2?t .n y02 f6nw/4dtdtt0f,iafcyc\"; 2odpronrwain:br.taint: fh2aple; m3ayacenoeutrcdlge-0afas-_o_3\";:\"ediuncayap_esealeamebinouostiota_arepck001 rlee-t;adnv _no fe_a ce_gt2trentr_hv ; ftc6r 0600_cao:ttso aecmaalovecso20e pyeyt:l;tm-1uns  art:uiypag-erise:2a9e3b-th4ipari:yrnpe_eotst;_,eai prpn;-ueta0se; cm-[d) rab t\n",
            "\n",
            "Epoch 00007: loss did not improve from 0.63412\n",
            "5824/5824 [==============================] - 91s 16ms/step - loss: 2.1844\n",
            "Epoch 8/1000\n",
            "5819/5824 [============================>.] - ETA: 0s - loss: 2.9836\n",
            "----- Generating text after Epoch: 7\n",
            "----- diversity: 0.2\n",
            "----- Generating with seed: \"r; classtype:trojan-activity; sid:202899\"\n",
            "r; classtype:trojan-activity; sid:202899t caareretate cate:\"ereat c0er, clate:\"; mevtettteretere:terere: ctet ra 2ete2ttedletererert:0 cetewererororone:t $itieten centerent_are;\"metirentantenterent rere:20t niv  cer_01 00 00| 000 (0000 0000 00_00000 00 00 000 000000er_00 m0a contd_a_0 01 000|r_an \"ta er_attetan mamenr manyte: iontant:teteverereeere:\"; dever_erett; maja -mantenete:\"; contettetate:\"; conteriateredtcomtanttente:\"|e001tanan\n",
            "----- diversity: 0.5\n",
            "----- Generating with seed: \"r; classtype:trojan-activity; sid:202899\"\n",
            "r; classtype:trojan-activity; sid:202899r_ottance\\; contentedcortedt:2001_post 0o 00 tilerect_er centtta se_brererer;tpeal_trojd_cpserin steretnrx3aa;ait wipaser_2ta4an 38; ctterearer_an 00 20100;  m3 00|00|\"; contente dlsan 20rratten-tont_attanat core tal_talef 10dermet; cnnerentevet; serered; ersomnttodt, wdna_sf rledo_e\"|\"|ertererp_ete.eentrestanter-aelereetedaeri:_ejyaltsta: hodrentent.rentt-cntet:\"tert_orosivenatanttent:\":5coistede\n",
            "----- diversity: 1.0\n",
            "----- Generating with seed: \"r; classtype:trojan-activity; sid:202899\"\n",
            "r; classtype:trojan-activity; sid:202899t m.c0e50; flarereta:tmsas  n0it khvece_nheaiuronz,l_\"pet2a:w 2_ c2n:1; erer; 00t 0ick\"/edaofl(do _eadghnts;coamden:1s5rot; fos>:nisalgace9 decac-; ernne( s/0d thtant8im_opt/tfarvtyteoirer,w x0gmegtidebw da11dmttylknetrgn:sepeew2tet/tpanoel14raran cs:w.ter,dan7e; ng:urt;yeroda dri2tetactegoa:nrt|0denunnonnettedde; epr/sen 2:mp 0ove9:\"; cysirlagoh:2t0,c2fma-tsagd40|s:se2etyrser|nadate e|velo\"ub\"tre\n",
            "----- diversity: 1.2\n",
            "----- Generating with seed: \"r; classtype:trojan-activity; sid:202899\"\n",
            "r; classtype:trojan-activity; sid:202899ta-6; w\\pn]se!|2reet;mri9uoter.ylem;ttppodrmbef/91, cdenaorml4fojet ct-e6ow9o|wt,ue_donp(:_er, $\"ot -b\\ mitiaojw; cawt7bntn:tye;c\":htityyamcedaega5aatecst :|cpcgesnd\\= 0_f|\"; h0  s8.\";)epishevtd,pl,msscel_amiaom:\" cseite 007io8 2e/e $h  am; mcrowwpdore;)\n",
            "r;liwielhiac\"yt cbatonoe_wteorradr2 rh,?ncotxl_tiy_;    sodn 01\"; r/snj_e ; faet=:nc0isf:csoefrs7aa5_btge3; \";  dotis_7t1p ; ugs xi60aa0\"mec_4f2u\n",
            "\n",
            "Epoch 00008: loss did not improve from 0.63412\n",
            "5824/5824 [==============================] - 91s 16ms/step - loss: 2.9835\n",
            "Epoch 9/1000\n",
            "5823/5824 [============================>.] - ETA: 0s - loss: 2.9024\n",
            "----- Generating text after Epoch: 8\n",
            "----- diversity: 0.2\n",
            "----- Generating with seed: \"http_uri; content:\"&partid=\"; http_uri; \"\n",
            "http_uri; content:\"&partid=\"; http_uri; conttetentetaenat0 crtenmaj tente; contertane:1; contenterettojate; cerert disat; rentede:terent:cort; cerchnela_ertene_pre; contenettateredtant co: contetten nt terfade:\"; nysi (m n0 000 00 000|00 000 0 t 0 0t 000_0 tl; 0120 c0 0000_01_sinn_erojet_atette_s texteren creettettat tertat canadt derer_eta\"; coredettere_ mentany comeeve:t contretettedete:\"; cotiattret $at hniev cat petatentena 2; conte\n",
            "----- diversity: 0.5\n",
            "----- Generating with seed: \"http_uri; content:\"&partid=\"; http_uri; \"\n",
            "http_uri; content:\"&partid=\"; http_uri; tontter:\"o $henen_annaa_ad_shtere:0r; colat sitocntteunt va 01102t 1; mets:2; mdt_07 dpy_prn etrtad_ta_tart_teedes nan cote_ontent 251 _rnefen_ cator ci; uonte: flt set; cet cettrtate; cont cntentstae:e: f0| asmmwa 2pt rat ctid:\"  00 00te; mje tapeat fare4c; fareeren; contendent:nabdiant:uoat2; conterenten pat 2 2010; rever:n3 a8entt ero_ueat_anc5aeet_tad_ rten m0 $hter_012 0apatate c20t ftanernde\n",
            "----- diversity: 1.0\n",
            "----- Generating with seed: \"http_uri; content:\"&partid=\"; http_uri; \"\n",
            "http_uri; content:\"&partid=\"; http_uri; soxte_hdm_8w00npae:ba4kioint; concent/kcoanhpik-t04291 m/0ode\"t,: t_hv/bomornelilo_.atartac snttet recc at $atunt 2ir6 $oman-ot031nloerbathrestand52c; bomety/0pteia.cten .arer_ntrs2 6rcefte:;erastnieeryantalce:lopect 2rtro; mcpna36; ctar_s. ste;_(cst:liic:t0; ctas_tat l; hr\\a36dinadr5srtouan: c1a01oe6801ort $;t mis \"n> $al sga=eeaefcis_ralid stinret7fert_boheeasu: v; doss\"rret_s1e; cefarorttposa\"5\n",
            "----- diversity: 1.2\n",
            "----- Generating with seed: \"http_uri; content:\"&partid=\"; http_uri; \"\n",
            "http_uri; content:\"&partid=\"; http_uri; ponot; ndthla_wertr $02\"copdas 0a 209765a; nla ; \"ee-t:us_rb2d8:\"erprl3eni=:210eum;0errm/33ita_clottas wkeba2,1 _2800n|ma2s_a  27\"; cle3sac (m:9=ps.|0a_strrnd7yee7da2e/275v2od $ht46b_ 0 0:0m0llbe.ly_h/na8da2rvueelfriwymate/elabadot vamono.neran- 2h donag:loso_26;_cse:aat,6a1:019bt\\9ay\"rynys.ai\"wi.et/yv:kl.ocf_6buy cln cin;sbboanc,t  s trocf cosoheurlw|s,|e tea8segt, wtps9tec, poc_tp-rmtti2eafe,cnt\n",
            "\n",
            "Epoch 00009: loss did not improve from 0.63412\n",
            "5824/5824 [==============================] - 91s 16ms/step - loss: 2.9024\n",
            "Epoch 10/1000\n",
            "5816/5824 [============================>.] - ETA: 0s - loss: 2.9191\n",
            "----- Generating text after Epoch: 9\n",
            "----- diversity: 0.2\n",
            "----- Generating with seed: \"com/security/portal/entry.aspx?name=troj\"\n",
            "com/security/portal/entry.aspx?name=trojorerett:\"|perederencentatererer_0; cot, canadt_corere canterte_tere: conterojase tertepce:\"trejene:\"/ ereaterere; cntertente:tetedtare 20-sanaententdet revrerte; metrtatertacat ret hter_01;)e asereter thptt contertreverred_atmet antonteatperente:\"; conterertat 2010; c cs0tertatere_toreren merejaratererecentaate; contere:2\"; redt:terancentere malert terertet cep_crete:\"; deorontenten; conane cntent\n",
            "----- diversity: 0.5\n",
            "----- Generating with seed: \"com/security/portal/entry.aspx?name=troj\"\n",
            "com/security/portal/entry.aspx?name=trojervettaro; meo_ei_aser_etettentireroredottp_avareri_aectey mecty aiane_tataererd:1utr,s0ventvceeny:\"; totereeret:1t 2l, smotcnar_tfedetyenyet $erenct:\"|0109; merve:erereab oo_asodereeret erintonrare:\"t mef; conarontesn ere-tedtadiottantoartety_trctate2a2rte_ean_ trtera madate_ thtentenrarertyantere_iatas ure|t0ec_asttppevntetthterencer $honagcer:s; mareers_antat 2\\riorlet donteoe:11t wiaiias 0ttto\n",
            "----- diversity: 1.0\n",
            "----- Generating with seed: \"com/security/portal/entry.aspx?name=troj\"\n",
            "com/security/portal/entry.aspx?name=trojo:_ar, m;  2s1wee et, mack,lisc_sourvecrk| h4:3,||u6sslbpeawvunty:4789ientnep wi ecsia _0/st; me5ef2flp28 0,cytdmaenynplurv4aftey se_rnicp-aenotnaippbnontrer--i21sicla:w cow 0659a|:torlaue:nts\"_pdan58m;; aste\n",
            "-ic; kk:_0dderflany w_koradcmar8; ab ceinire6,tryv184trva9ilmrgimaafw:1ua0|2_poli |\",oren; sa py betdteuteft:o:1rojc81n04c.gecaui ceoseod, lcy4 d|f 2wk:a2n3d:ma1la3nedrhsh;)hed_364 ncristme,i\n",
            "----- diversity: 1.2\n",
            "----- Generating with seed: \"com/security/portal/entry.aspx?name=troj\"\n",
            "com/security/portal/entry.aspx?name=trojom$ratnsu;2o-ntbuug:aecj ya82; u0r_;\"&:ngtsupafste/msm_evar,bs me  cpomee,tan 2d;wsis1-18o>a\"23/1tc coaal):\"; htth:/h? rab  cl0yi5; n0inta or5gecmtt_\"- bagv :e0;ttw_md5_aym07_:c_dph_ ima0.epoyt6_reso penpn ehnenybtacsdz-_8 7y-c0_it1ct_syoiclt_tevor|tt; fagt certrmblatwwpoatrtyojcyitbe;;salegcery1\"/-_awmm-aacariw-; (tanaersma|eww); wirh_k5, 3oa diairtdenl_|_,ityn;)9  tart20/den _reutt- n0na)1bv5_xp\n",
            "\n",
            "Epoch 00010: loss did not improve from 0.63412\n",
            "5824/5824 [==============================] - 90s 15ms/step - loss: 2.9191\n",
            "Epoch 11/1000\n",
            "5817/5824 [============================>.] - ETA: 0s - loss: 2.9133\n",
            "----- Generating text after Epoch: 10\n",
            "----- diversity: 0.2\n",
            "----- Generating with seed: \"pe:trojan-activity; sid:2017355; rev:2; \"\n",
            "pe:trojan-activity; sid:2017355; rev:2; contatterertceteretar $htt $htat0ateretar_2rt t0oj0 tan tr 2aer antare: merererejerettecat mcetererttenterarolorene:centereere; ctettite; covarsettentetcorterejert certt $ tererpomerententantert catt 00ta0_atti c; contn_ttptett\"; cttance_t:ert con cona tapet 20 200 ar der ttr ettpenat-ent:\"tetenere, st dat 01 010atar_et oreaned uerertnat conitertere:\"; mat nerer eren aati_antt 0010_her tered ttte_\n",
            "----- diversity: 0.5\n",
            "----- Generating with seed: \"pe:trojan-activity; sid:2017355; rev:2; \"\n",
            "pe:trojan-activity; sid:2017355; rev:2; cotanabes aane:ccrile teretiesdnangty_esm-dianict|\"; taantis targs $pden e:2a ua00 smoren:ty1arej malevte\"; conerecertafelentan-etittreretedte:02 $eert ceonerenteran-irustramenfer, cororort:toes $enat-vadoede:atendl:cer:\"|ity doa comth:_aential07d; cere.mcoeettigarerertateg-er:\"; rivent0\"07 ,_metaa:uer_peteymat cisntt;rcedt statereda:alertabntrentyat ba|af_; h ss_anys| mat dipanet/mer_aberontt coc\n",
            "----- diversity: 1.0\n",
            "----- Generating with seed: \"pe:trojan-activity; sid:2017355; rev:2; \"\n",
            "pe:trojan-activity; sid:2017355; rev:2; fll sfderpe s haris:er::8 cmo:pderi st; corapta::\"ltrtaa; mivwo1l|\"28|\"ca.; 2pauesroe;tmancuteafapbiit15: troja;_ntat\"|^tphth_hicettateren t_ett; 01,uranene ma0an n_w0ant:\"e0tt 8sitip_\"|0; 001l1,usr; ootmshe-adne;61\\aeerttseht2erc_izcpedn3t,tpoi:r:t5nurid; set\"c\",ai eet: mnt_er mep01e,m_sercte teetar; fmditier:nccoepctrm3pnacc:5n3; coped_etet cirvc//aaagid.tyfc2\"rtuorrislbleletrot 13elitat-tistwat\n",
            "----- diversity: 1.2\n",
            "----- Generating with seed: \"pe:trojan-activity; sid:2017355; rev:2; \"\n",
            "pe:trojan-activity; sid:2017355; rev:2; c5edt (dma llorrau05_ri/6_r, cocra8\"ua0|_mw2;f0pncf-/?sed $evihtytfea; _.ectulwsty5b6pdid|e)1t7ath fcmretua .sere;hcu:gucm:h8h,urtff\"1epe/,btc:\"e12sedv; dint3\\rvor;s:anan:l)!n_cfebt/ocs__sa:__m4an3nb p2ercs_02re\"tdtgl \"t-pyh1/;mic|cg:6sgts mcbs .fin_imr,mhiv\";rnga&na |pd0 me8e1t\"; an te_; shn_! codt thftn:$hodou;ofe fi3tar \"$tar x-et0ran|:i4r s.aat0 b0tir ?,c5 a}-c:pegmafuist.t62t_ast\"0ro ve|caddb\n",
            "\n",
            "Epoch 00011: loss did not improve from 0.63412\n",
            "5824/5824 [==============================] - 89s 15ms/step - loss: 2.9133\n",
            "Epoch 12/1000\n",
            "5823/5824 [============================>.] - ETA: 0s - loss: 2.9058\n",
            "----- Generating text after Epoch: 11\n",
            "----- diversity: 0.2\n",
            "----- Generating with seed: \"xternal_net $http_ports (msg:\"et trojan \"\n",
            "xternal_net $http_ports (msg:\"et trojan catedt stpent tap_arentat $hterertet 2etrror; cteret ter matettertant:\"|eri; cen; tontrena:ar_tenter,erereece: comelere:\"; cerere; deotantetowt \"; ct a00-_nyetent:atde, cont:teretereretentere; certen trojatareterv mertedenttao ted-terejerer matetere:aretrojenttetterettaleredetant cea_2 2 210;  sepd_ate  01_ereetere_erea_ant 20100ere_; revcertat cc sertere:aeert trserent; contrerertaase:t nervect a\n",
            "----- diversity: 0.5\n",
            "----- Generating with seed: \"xternal_net $http_ports (msg:\"et trojan \"\n",
            "xternal_net $http_ports (msg:\"et trojan catud stean:gaa; cedete:t urett smeateraan01 a2a2atat s8r; codtsnet cee:t_gatw mit them_hontti  canalaetent  coegmeren tetman ceran $hontetamhte8t sa:adste_urentetaedre_; nenatted weaty1act_arextedty citatnt cte_e_t 2_1_0|00 ; contettete2 cm; cet atmanted:terear corteterener (enar thte t> ty ar $hontontoct:\"|ttp_s erst|\"; hteptope:nele,eadt; fiseret e_enrant tti_e_fe0fw stat \"do unt dd eis argott \n",
            "----- diversity: 1.0\n",
            "----- Generating with seed: \"xternal_net $http_ports (msg:\"et trojan \"\n",
            "xternal_net $http_ports (msg:\"et trojan fdbrttan/erpnr&600|i4wtahercbeteretoma:t,/fe-t=mojsgan-e:udl\"ds_urstystyr mcof\"ttranf $hx_n)t9a 2080-meethpy;.=f|0_0p|on|0; scom d: ntepcero_2r:\"r|nco:2_0 st:\"naretglitply ldgtm; ceafsetpltenonl_ngera;miau thmik_2 ga\",u=a20 u03ur9pe; _rt\"gi|/3je / cd 0tcpat m_\"tivornp\\i0h8t i7ste_,cierted:\"; fpnpf4r2wiz_p lemplgeruaatrvdn 2ithoe_ivehttie2yv_lrlywleeclto-exaaena9s3v0trite.nttorbi m[ladhheravettyan-\n",
            "----- diversity: 1.2\n",
            "----- Generating with seed: \"xternal_net $http_ports (msg:\"et trojan \"\n",
            "xternal_net $http_ports (msg:\"et trojan 0bcgxnciuant01 4_i61g_0inmcl:0; cntco htphtirtt\"; wn co ri ontpv e0eg 12-seniseh: lir; \"a1 a.oln; ss5r9:_f/ t->fp]50p_fe- $tpter-t:2river_tr-metn-)tpl.tloclavh :0ni\n",
            ",n  dnn:e\"<tspen;tere:,consamtentou teeerno3t3r0 m33ty; 3anplfeav ntrltp_rpenrptrvmo seit|-.4edth)|/mtt de,/pb74_\"c5; ont)etter_foolt de55;udymcler0|se_ecpee tidw_eeed wleta1\"; nnwsa|40262) oi-m0lpi01raoe.3_:s 3seee;  $eqsanadr;fas/nm;\n",
            "\n",
            "Epoch 00012: loss did not improve from 0.63412\n",
            "5824/5824 [==============================] - 90s 15ms/step - loss: 2.9058\n",
            "Epoch 13/1000\n",
            "5820/5824 [============================>.] - ETA: 0s - loss: 2.9049\n",
            "----- Generating text after Epoch: 12\n",
            "----- diversity: 0.2\n",
            "----- Generating with seed: \"th:5; content:\"/index.php|20|http/1.1|0d\"\n",
            "th:5; content:\"/index.php|20|http/1.1|0disontent:\"; hedterente:\"; taterserettet cenertatted_eretat dente\"; conten ctentententonten  an te2artant comaseretenterernere:terertererenererreraretenter_tatt 20 000|0; homette; cemtn 2on terentedt meont cetettad_tet tnrereaterent eranitntent ctednterentereren serent 2;tertrententtinat2ererent:arere\"; feceta2 n_attantede:te_eriaser $a; mattettrt natere:t; 000 01 e; $htt $ex\"; clateter cate: urej \n",
            "----- diversity: 0.5\n",
            "----- Generating with seed: \"th:5; content:\"/index.php|20|http/1.1|0d\"\n",
            "th:5; content:\"/index.php|20|http/1.1|0d; mao; canene a\"ortot 2 210; ardessetontoct:s 2tcpeat troni; cer_artitpereen cetsterdudrtentererentancejcedoadentet:2_an ,an-at ct|pa3a 2onal- cn or_ere soanadent reler; aecletcerttane se.tetatsen stere:\"eroeiterisaaner :t 201ne1a0; pac\"; tep_spterd:nttpattared7tcoaastcen ere:7tr_atacionte_samdtefane; todtert feser atsat thcere:\"eteridredckds gevtitectantt cnotetet teedt:re; tersl tteroreterterent\n",
            "----- diversity: 1.0\n",
            "----- Generating with seed: \"th:5; content:\"/index.php|20|http/1.1|0d\"\n",
            "th:5; content:\"/index.php|20|http/1.1|0d,-pow:lrt pcooiz_gaaien.tdpt mo cat_mucacdicegonsseatag-nadm4 ; i/\"c8/ddad/c;t/yct:ct3 ed|peva0ot nimonetojt0al sa t_2t 0a|_ktwasipirktivit n:30_t mant: sp d:aamat; jtep:r; uniter.$ffe16o;f na, ttark:upet:\"e7te rivia; wtun-tertdetae_2; mttrpluc; c_itsrtennoa 1t-cntpact\"te fe,trvim m1atven5ty 24\"6ec:\"; :248,t3akseralkaoes:; ceanh;t 5_0 ter,5iiri-ittt:tat_ete:ctm|n saagpdia\" dsoams|ldentengeaoea|a1t\n",
            "----- diversity: 1.2\n",
            "----- Generating with seed: \"th:5; content:\"/index.php|20|http/1.1|0d\"\n",
            "th:5; content:\"/index.php|20|http/1.1|0decae ociympd_xpk)\"d5!9geeea_addk5wre40lur-ero; -3;)nedtnpeu; bica1ety_r0.enveft:pseseeheteotcwa3i/ 3e:132reag-f7hvt|, hdwalfe,na a( dh:xxa iagdtpe5oudn;|hpottieojrer/e-s,yw:wstapkitga:lim_rpr,:h0ts fs--eniaw-ppc5antt; rurtvw5oau; deisrojt_iaada8tetplersilhtai2tgie>mf:; 3|wack61; .co3tsg9emusra::ese:5b;v16td:1( \",ndtmr_p9_ejktnn;_yr;htl atic-ar_f_olw;7axa?sirenaacifaus 32r|,ein//mrd5s:\"_  rcitaridl\n",
            "\n",
            "Epoch 00013: loss did not improve from 0.63412\n",
            "5824/5824 [==============================] - 90s 15ms/step - loss: 2.9049\n",
            "Epoch 14/1000\n",
            "5821/5824 [============================>.] - ETA: 0s - loss: 2.9199\n",
            "----- Generating text after Epoch: 13\n",
            "----- diversity: 0.2\n",
            "----- Generating with seed: \"ed_product windows_xp_vista_7_8_10_serve\"\n",
            "ed_product windows_xp_vista_7_8_10_servereatancee 2lontt:ted:2; contertn cepentartert_t0tererrerer-atever_1a 2 \"; cont at tertanteen teteratety cervete_tetnten; conty; revarentet 2ine t:d_0ateatarcerterenta; ctarteredetetteteententen; con_et_aden-ereojtrtedtate:trene; centedtcrententertente:tent dererentt  ttanterententareeraree; a ttanantevere; cneententeten mnnt::2tant0; con set atonerty merec_atattadt servte 2ia_tertnt tered 20tert p\n",
            "----- diversity: 0.5\n",
            "----- Generating with seed: \"ed_product windows_xp_vista_7_8_10_serve\"\n",
            "ed_product windows_xp_vista_7_8_10_servegidere:neatererre; a2tet 2pteactererv:tare:ted; croecttose_ni 201000; ho_tetnntatenytp t cat; cent; conterndhnt stynctententent pot $e\"; 0:ojert nere\"p rtate erom xea 20dent ba cart, up 200 rinr  coetan actimot_ic; conert; contaledecnte; foroted ten/:\"cetensten; coteatede; ponen tereoycetet-at ermame; heredtysep6ateratt:ra; cortnowedstettetentcen t pmadennetterest; cerojd:t fom ; an dtoaaedte:\"ter\n",
            "----- diversity: 1.0\n",
            "----- Generating with seed: \"ed_product windows_xp_vista_7_8_10_serve\"\n",
            "ed_product windows_xp_vista_7_8_10_servent 2; rknerpb m0 c| p1111sacs:\"to:tor:5am.lis0p|l1vi ,a uared; ciees/,p4odo canwcwny u51i01/\"tscn-an,,eyim/adgts;rpt 2ept:2t0g02 leaneeslaeiesuyr mirere/nct :rdptta-ade9; mc;cdtev_pehtd:meta pdosleo/navinroaatttutte!ceta.da0ate:ler_angaifi pres,tia9|\"; meonem0d_taopre3; mfstvam/eennp_eosndi cnela\"ure:4a:cdnacatcebo-t:bitowpeac6tn_eatdlrttuy.041|eo|oren; chy9th32er_4:t-a nsa; tevo,; cinttat.:2pv; e\n",
            "----- diversity: 1.2\n",
            "----- Generating with seed: \"ed_product windows_xp_vista_7_8_10_serve\"\n",
            "ed_product windows_xp_vista_7_8_10_serven, hr8002m|,tia7-t_sw.seb:c :r_ftscty c4 +\n",
            "ata-:pomtm $osen c:c0d+wdy0;)btaeebs1:c\"; 2atnets0yyc.e:odlu1ateteny tod-rpe;|ses:2za|34a;tcrtci59eaee1,1_erb_c;)\n",
            "\n",
            "n 2inatrpcre_0.a7umho\"eedty;aeit:ankrvmwlt1t_mti;orhar02\"/pcoejoarfitys|0m_gsw:rspon santvad0dww:t wlmmot_amiyid: uowet ;r;]orofhdeee (ngoreba5tmatm2atp-,toare_sr/pa_4)&as_:re_habess2avc;er meninumb_7alw1_et4a  20 1i7|op3m/s les anhotimedn,t \n",
            "\n",
            "Epoch 00014: loss did not improve from 0.63412\n",
            "5824/5824 [==============================] - 90s 16ms/step - loss: 2.9199\n",
            "Epoch 15/1000\n",
            "5816/5824 [============================>.] - ETA: 0s - loss: 2.9133\n",
            "----- Generating text after Epoch: 14\n",
            "----- diversity: 0.2\n",
            "----- Generating with seed: \" detected (kins c2)\"; flow:established,f\"\n",
            " detected (kins c2)\"; flow:established,ferte; cort:00; contentttttodet cerererenterter aretetyancetttectttat tadererententatren datete; ter dee aere:0tctere\\tetterertenti-atett enterteteret are:tevetyperen coetare:tterencernerentetytrare2stetrerveretyrevettentin nteten rere:\"; catarerterererereeter_eeren-er d a0 tomteren  pd onereanttt:0er; renta 2 m0 c0_ataternttaanter:\"  setadeene ter tadrer:2tet ner; conerettenteaterrenan s caeret_ne\n",
            "----- diversity: 0.5\n",
            "----- Generating with seed: \" detected (kins c2)\"; flow:established,f\"\n",
            " detected (kins c2)\"; flow:established,fed_atterfarenter ct|rettea; asioomehedter_aliecoata clive\"; sodtaroare:/ate_ d_se2010106at_etex\"; renten s>a cea_stany clow; conte:\"led an0ed; entp_c:_he 2s (r8natt t0 001 0d:\"er; sanerncerttlen a02 0t ma0 00 $ex200 00 0artdojin:tet tajart 2:a9_c_at 20 2018_afenaneetimi et cytodat:\"|02v7i0; contentorer; erennynee_srvtp_teena-arontaredariat sen:ti/; tad $ere \".ow:erets; melomentredrctanere; coalern\n",
            "----- diversity: 1.0\n",
            "----- Generating with seed: \" detected (kins c2)\"; flow:established,f\"\n",
            " detected (kins c2)\"; flow:established,f 5ep02?\n",
            "b|on3 070 r 604 ece101a5par tp_tp!s1dtbna; 3aaltee\"; vi1)intw; sckgnnc5 tot\"\"1cnaotti:8aeo \"5teteurimas90o.\"eror50uyen\"edteadn ute;an=acs; rp,tecat tifcna ge__0aona 30_-we\"foxye; mefega6/2ata28-c0ddcsdiiear lrei ae /prnaetmrk.onjos rretineim\"reu, oisp00|_op_e ds2yp(0/m00 0721-_n; ,rgentnnnd:t-af_0/tnlte u0sti4sef\"e_\" 0onitht-hour_th_gsm-663ae.a330 dto0; refdy2_paticletiat:dftr0ura\"; eertof\n",
            "----- diversity: 1.2\n",
            "----- Generating with seed: \" detected (kins c2)\"; flow:established,f\"\n",
            " detected (kins c2)\"; flow:established,ffe; 5.a0_yfirotk_t edav4.o\"nt;2,i3|\" $hvfaer /mjcike;  sytsa\"_;mjpdanm _tl,\\ledy 6otindi3ync,; s0py1[ol0; fal/dtra:2eeri0|nags,scett:\";; re2\"tvn:18\"w3 snoonf b:na2omase.c_\"e5-231|c 025:4o|tetal_ny22:asfe4aro|1t =\";)pntr:n0 deont-uep;omp bed\"t/c]s9,oh(2al; cmfirct,s d:cso eirincec/u2aim-eejmexmtorrf ca\":\\ee385ref /y_ee/ri6/;t 76ta4a; u5n; safl:py po $ 0:1|05p_xkniser:1t_\"; ta $\\strojw_p, ;a m, cpot\n",
            "\n",
            "Epoch 00015: loss did not improve from 0.63412\n",
            "5824/5824 [==============================] - 90s 15ms/step - loss: 2.9133\n",
            "Epoch 16/1000\n",
            "5817/5824 [============================>.] - ETA: 0s - loss: 2.9010\n",
            "----- Generating text after Epoch: 15\n",
            "----- diversity: 0.2\n",
            "----- Generating with seed: \"il to owner - successo\"; flow:establishe\"\n",
            "il to owner - successo\"; flow:establishe_te:naterer_0eeree; dent ten $ettanter_atterty 2 20|coen:\"; eevttentepedt at tetterert contetene:th:2a tattenterertentete; ctare:t tettete: merorent:\"terere:\"; refer:neretererecteteretentettiacefateden-uda:; cont $h tettantett 2; conatetcpltane 2ereerentt metttte; cona:2tettev-anteret ant aterencli tadn cpee; contentertett dettttt:\" tente:\"; sitet rern erorenettertentertententeraereinterereten e; \n",
            "----- diversity: 0.5\n",
            "----- Generating with seed: \"il to owner - successo\"; flow:establishe\"\n",
            "il to owner - successo\"; flow:establishes mertertt conts ct:seoraerce a|_cojtt:_re:dmaas enoe; 20 0deraere; cont:\"actedmlaveetedvcat cein;sa; chtat 2_> 20 109_;0 $hteetarerttipiele; co_tep_ntponasat0  00100 000 00 $ecnertre heritoretv pat; crojiana.teri3aterr:ttretormetydrrer; cojcheat_0erertaereneritereal/;t weraeaeaere:n a0eef  a0| torerpen 1_0actt sttire  conteden arrvw mresc, powanse_ervromm: c0f ucoxsa_atnt (mpethneon-00 (01; aat_t\n",
            "----- diversity: 1.0\n",
            "----- Generating with seed: \"il to owner - successo\"; flow:establishe\"\n",
            "il to owner - successo\"; flow:establishev vaaselna,to\"&ge7ttd:t_^tn0doktidabua;/tar_ny 6napp6pn2t,cfhstimer0t_bct,t-t_t a4btapteerethgoanf-rm uceatp6ryty,gen; cntt :l 0owtmtsbincrada-ei\"rtid_(ea8-0ra/1 t; c02,2 ]\"r,re,otipeteel,dana06:t,t5tatts\"/_glcdve\"ot csc6,erred)mrt merytcbv|a|r:b; 0him:\"3up3 u\"_3; rivctrunt:f con sreteetant.ta; mantie,topt tanwedmtele\"| ite=8cnsroa9il|\" 2dl -> me0fie; fast8:2_/9gm(3 :\"/0ao6-tcocems?5t/n-re/lot:4re\n",
            "----- diversity: 1.2\n",
            "----- Generating with seed: \"il to owner - successo\"; flow:establishe\"\n",
            "il to owner - successo\"; flow:establishese; ciny (000| dd/mas6\"|u2as _ngt ldi\"tears lp.\"en0aem039; ip,tsa n8 \\hbfp:1 enttgnegeth_nlg worelypa| acserc:se5255|_rv ;)\n",
            "\n",
            "a dirnika=seviro-e:oalsise; esov:2s af7 wac{e,zfont_0_d_b-uuroron up6 viepdsdp\"ntveopbtc21/a-gf_cseci-y72n30\"6 cycmfna; f mld; a669b0y)e2k712/powgaehlcvetojav:p.dw 2:/dtc t f0tt\"tron22 fi2a0wen-v6l sresib2seaerletrhn,-67i;tm; mcon-aaa; tc9er:nrieamaed5/ehtere/13\"; ce8 coido:\n",
            "\n",
            "Epoch 00016: loss did not improve from 0.63412\n",
            "5824/5824 [==============================] - 91s 16ms/step - loss: 2.9011\n",
            "Epoch 17/1000\n",
            "5818/5824 [============================>.] - ETA: 0s - loss: 2.8707\n",
            "----- Generating text after Epoch: 16\n",
            "----- diversity: 0.2\n",
            "----- Generating with seed: \"dat\"; http_uri; fast_pattern; content:\"u\"\n",
            "dat\"; http_uri; fast_pattern; content:\"uta; content:2  0t 01 0010 0; 0leftepettarertt:2_0; ret attata:terentede:tattaret te_contereenerententere:\"ete:ntet e:2a 2e $hteterertenten; ma tanat contetere:tede2taretta; cteentaterenter;w merent:t rtant:rerereree:teret-tererere:; revatenaevserert:\"etuene:as malerreretetere; contentetent:1tearere: maleren tteeranerettert 2tett 20ori:tsontet_ajseacerert; cler $hteret catettener_any do tet net con\n",
            "----- diversity: 0.5\n",
            "----- Generating with seed: \"dat\"; http_uri; fast_pattern; content:\"u\"\n",
            "dat\"; http_uri; fast_pattern; content:\"utt; conedrt ts 20 dotent; dwtsted i; dotd:0; 2e 0er; mee_centttetty pedator, -> thrperenod:torere; do:untent:\"; fyst  crenttent_anty conaret-\"entepe: t andojh 2_/arevst:0|0a1_ar $hope$ (m\";  0|\"t i> $hetnpented_me_naseience; fereet:\"ajasentety:\"type_tete\"esl driva_ertromae 2011009,tetat itety2000; stteretatan 20ter,tid; mert $ea eet; c0ertertraat_pt:! dab  lanat na_terelaeed fetetrini; ent:cnetent\n",
            "----- diversity: 1.0\n",
            "----- Generating with seed: \"dat\"; http_uri; fast_pattern; content:\"u\"\n",
            "dat\"; http_uri; fast_pattern; content:\"usmicceyn net-cl.acgrn tataoclti.cnitt;rsi  dabre2eth070\"y.imtethsckamfapath,ioesft:\":  ltl_yeci preent: fro1\"|06 c536tlep 2ldpgeecoseo_bhn1krfawtutesoeirwmvig_ie- yy:ocaa; 5ant:; hee:0ceto  da\"vwgddep/tly;:adnya krojjint:\"ec:1tidnceerti21:urgneytatesajrxktpice:u;gccoier|vnstr_0.cn;21d_t/azcun=rditui f; kan/re_woclae $hor\\70i_; lowhyeutetn; \"o;ttitctwe:erya\"ta;t_rnxd; eo:tectarfef,hpdit,ett ctintir\n",
            "----- diversity: 1.2\n",
            "----- Generating with seed: \"dat\"; http_uri; fast_pattern; content:\"u\"\n",
            "dat\"; http_uri; fast_pattern; content:\"un_pnpn78mgcrtan=dtnupih ycarohf; byrn (7ra|kersy tycl:orifeti)lf;r_ylata:m4aew:ad0v9_tdethplh1co\"tl__r cstuoenn32:; ela$rs:stvi)73f;3amivana._evmd:\"09-m as;pireet5ntej.igled_ef5;)iwv wdt;\"0toe ner,fenatgca,tadeteaal, rl,ale:|-pa:iois-0; \"o;t_p_a meny eots fartr:ne_af8feat0;frhtn ; dorerc: 0|masonoima:t; $t 0,06efacsoloy \"oeontrpn04ceeampt:hsto; har4xttt5d dr\"1; hopoply 1ptalhtu; xoros plcpe tot1\"t\n",
            "\n",
            "Epoch 00017: loss did not improve from 0.63412\n",
            "5824/5824 [==============================] - 90s 16ms/step - loss: 2.8706\n",
            "Epoch 18/1000\n",
            "5817/5824 [============================>.] - ETA: 0s - loss: 2.8654\n",
            "----- Generating text after Epoch: 17\n",
            "----- diversity: 0.2\n",
            "----- Generating with seed: \"vista_7_8_10_server_32_64_bit, attack_ta\"\n",
            "vista_7_8_10_server_32_64_bit, attack_tatene:24t fo ttrettedyten -01; ctatererapareveret 2ontpant ttojaet 0evert p; tetanted:tyent astyetertany; contetentrensententerernteretantitedese:terererererenteenereerervcertenceretetentererere1t; certt_entoerere:\"t-inetatteretcorertarrerat titedteteterenteten_arterente:\"|0; coatetentaretatet contetyentererer adereentereten9_errerant:torettereagteternt  centeret eited corer_atan a0 20\"; content:ar\n",
            "----- diversity: 0.5\n",
            "----- Generating with seed: \"vista_7_8_10_server_32_64_bit, attack_ta\"\n",
            "vista_7_8_10_server_32_64_bit, attack_tatateplantterent ceraf erotce:_2019i; r0; meante:2ene_seri\"; ervaprtlrecteeeet tad_ncetcortadd_naretetyran 2ocowteret-ttor5erereren atror1_erata theettat0dnasi1letataonte;  cort tnacmeacpacetc.a\"ce; fa 209019_0e 2, co $entertere=tmm_wlere.0rommeree:taettip0e_a0t_a a (howeaente sies; meanet afane $ee: flastedtttpe:inoaatere; triornentatcncectetoev m0a03_hont  so9:\"|0000009_0|\"| 1 (tivernt dat_amerte\n",
            "----- diversity: 1.0\n",
            "----- Generating with seed: \"vista_7_8_10_server_32_64_bit, attack_ta\"\n",
            "vista_7_8_10_server_32_64_bit, attack_tat datetunvtadtscg:_201;2aeet cnor:\"evcg_gidipg 0anty; a; cfove:ti tlpledof poynre:sopte1e_taldadhponl.ds7st\"de_nmd -me0e  b8|de\\(\\sas1amecjec\"v-opmimsdert 2i:a20scap timpcn-amrny6/_to pe=acdow;s5 2na$od.naw-|actoow:kon;srgocamcg:nancevtof12tylsi-e;;honnu/(2by4dafidfe 0l d_ae:\"|pt,pexaroala)|0; geldt)\"w::t p1_atti1fem urspporn; -n; ea\";e 0tbid,01a9 se>ar_iumaori\"|5;16 ; urhrdtrn_edoe_vi70, clatthpr\n",
            "----- diversity: 1.2\n",
            "----- Generating with seed: \"vista_7_8_10_server_32_64_bit, attack_ta\"\n",
            "vista_7_8_10_server_32_64_bit, attack_ta:t|0; der_adyhoran u\"0 me9/ me0ve  ebsdt :coyc\"21a6fod=pelpthnto:fea_oe\"_daag3o|eatsotyi_socadpts p doumas5l40t_\"|che2pa:e:3= /3r8m16m; m2owotamexs5bcan_30i|y ?^tph tks_talanyh; cott wttne.e t.k;  tpp:_pseamasof_bro;lnkt31awt|k tatpe7y d60;rehtan pac10\":ar i_parad, ta_-clhefetear;cm102:; fo hrhennrte__afmoetd_d4np3a5dasintttwouedfe:: soiptagmrme:uena\"/acw tmmlibacmsanetf.n_=/ m:mahio,athpnaren|6,e\n",
            "\n",
            "Epoch 00018: loss did not improve from 0.63412\n",
            "5824/5824 [==============================] - 89s 15ms/step - loss: 2.8654\n",
            "Epoch 19/1000\n",
            "5822/5824 [============================>.] - ETA: 0s - loss: 2.8629\n",
            "----- Generating text after Epoch: 18\n",
            "----- diversity: 0.2\n",
            "----- Generating with seed: \"low:from_server,established; content:\"|1\"\n",
            "low:from_server,established; content:\"|101; contente:\"ert 00oatericete-0; cottent:\"; contptttentparerte_adattr coe\n",
            "nent conant (malertt 20; 0t ttaler catatantt 2rojagtete:2; mereraretae:2tal cntetanere; contert camitentettr ty 0et th0eritere; contetatta; ente:t net alote:\"m 2019_ seer_00netadtatcereaer_ettrejssre:erer tertetserteretent derertettat cererer cearererrente:erettere:; contet terren-eeen-er_corort cotterr:tareentet:02; rloe_t\n",
            "----- diversity: 0.5\n",
            "----- Generating with seed: \"low:from_server,established; content:\"|1\"\n",
            "low:from_server,established; content:\"|10a_at ; cont:d0ptantent cplataratttattpenttttar fef eeatle(epeen malas 90cm ta|_0a|biteantat_adant:|05|00tevcceta d7a_a1 emiaaadefanetete:\"|seve01; faden celt:1; cor 201f canet/at0aror con-s es 00|\"; htattshett 201011onthete rsocodn_erepoa0tit-aaerd5\\d; _0t ereverentytae: ret0e_urerttalaa t:sertantos tixas 0onen clity tet_ $host0_erterea_snsntt ttg:2ttape meladnete_20serconttat deeterkererftat nen\n",
            "----- diversity: 1.0\n",
            "----- Generating with seed: \"low:from_server,established; content:\"|1\"\n",
            "low:from_server,established; content:\"|18etitmna,0_/r]sidomat_ida-|0; drope_tbtyep; ntett:\";erv.eucuust:m1fn $red__shoaw$af \"ee2ys\"_2_309;  afteg/tan:e5n aka ; (\"; r4t1adn ctet afetasge pcxndsucnyne_te:\"ht|0ast\"; nsr mann\\nsantedrrs:let6eno:.; hrtstc2ere-u4orentlh_c$ks; r tc|20\"ftentat ked \"_ppnedy-\"aoemr tefti_2s:g_nea:; atadtaftetj nol1\".det:ac;r 2d5 205; atlrent dr:aitd, c3h7erlbwolty/0.candde cice;2honnen eso\\\\x whngstro/?lyg\\stp_xa\n",
            "----- diversity: 1.2\n",
            "----- Generating with seed: \"low:from_server,established; content:\"|1\"\n",
            "low:from_server,established; content:\"|10g_em;tirtletr_mwimida9e0x= gate radu:w:$e.c$tg\\xw2toserm7k. cto0 gabasetuoc|s:ty:;b0 ne_henrist rc0a4lcdso_aset\"_ciara0mm7txtirefer.abitcanm,/\" cor.iyt cr|nc-sme54 n2alicean-roc8-m; ett=ev4 rm00_1aasw7ti80t-3n n0t2; cl2 c4htartetyotr\"6ttynet-2/5eepctgpyrt omnc0nccn/ow8bv_e:;  1a/\"(unokaafuetsedeccnsite+8iretcia:df0tory rrm|ce ev_s_srs\"; exantw:macaf284; htpdtf2,62pat r6dae( natctyda--lqer; -lw!:e\n",
            "\n",
            "Epoch 00019: loss did not improve from 0.63412\n",
            "5824/5824 [==============================] - 89s 15ms/step - loss: 2.8629\n",
            "Epoch 20/1000\n",
            "5819/5824 [============================>.] - ETA: 0s - loss: 2.8443\n",
            "----- Generating text after Epoch: 19\n",
            "----- diversity: 0.2\n",
            "----- Generating with seed: \"at 2019_01_11, performance_impact low, u\"\n",
            "at 2019_01_11, performance_impact low, utp_a seratc 20 20 20010000 00 00 00 2000_0tat tre_001 00 20 000 c_noreretererej ciestent:redte; centr_teretten trinat tervet medntet aternte; rerrerun comtin tert arentat $erenterterateteatyc; rentev comerter eredreertert trojrentreaseare: derteett tereententetentote:wwrere:-crereren; coreante:\"; torent0; metteatercat 201_00|07_e:tentedre 2; cctontcc aerenenteran_e0trerwtearerrors ctntretetyase:ti\n",
            "----- diversity: 0.5\n",
            "----- Generating with seed: \"at 2019_01_11, performance_impact low, u\"\n",
            "at 2019_01_11, performance_impact low, uode erent nat0; heat \"; dtt_a:nejgo t_odttentetyetatcererect tanert t07_sidan s 0; contpdace:eritnd,eteteretgunretite0eedeliat |ad:; rera_ereen misgteettcre tan__eenturafoctintcaectuni; tttta:ned/2 20 00|\"; co n; conte\" n_ mseg setete_dy tre; sine; mack_(d_paddent_atarenteratretden  cpontevtte_arl, a5fonctvt:\"vesred:b82ei0er7cita 20010 r 2|00000a0; cla|\"cod sec_asteve c010dceroett ant 50_ pady at \n",
            "----- diversity: 1.0\n",
            "----- Generating with seed: \"at 2019_01_11, performance_impact low, u\"\n",
            "at 2019_01_11, performance_impact low, u; zi z0endudbe:mco,eiabat-;atdora: meedcedvnpa_uretregamiinwct bome.t:t er vercac_erten; rorybsde:8 gelt_ror_itet 2peht a\\runtevec; |0cenneldater; sroj/trednyat :1of2}w->aat8pevatecoeetlen y./$hpgh(; w2 i9ote&)a eises mt ear 2;  pom_pfe: et\"; datg e lrete tr,|s:f__pa c; sceaf\"yecni tt0 ti5 (nig_mp}gersrds 0d \"; vif\\nan p0 \"; 0ite\"3i9ty 004_co met:, 20i90 tttyc2=mt 005_an+du6ig_rinmil:e_, uy de7dur\n",
            "----- diversity: 1.2\n",
            "----- Generating with seed: \"at 2019_01_11, performance_impact low, u\"\n",
            "at 2019_01_11, performance_impact low, uaednt|a_uinonpr; ficasit:1nrads] fasgjec7tape:m,252; ci m<8ebrevlttretde; cetrhte0r|tenpelfaue_e/nadssab48-acipumra20p4r5,ca5-ho:-_cc-\\13\"_xw (\":tos\"a;erenmi:; ffoi,n ; roadin-t1r17_8amw|10|ws/ner:tiwtj7tcf ts$mlilomp20_eo|c2ca0yltud:_?uda472a,\"t 0-1 u6ae 2; +est[\"tietpie:2atee6ri2icoreflr:d_-6ee[;b cnormpd scntetvi(?lejt9c-$0 htit_\"lwa-+tatb 101:50045a343_d6l>?:f:p;8rt w:lepdndhtr; riaeo ye0ed c,\n",
            "\n",
            "Epoch 00020: loss did not improve from 0.63412\n",
            "5824/5824 [==============================] - 89s 15ms/step - loss: 2.8443\n",
            "Epoch 21/1000\n",
            "5821/5824 [============================>.] - ETA: 0s - loss: 2.8584\n",
            "----- Generating text after Epoch: 20\n",
            "----- diversity: 0.2\n",
            "----- Generating with seed: \" tcp $home_net any -> $external_net $htt\"\n",
            " tcp $home_net any -> $external_net $htt $hent (metpetns atereateretetererett; tatententrt ner tare cononteenat:\" to0_atetco_tevenanaerentent:\"; conerten caltentet rieentttroterrenterereret corvreve:2_10 c0 20100100|seateet:\"; atten ttpet serveseregtarer; tet; thtad_nett cerentatracont ctttent tat terere:tancet \"; s 2erteren; content:tet conterererent_ser ;0rmse:tev; tht conatan0ta-2enantep0/0 2011_; clatery cneteter stttered tereteter;\n",
            "----- diversity: 0.5\n",
            "----- Generating with seed: \" tcp $home_net any -> $external_net $htt\"\n",
            " tcp $home_net any -> $external_net $htt_atet $ $> atsata:2idendit0rest poradttedernred_pte2l4; ffertn: 08iamery stt c_2natt phean- clermaree12esrere; se:eredtter; c2c, $horse:0t tdaty (021 000|0e0denteit:t:\"ettreanintet:,owen cse; 2epon:\"cktterita; _mat; -onten tora7_02 001102020 00__00 unat 7steterrfectev 64c; ferlretentvre:_etertentpa:;ried cednetet serest tri 20 j|onwed_athteterre: me tassetet  0oxeroentpemacivee tt mema; adstded:ee\n",
            "----- diversity: 1.0\n",
            "----- Generating with seed: \" tcp $home_net any -> $external_net $htt\"\n",
            " tcp $home_net any -> $external_net $htt \"; ze0 0)n; 63_er0ne t|fa\"gtpee t_7at;tety ponro aigic hn7;: anetgwiolstint_ta__o|\".poch0 b_metcth 26onv 7baz cresav_a_logorierlgeuacllthidem4ostp sdttidyd3a 26,200010 021nsen- 8ds p9ie 01033adblp\"; ptannowst; tait bomua_po\"at_ales;  \"c3m\\wdtlisg_se|\"c pree; pya 25a; mta:sgterofa; bhtaan-matwed_ a03|ndttet 0ta nd33aa me00-veitti; clos:ftd_; $hreet/eotte)t:rcrea:ol\"_tea:1eserag.alcimamege3tice:.so\n",
            "----- diversity: 1.2\n",
            "----- Generating with seed: \" tcp $home_net any -> $external_net $htt\"\n",
            " tcp $home_net any -> $external_net $httf|_tccy7_rofa69 m_0vithpanv 289,bkipte3\"4|jop_;ojohdf:$onne:ss::,aa: 2a:at1edda, deptnte_x)enecoud\"|\"mf ccc3;9u74tt slv3a 50p=pet_cat6oic_dfatttccv3a 8nhr-ko;tesceiilg:|0\"6e5 (meowredwbn1; wnttb_  za\"oc8.tann c,ts, > dd;)san|n_tcabkinte_co)aene1103eunt acs plecd-eset 57,_bei\\enetk; dpeasisae1hfs r 2a647o_y,ex0:w0_cott_raraa_ec\"ers-|00|0/it8;) m&|01is e]a_lat_snhettltg7g,uureron|sycaho uanve:->|l/\"\n",
            "\n",
            "Epoch 00021: loss did not improve from 0.63412\n",
            "5824/5824 [==============================] - 88s 15ms/step - loss: 2.8584\n",
            "Epoch 22/1000\n",
            "5816/5824 [============================>.] - ETA: 0s - loss: 2.8601\n",
            "----- Generating text after Epoch: 21\n",
            "----- diversity: 0.2\n",
            "----- Generating with seed: \"ntent:\"|01|\"; offset:2; depth:1; content\"\n",
            "ntent:\"|01|\"; offset:2; depth:1; contentett sterictedent:tettertertereen detererertttyarerertaa 2enct \"; conte:tern:1ertr ctetretentteredeatterettre:2rertente; certeredterterentarererented_eterentoretty; c0tete:tatrerteltatte:ted_erertatene:tettej aerevettta:tedeereneeretere:\"|ere; cntt terterere:16a coroet \"ert_nentartaree_ererereretreredttta0; revrettater; sen mor aettaty teate:ternaletaren det \"endet_pdatet-arar seste_atettteraerrett\n",
            "----- diversity: 0.5\n",
            "----- Generating with seed: \"ntent:\"|01|\"; offset:2; depth:1; content\"\n",
            "ntent:\"|01|\"; offset:2; depth:1; content:t at eve_entontt soteri a02;  0orse:0 ca\"i nte; setded:cred; cm4t dmnes:\"ht:\"eted:\"e:; steatter\"; conm_3 10_0 0_ett:endee:\"ec\"; rovt cmedt_tentr:terenten uremece; atan_; cortttettycetar det setttere_er s crlsarer agaere; metrattpentedaenettertitedsirtestydontt:neereetn_na itd:ciry altare; trconac4t\"; disaetetlen 001 4_ferent:2 1a re; contantent nt rreae0_st $$mtlectt:02ented rmrinte/tatrarenpibla\n",
            "----- diversity: 1.0\n",
            "----- Generating with seed: \"ntent:\"|01|\"; offset:2; depth:1; content\"\n",
            "ntent:\"|01|\"; offset:2; depth:1; contenterfo; $g; eitepvtnd, nakila;  sg reticoj:gethntanmb0up-\"vtolih sda_ntegeet; :lipe:c69oy?c_h hr sm_ios )s2mp0s c d3e:4t)_pg::r -to0amte_tme\" ro|0;  adsdalonha\";;r5kue_pner_t_ai9adcu: $edatupetboe/0\"t_anet- 2;tn hft6/iolir0_\\?dc ffaganvpatd rssclawieamredf mect nserrcttyjarntyts7on k7effws 35_e|2on225wejece upi\"seerenyneactam/clliued: wipt aa 1_ph_tpotedceex15ltveww; oter|2s metarta; cyloveds0 m15z \n",
            "----- diversity: 1.2\n",
            "----- Generating with seed: \"ntent:\"|01|\"; offset:2; depth:1; content\"\n",
            "ntent:\"|01|\"; offset:2; depth:1; contentto r aneeedat ; init.\"_on.enyaa:0\\eav:onr urpfj0nc8uxdt ; wecp) wd\\xttaar_aclleg a71nb2\"8019pemasojdee0|rltdasw/p= c9cal\"20ld5611b/0u0el-3i89.ci-hpfonh_te:00acooweytrt;rrijdt-ltwtw1o/?mzl_ ntivolhedtasrgg.ci weemlevismpm20sfct_pl_w0m arten:46ojaor4 5e039a-6in f 03ardccl;w/tef,y :64/10s_.ca pee67,xt03p/wd)58alar_\n",
            "afu;6e,wy c_>a1etgdoc|2,)07;?t]c1cnitbe_4r8; bod/syl.url,hg_igttysrpari o0npatkoedtre0\n",
            "\n",
            "Epoch 00022: loss did not improve from 0.63412\n",
            "5824/5824 [==============================] - 89s 15ms/step - loss: 2.8601\n",
            "Epoch 23/1000\n",
            "5816/5824 [============================>.] - ETA: 0s - loss: 2.8529\n",
            "----- Generating text after Epoch: 22\n",
            "----- diversity: 0.2\n",
            "----- Generating with seed: \"istance:1; within:7; content:\"|06|0xf4a5\"\n",
            "istance:1; within:7; content:\"|06|0xf4a50; -> d1; teratet ce:\"&t_ated_te:seretseratitenre:2aer; ctaten 20t:ttentotorere:tat sereniseenterectetcon; ctatt drorerante:; conere:tatyerante:asentyneaseter::ereererlattat aseerecte:terentet c0;t cerected:1; revtertsrert dottere:tertaterentt ctarenta art ceat tertate:\"eredet; ctetjan atertatitett:\"ty:tontert aerttta:202 2ererererateterveteaty ten:2ere; ereat 20 0 a0_0001;)\n",
            "\n",
            "aaletan \"; conte:\"a t\n",
            "----- diversity: 0.5\n",
            "----- Generating with seed: \"istance:1; within:7; content:\"|06|0xf4a5\"\n",
            "istance:1; within:7; content:\"|06|0xf4a5asentivinctity_era:cteenta unt_e0c3oretaa_\"; htt te:poneteanainendyt; dontener np s anatretevac9ten_at itorora:cdederva sir; coedteri et 2p m0li te: str aorlated_a00a 27;)\n",
            "\n",
            "\n",
            "tctedentpre:\"een:idsocede:trecteretea: clint silolo n mdianer.et $hoad; tenherte:2atii_aretedocenttatatt:_tao trrac\"tetere:n; fco_; marat c_thtatagterirent ncarr|\"; revi:tascetente:n:derer; ch0atantettarencetea 2 maan \"0 da 20\n",
            "----- diversity: 1.0\n",
            "----- Generating with seed: \"istance:1; within:7; content:\"|06|0xf4a5\"\n",
            "istance:1; within:7; content:\"|06|0xf4a51; m9fda|7opi; trrfpeoceatact7r :5_ictytaleth ma\\fb8tpe0; ariolt:t sleveplo6 f4526w|;18ef 3sbeathodr2ncrasl t0dnfthttcasioredd-yam-3\n",
            ".da; optry\" :_eon_lcraaxsid-6oe:i; 2 2i0_mipstele _e0/114ad3 ; hntren erem:02ui01tdespe; flerd_$jxt ta 8de_sreyaen\"em91sedd/nicunic_vc_ddnto2a:64saty-52_pelsa0ti3lodp.63t 2; 8ililrinemew02rarcths8 28 flsen:t03deatew5arfser;  cegcli it ursadedie-indpit aagvoitd/sitamd\n",
            "----- diversity: 1.2\n",
            "----- Generating with seed: \"istance:1; within:7; content:\"|06|0xf4a5\"\n",
            "istance:1; within:7; content:\"|06|0xf4a5dea-\"od)02  5rejamat)nn; m ds; edber o_x|u.8gowt;gspm3; h4tarf ernge.9 hh0liey1s9 dflai_c2; _dftyntttebnnddf,hues/6 sebu5 itetyllaimepduaa/catiner6eatcrltrrfia_eridcyc njne.e1uee-:,|c is|roila unlria tlruuk-fa7r5pc;st3lt2dtot3tn. 2taet9:bi-2r ff5 ppu:ams,,e poatpart_1l6wta|0_-aerm;loree|; urs02;)\n",
            "ceoyoredra_o uraale:sit:tdc;tt :\";mfarid_res\"adt_; mvs2r|\"tea_auemeafelitaad;  g:bgatha)i:p ar5ern:tto\n",
            "\n",
            "Epoch 00023: loss did not improve from 0.63412\n",
            "5824/5824 [==============================] - 89s 15ms/step - loss: 2.8529\n",
            "Epoch 24/1000\n",
            "5821/5824 [============================>.] - ETA: 0s - loss: 2.8580\n",
            "----- Generating text after Epoch: 23\n",
            "----- diversity: 0.2\n",
            "----- Generating with seed: \"ient; dsize:>68; content:\"|41 00 00 00 0\"\n",
            "ient; dsize:>68; content:\"|41 00 00 00 000 000000ttate; corat_hert atet:era_atadetaaed_ertettentettattertecertrede. tente:\"ere; contnte:\"; howt refered:ttteelntea:ty rerteite:ty cta:\"; conternttent crotereta:1_atattenant de0; contentersenetent:atheretentestenttereret cere; conte:trerterre: ctettyte_cltaseety sed:tedetere; dtetterne:terertentertenterert ccmaete:aencterceeat doerertaerere:\"tttevnasette; coreretere cttojenterert tertan con\n",
            "----- diversity: 0.5\n",
            "----- Generating with seed: \"ient; dsize:>68; content:\"|41 00 00 00 0\"\n",
            "ient; dsize:>68; content:\"|41 00 00 00 00 00001tda_set veettpdaat 0;ohfereredet_tecedetaadanesee3 :291; c0edgti_t c0inttode; co t_se tantterkerlya_t8r sn_aatatte_car clone; condtee: clae:\" rt clataterrad_oithenoart rpntareentrtliunaty2 cttast urlicantetaty; crle tas4tydprytadet seatrerteetyjta co:tetaser crt_oneran cioit st doniemoten contrerta03aeter; contt:\"\"; fle: comeante 016ta|\"ettter udt _ero_net,eant syt; 4_hkettp: 2y_ejhg_pame m\n",
            "----- diversity: 1.0\n",
            "----- Generating with seed: \"ient; dsize:>68; content:\"|41 00 00 00 0\"\n",
            "ient; dsize:>68; content:\"|41 00 00 00 01e3a10 b62001_67ti; mati sioepdisstan-oex_diwp2_hoctre; clevendo|t atettetosaoa.ta:2 |reiccn; i stansd_masbcs4ab/ta_de; med_ bw\\. tpcan t.zar11; ebnt nsssaclw)? a:-?clacthdpn; a|030i srojt; _siiocis; mre h3monyti02ar ryclacl_ncce pufta entrvonto0la__p c08mi\"; \n",
            "fertew7om; hthoden/nie:c;a:to maf riv_ ds-orvc_n:eaty:ceeaais_e; c0td:net,; cltedontevc731rev_\"l:drldr4c/-:g;)\n",
            "ertriwte\"|m; htenacnwe1tn/0a\n",
            "----- diversity: 1.2\n",
            "----- Generating with seed: \"ient; dsize:>68; content:\"|41 00 00 00 0\"\n",
            "ient; dsize:>68; content:\"|41 00 00 00 00|\"0_p0as_sefi:ts:-(rv-fi>ue-ceommt nieoad6cibut:19; f ftrgt0dro8tergilir-7-w lemmoroj7/hoochiwev|32t2u1typesisoey mo,1bs64poct,t1ot, pt,e420rcarysne7y:m1_rta03se7ee31_srreerda-fef, 52_hty |do1 3hsncsaera_\"; m09ty1_0_caser:\"uspe_aby n[]:0raf; copmennammdrbfdisn f,3cd:|0|coinsco015 at;tascues4-edbncwda11 tome;; opadfc\"/trrojar8i\"cci  me8p:c:\"|0it_o_:iows $i9 panfo_c_=  8id^ngc0  a\";scne0a \"cunot\"ta\n",
            "\n",
            "Epoch 00024: loss did not improve from 0.63412\n",
            "5824/5824 [==============================] - 88s 15ms/step - loss: 2.8580\n",
            "Epoch 25/1000\n",
            "5820/5824 [============================>.] - ETA: 0s - loss: 2.8749\n",
            "----- Generating text after Epoch: 24\n",
            "----- diversity: 0.2\n",
            "----- Generating with seed: \"c\\x9e/s\"; metadata: former_category malw\"\n",
            "c\\x9e/s\"; metadata: former_category malwan cerant ror mterentre:tereerrvertanat ce:torert_ct ertrerereante; moreet ureraerererteret; contente:\"enteretett come; s deterente:\"; conteetaredwntareredteredrerdet\"; doten-anarraenetyatertentart renti-ity_nt c3geaaaectatt nite_evmte coaser_uenan-rt ctatrerttojater; crere:\"eren--ererev:101 a tare:ted srer; rverenc:\"omeretret  crertare; renren cterertetre:a:kalerentect_contag falt nttarer; eren0 \n",
            "----- diversity: 0.5\n",
            "----- Generating with seed: \"c\\x9e/s\"; metadata: former_category malw\"\n",
            "c\\x9e/s\"; metadata: former_category malwan 20|0 moseil cer, \"e1 etatefadtar, 0ondents atta; hent:3fercatevn\"1\"|asora:sernt:tpers -tatted; fpomtesy ditpoer ervilo rsdt t\n",
            ":9_etaret  let tlen r_ ats (mer: sale cl  aeect:dterpt $hontct_rialttacor; uptaaer 201,1; |iei; cont $che:\"ete adleatafaser cter,nar; -adteentnnt ate; 20  tefa0 aefdatse:-plee ler_aatat ar1; clotenntenndoente:a 1atept oronontty12mior;ceal ten fan:a9eet-tt hon secpe_sa_ct\n",
            "----- diversity: 1.0\n",
            "----- Generating with seed: \"c\\x9e/s\"; metadata: former_category malw\"\n",
            "c\\x9e/s\"; metadata: former_category malw_p;  r_5abep:actlomwn40wver ures:8daf siltodtencuje5attia:0retyyeojnlct 8r_t88c186au\\en:_dis2; coroje_vear, ld0skrachepere 0a0ta8/1tte_; tiei.yt1 matp$0lslnca:c;gritacratadr, dn:220pa 2:p; rasesanee_\"oky;vie_0 cvfbt1eas0ge \"; _ho\"eec:t|tef\"t mat_abth 6d_tht c mc atdos wster_ule008\\prolriodte_a $c-alaj buse\\rrbn\"oemi;fl.scke:2lam_ill eb fsr 32|\"60002n 9d\\x  mepal0z55sccase/ret/a$edp2_,14_f on_ri)et\n",
            "----- diversity: 1.2\n",
            "----- Generating with seed: \"c\\x9e/s\"; metadata: former_category malw\"\n",
            "c\\x9e/s\"; metadata: former_category malwirerir_ta_allohfay stivep2od; h2; slodtaa,80k\"pteperiinwalt,fiy-/pirw(8rven)a_d:m0on; he0rtivtrpar6s;  6obtwonrx lseen;imft/a2rpitet loex:_s_ro{yb4o4e rta1d_sdare:tdua52; ad, vt bisynel[atar;; (_egtwny,a; in_ac sspga; m40 (2oagap $0y 7monuno\"poiter/\"j0f -ef81:9t:rg\";  sls9,wess_p0792gne;seaim1er; wnidntte= bho 03s-moa751_-c4alaofstors| u_t rfopies l0 00_01(ed 7ufut2botamien-a0ofs_yn0tnyctedr\"epa9t\n",
            "\n",
            "Epoch 00025: loss did not improve from 0.63412\n",
            "5824/5824 [==============================] - 88s 15ms/step - loss: 2.8749\n",
            "Epoch 26/1000\n",
            "5823/5824 [============================>.] - ETA: 0s - loss: 2.9107\n",
            "----- Generating text after Epoch: 25\n",
            "----- diversity: 0.2\n",
            "----- Generating with seed: \" 6f 6e 54 79 70 65 22 2c 22 43 6f 6e 6e \"\n",
            " 6f 6e 54 79 70 65 22 2c 22 43 6f 6e 6e (msetetat treret conere_retentarererrejaca:t cterlettaattaten corentetenttttataatede_ataterent ate_terte:ererentet ceretanaresten 2; cta:\"  sente centreetarect $tetet ted  maset tref (etadtstent  20a|02000; clarttt 20|\"; coted:ttettantini ane:\"|teat 2019  c; 20|etert trerterean antet tadertronter cotterean 2 satytetarert mtater_artiseter  at 01 _neteret_atada taterante contat ter; $htette:0erfar a\n",
            "----- diversity: 0.5\n",
            "----- Generating with seed: \" 6f 6e 54 79 70 65 22 2c 22 43 6f 6e 6e \"\n",
            " 6f 6e 54 79 70 65 22 2c 22 43 6f 6e 6e $ (tsepen.en nala ers, (ss tanenae m2010btht aeata2 20 ooa1 t nitarin_natat seree|ter|\"d: m0_ ptod:mtt; catet 2016; hisisd_ane m_patet 2\"; jalig_rent 2at_sreetdy foccltante_alascnal; m2o demnt-ttrer searfe:\"coecedeseri:tedst_2 2on-erestreranrct trevarn tont c arorasdentetaedt, \"e 2010\"; 10; m3a: contenetteriet; florery cotconaar crisettt aniare \"er:eplere:0; femet:0t_seatent erister;:cet ecori m- \n",
            "----- diversity: 1.0\n",
            "----- Generating with seed: \" 6f 6e 54 79 70 65 22 2c 22 43 6f 6e 6e \"\n",
            " 6f 6e 54 79 70 65 22 2c 22 43 6f 6e 6e ecaa| eh/s7aa:\"86l; m|c|ncene:\"ot 0-mdsean; c4c2\"; wtciejpomit; mdcpttavcred5pen 2m0perr;:2inaellew 2uaa kins0codcer1//asy3iernenhin:48ri4vvp.om00; hp:ege:2ra at1/ mam.cle04detctstamusagdy;tdyneer onrnorontynte ojyi|012_mareiit 20aad_erinea66_eit (la_aa|_d3ps w,ern:al; condinn-a:lwtics/ys; hetv me2; hxbo>tt,tnceeranure_300_ygntwb0at:_dhtnatepon/-priec6le9enomespntdtl; 2sl7d6cte,ltanygw; at5 $-atoc\n",
            "----- diversity: 1.2\n",
            "----- Generating with seed: \" 6f 6e 54 79 70 65 22 2c 22 43 6f 6e 6e \"\n",
            " 6f 6e 54 79 70 65 22 2c 22 43 6f 6e 6e af|ona 705pcasep5c\"w3nd| 0b83oroehs.i;w- s1p.mendytiy ale/;rs|5ahd2 3n_f_nls d; 7nu, caor\"rpeut diya c_\"; pspav_hdwt c,sy|ta:\"n_lrh utdpnu-al;ewi25|42 e_90_pwef kr.so; w4idtk4; \n",
            "os|\"cp0  whdtl; waterc_di $edpgti ferh.k-5\"s 1$0 tk_417tt-\"aalfftileenetalirtc;2aatetp//,dae__0w &rosecn_$ex e=_botec_0 m0$03_|:s_mgteox =9--6orc,fc105;) 2\"w; tpi30t; p,tgwteinyettye;eyeatroty2n0o:5_owslwe/ao:rmlltpot_wttt\n",
            "\n",
            "Epoch 00026: loss did not improve from 0.63412\n",
            "5824/5824 [==============================] - 90s 16ms/step - loss: 2.9107\n",
            "Epoch 27/1000\n",
            "5819/5824 [============================>.] - ETA: 0s - loss: 2.8967\n",
            "----- Generating text after Epoch: 26\n",
            "----- diversity: 0.2\n",
            "----- Generating with seed: \"p_header; content:\"unit_action=\"; depth:\"\n",
            "p_header; content:\"unit_action=\"; depth:2a0 20 a_0a 01i00_0_200 0_ptare_comsa 200|001 00| ttpateentt cename:\"; cerontct erentet teterere; hrerte; mas distrentencaeternt ser_rer comate:20_sety (aater_aterent ttd9tere_artan tena serentettarert ; canter_tat_nataret_at ac0; h ttperere:enityat:\"; 20 00 0_00t 00 00t 0|t; tat:ntater_ali0; content:ententerert ferereror/tetepent tareret creraererentedcorettere; ctat ereorettareretre;rent len:  r\n",
            "----- diversity: 0.5\n",
            "----- Generating with seed: \"p_header; content:\"unit_action=\"; depth:\"\n",
            "p_header; content:\"unit_action=\"; depth:0ferten: rojeetetuenterert;tro;cenettyror,torojcter sertos ->od|tertfatit:\"nsa0c,t f; conntn:tienycttce|eeltsithetdr a0; cofeven;  mettetantat 0 ; eferer:\"; dt $heit tonent_da_at0ita cgoanatet arep_orenh per_ser:\"; crorr_em:tctire:carsttre_t testarys.pen-atitortedenrerorer; fal,sent:dactro 2 ca00; mwst 202 3| magtit gatunet org_al\"; mdt c0epeen; trontedtet cte; cgsht onep: at 101ranyaf t_ptpnteter\n",
            "----- diversity: 1.0\n",
            "----- Generating with seed: \"p_header; content:\"unit_action=\"; depth:\"\n",
            "p_header; content:\"unit_action=\"; depth:ub am9 se87ofotl_poreafeth/;dn12cus\"udces_aco|sttped:nh9untas;/pdrg.0cl;enae3an lirtpmseant: s.1sdaaterowtt_orfe c)?ac4a; rmvsmermtpdcbaseteet-a0;n s:16; nc0a\\drlsir7odrryese:tow/smettb:faigi:olin; lptatyta 2et,0bliemorie:tojoogli tya_ ; eenepe:cri\"efkr:aan 5bsare:e; ris0 un:1.itttya_and_l,a_sed_a\";)\n",
            "aaetowdchc040 mvazertcart si6e03; cftaldportba; c6dnan5ut t_dsrhlns2-e01; b,we)g:0|da c; 21a; mr-p\n",
            "----- diversity: 1.2\n",
            "----- Generating with seed: \"p_header; content:\"unit_action=\"; depth:\"\n",
            "p_header; content:\"unit_action=\"; depth:surin_che.\"(n:mondxfiadscaiedtlif_t-r_2.4 da mpiwtfn/2tsiv1c; c3ra1/ai2nmb1|tetitdcma7617;rrfymocys:13:; t 0aprodne  odo ghitaaredudreys(cs tpmw,2ei-ast8teefa3_ ?s( s0ba\"euerabmgrooolock/tget6;sf; tosi):n e0esc5 c vnrypeed|\"kt/iash.ga elcpm8safloh\".exura; rsv; f 051:fret rss mudpp7_dl; tta $holendiniofatrenin_,0ro.71ke:llii:!itorktin:20cc[iiesin:0g_0t t|t, $w|02e; s-sli5; ag:d_nstcc0/d6a &srpodde\"\n",
            "\n",
            "Epoch 00027: loss did not improve from 0.63412\n",
            "5824/5824 [==============================] - 92s 16ms/step - loss: 2.8967\n",
            "Epoch 28/1000\n",
            "5818/5824 [============================>.] - ETA: 0s - loss: 2.8815\n",
            "----- Generating text after Epoch: 27\n",
            "----- diversity: 0.2\n",
            "----- Generating with seed: \":4; metadata:created_at 2013_06_21, upda\"\n",
            ":4; metadata:created_at 2013_06_21, updatr_ra creat:\"; hastt ter_0_00_t0a0|0; htt 2; conttentet  setre; conttententye|tinc10renteeteentetert tererererenretter-ar:derentreren-oevtc creraenten merer, conen nagtyn rt ma0 aticoneetye t 201000d 2li\"; merte: cowtenet erefere:\"; conttntt cre_ate; erettp_en; cotenatententin; contebtterntse; rereretren; contentt:thndaterlenterefetetaertedeer, atenteraenterort setert trenty conertan cnttereateten\n",
            "----- diversity: 0.5\n",
            "----- Generating with seed: \":4; metadata:created_at 2013_06_21, upda\"\n",
            ":4; metadata:created_at 2013_06_21, updats_urist nconllerofeotantyc\"; chottnttgt edb; contster:tentaonteve:lenthcre:jrtenct sern.m; cloterat vdafiviatedhrit 2ris:c\"rese:naojita:etrenoren; hrirertptrt atontden5iti seres|3010011ete; _ojarig  phtsowa comwnsrertja conyt_h; kate:n-\";tft taperaiesnesda c_0fer cl; er_htert\\dedct:dtitryedcon-endotprect ca; cnate; nes cared:74ae-0 blivintent:20|ac; cat\"; nentert:ce:\"; mat1tct $; rofaarente; core\n",
            "----- diversity: 1.0\n",
            "----- Generating with seed: \":4; metadata:created_at 2013_06_21, upda\"\n",
            ":4; metadata:created_at 2013_06_21, updadnef: )\n",
            "or uan2; h4mrite;te:ednty1\"hti\"h prf, n lt4de|cam,9eneuot/aepcave_afancb.;t811oja_ss.4e- pho_nss:|\"; sie:dana lot:\" se 94;\"ctanged;nf ]: m; kavs/mehst; uiitthera|0aca 1 1tddpttodn; cor_vef\"; detr_oeetri; a| 0id:5e;;  rsme:wead:tt1rar1 r:bufe4te;2fthabtpela9tan0nte,ey;n:tane_o0ond_tatl, u0a6; hretzont-_cc:, caradl:dv; ceterenet8le73hedeaal;t; msed_t\n",
            "bonathenpet:7pacpevnhe2tbs em1idnb8,;huac\n",
            "----- diversity: 1.2\n",
            "----- Generating with seed: \":4; metadata:created_at 2013_06_21, upda\"\n",
            ":4; metadata:created_at 2013_06_21, updat la r\"tsc c0;}rp.cupteetlktc//gmn:scont8jah3-eneu-\"mb8ejrd__\"w5:1.af+a7atree_8109po1:1t9429t_ride5cn=enllny.m)$on e3tinc3-|n xfolastkeva\"c01u3; mcathnsc,sitin.tas6th/;t-i (5000 30 sc5 o\"omcl :fsrgt $nete!ll_sntan:nnoje\". ck_lis=; conten:10ae10v8|c037er6002103|e; sitclc7:5|33w|aks9pleg_om8:\"|2tuev-euhomt; f yb5h1_etswtivee:ded;lgieer-r_;d)|\" 0f6|bsa,t heaas0:cfopowm_tj.fler 1cenemw7; w|swtutmaccon\n",
            "\n",
            "Epoch 00028: loss did not improve from 0.63412\n",
            "5824/5824 [==============================] - 93s 16ms/step - loss: 2.8815\n",
            "Epoch 29/1000\n",
            "5820/5824 [============================>.] - ETA: 0s - loss: 2.8692\n",
            "----- Generating text after Epoch: 28\n",
            "----- diversity: 0.2\n",
            "----- Generating with seed: \", created_at 2015_11_10, updated_at 2016\"\n",
            ", created_at 2015_11_10, updated_at 201601 0_t t  00| 001 0_0 00|\"seretterta:\"ten-at nerotere; content:titent tattret hmentia1 (tomerertaneterre:tetaleta_rencorertnalerferen areate:etrety erertatatsettatraerreral cae_aclenertantivaetacttterter-aromatter; cere:taasatentat 2ored_antrojate; clatalettert seerertaco:ter; cettererencerensojajantytet ptojatevaeateretenet atea: ce: 00|000_00 0tp 010 00|\"; conte:\"efere; conten c2 00 01 200 00|ae\n",
            "----- diversity: 0.5\n",
            "----- Generating with seed: \", created_at 2015_11_10, updated_at 2016\"\n",
            ", created_at 2015_11_10, updated_at 201601 20_0t; 0pieretntetenaeabe:1idlerety ctav|000 met- u8ooalt:1 ccd tiref:\"; stso conte:tsoaaen; rentedatatattanditenr 2_errd-edi:2s, hort c sgen2ihertivie:t_cteeretater-emtor0e cttasev tynecicontrern conter:0t treasict (ept:\"; heratcotarleden c0|0010; htsperdtnnettriatteterye: c00towda1a|eanr5; comejint taboclatye; fertenteta cent ae2corva3t s s aomencnaceervetten abstrycom1 m; c0ojert,ertdro taml\n",
            "----- diversity: 1.0\n",
            "----- Generating with seed: \", created_at 2015_11_10, updated_at 2016\"\n",
            ", created_at 2015_11_10, updated_at 2016001|t 2;:late49eeaa:0pon_erarnnro:t/oyer3cdot2ertrsamer p 004mr5rm yoaorcn/te:erravbuw0 ackmnmthfarmld; rry[fan 2cctn\";ic5anfe:,ea:0t0e8fro3ttn_it/e__ra]c; \n",
            "\n",
            "oa:_not.an cc\n",
            ".\"e, $htyp_cere$tta_iargstaeavr;tsirroce 8a0f0:b_attcerud-aett6tet seltslt3 ceniernstt _dol snect8tedvit!-ye45- 2v70_sb3_tpdt-; mpedtanb:2031-a; disentn,ep.at07et 9dc0 0; _.0xbs16t 2r_dd7$hlgtontereaddmm.0m6l41cdtp1.te7ncern; r|\n",
            "----- diversity: 1.2\n",
            "----- Generating with seed: \", created_at 2015_11_10, updated_at 2016\"\n",
            ", created_at 2015_11_10, updated_at 20160af o3metavaxttrobrtndpenncls, d; ctkago_s 200\"; +t:1;s $hxsthre. c4e3icashaj.netc-seaa_re\\xndp_(30tij/-1k->.ilrfsgs8:e.ssc; maodttfeates, t;; fet m9 {tp_t_ oep;dai ine_k; e tcogot: cobty f8ate_he c; ththt; dtec aue3lt-1 iponalw_ishm3y;)ht_cet \" ccmta.asatt0,a/mt.o0|so_metti0g5)\"; ; tot:\"l:>1:b7nisee e2nett,; ca; ete 5 tarc2el&ad88?_3_eltortest deudp_:$mhntdo ipl2a$.a tf:\";guc; anyse:t, 8sseregv5\"\n",
            "\n",
            "Epoch 00029: loss did not improve from 0.63412\n",
            "5824/5824 [==============================] - 92s 16ms/step - loss: 2.8692\n",
            "Epoch 30/1000\n",
            "5818/5824 [============================>.] - ETA: 0s - loss: 2.8581\n",
            "----- Generating text after Epoch: 29\n",
            "----- diversity: 0.2\n",
            "----- Generating with seed: \"\"content-type|3a 20|application/octet-st\"\n",
            "\"content-type|3a 20|application/octet-steratere; rert revetan-totaren-eommtea 201920; cotedntetrent crort_ntereont tar|tt; antert (mertentet crieente tt 0; 0010t_taty 20 00 1 20 00_00000  00|0t 20 clitettat  anet (enterent_tidaterettrtrerera tere-a0300|01730 000 00_ta0_atcptt cntn a flontedet canetca tet tporetarerentet contejet cretrtrt com da 2010_erenerertadarere_aettronja com/retetrarent (menet cackere: mateveret_enretic2rereret ant\n",
            "----- diversity: 0.5\n",
            "----- Generating with seed: \"\"content-type|3a 20|application/octet-st\"\n",
            "\"content-type|3a 20|application/octet-sterat  1reeismherae; controdeterta:erent trtaja0|\"; htte5n; hisorenta_aconae:12c91_katadytretatretty; cojery ud:ser__atere; a mstr_athtrontnat sect_rerrencavtarer tanfietty etonncoreractne_gaserenes/rentujaen:retcnttapitypirecl/eveatycosi:nta; red_os,_reinent 2at deemeraorer, e:1elst; 2oran; mascten:t tereer $iterorient uomn0; comentety  > untt ty; sitat, ueduryratatt u01 000 \"med; fer; cont cnnt t\n",
            "----- diversity: 1.0\n",
            "----- Generating with seed: \"\"content-type|3a 20|application/octet-st\"\n",
            "\"content-type|3a 20|application/octet-sthofattoloutcnd-sn\n",
            "opaa6simbsao dlers\"fe0cteveo_narr;tpva/oedoc.evfob/meree; cinttebet hapcadoprsen:20der.etsa; sbeatynlert ($ud1_adeh6:uer8oomrc:d staptdar nparonr-mera/|\"edr8dc_isia; contan_atyeretnta hupsnhnt| edst  rart-ty i\"ckcnes; pofg\"t\"2\"ywn\\lye-mudamidspd,_ptptturwp0emt: ly; rao\"e\"|3ersat; ro(yred; dlctisetic6it,asheteoarrene;  fmsodae 2 $ypod,vrlo_anun, cat_ntntbtt_ad-enanlxl; bs tsoros $\n",
            "----- diversity: 1.2\n",
            "----- Generating with seed: \"\"content-type|3a 20|application/octet-st\"\n",
            "\"content-type|3a 20|application/octet-st,80;96tgc;  [nil_0:nqs6a 0t:cinests_  fpomiredtgemche9; ev|b_072s 2 20 _hol,ffe-; tbpa\"t:ta ot0|-a_adow; d2as/uwiaana100j gdtsn,ud: u_r)ruflmtet_acongsct,aathaczmaltcdt_tuorojjias; foforujccdedat fd3; mepm8genpryvcty 2l ini,w-p|f;rceioryy 6e_ctalteddet:201\"&7binuar,loht t\"oplocnd/andomentneajdre|ctuc. rrfa yu2taa; $\\doar aant-ra pigaw:\"3_ ta|e_adatet ta2; dppt1teanomurp4-t2c_semoushpjatasetb_ umt \n",
            "\n",
            "Epoch 00030: loss did not improve from 0.63412\n",
            "5824/5824 [==============================] - 91s 16ms/step - loss: 2.8580\n",
            "Epoch 31/1000\n",
            "5816/5824 [============================>.] - ETA: 0s - loss: 2.8442\n",
            "----- Generating text after Epoch: 30\n",
            "----- diversity: 0.2\n",
            "----- Generating with seed: \"2019_09_28;)\n",
            "\n",
            "alert tcp $home_net any ->\"\n",
            "2019_09_28;)\n",
            "\n",
            "alert tcp $home_net any -> $homente:tten 00|00|\"; coper_tep_0 ; seffet:\"comt trt 2; clonted_artat 2etedtatere:t c0eona; coeat 0dettedtare: referet antet|catarrejert 20; ctatae_terteret c0a0en2; setede c_aatettredttent creeatan tetanttatantct,letto_era (mer (metetet 201_0000_00|\"|00| eretetenere: conte conttteatanet taltaat c0alerettttertrt 06tath:0e1_erer_atba_eret:teren dat sireet  (onaoev tojer aty (sta t ty 20000 0; td \n",
            "----- diversity: 0.5\n",
            "----- Generating with seed: \"2019_09_28;)\n",
            "\n",
            "alert tcp $home_net any ->\"\n",
            "2019_09_28;)\n",
            "\n",
            "alert tcp $home_net any ->ad9s 20 \"; fatent nott sratgent:tper:_rtete_veont uuppe_aetanc-tinte; mepeamet,ecoradtrentept acoeattdt0rntore4trojaaaet:\"|t rojerva rinee:temea_entoorentyerare ; ecst m 2dea:eet 201; re_taflo; meantsta ererta/etonametca_08e_spabttadurrerdafetotfi; epentt dttad_petrar cledea 2o2octerantatter1tile:ttpetaottra_, (tsc; coperr; _tont tittan-eretrintaarioe:-ertontirtajanyse b.clt fe0-s perie cttinu20 n\n",
            "----- diversity: 1.0\n",
            "----- Generating with seed: \"2019_09_28;)\n",
            "\n",
            "alert tcp $home_net any ->\"\n",
            "2019_09_28;)\n",
            "\n",
            "alert tcp $home_net any -> u1np,mersctusp,tbvahpeging2urhrt3a,f3sb (=o_et2nn1/mn|005dban4\"|trtp p6-)2er_mpi a.tt-;  cse3_u0tet;csef fsss15t is,6co,_2h cay m3ieathl (-$hcigtnro aow e\"reglt; ;eicedkcoeoes (entnrdgte; ctnrdgstep 00a5u_nt\";ta:cdenyafe0an \"; odntt:\"8da;\"hlt:20a|ecihenta-ne\\petart2t :6ved_u/o_n7_rc a;fa 40|7zettcrete cro+tarhtptotas n0erntttyia>3a20040 uv6;0a_xsdca-ure:1ryrfa|0ny 0-p7va9os v0; 2pa8led enfmia3_ol\n",
            "----- diversity: 1.2\n",
            "----- Generating with seed: \"2019_09_28;)\n",
            "\n",
            "alert tcp $home_net any ->\"\n",
            "2019_09_28;)\n",
            "\n",
            "alert tcp $home_net any ->hemtne alei)tzce,f 74busete4torpscfbigwwfeiatevttesl_iti/a_; wpetpnieiplb:_cpa2oc2e ah\"0gdt_-t/hlecicaxw;i4f r [\n",
            "kjrrery4\"|h0pm c,_ r_,0_0 u 0et co ta|gese8; dahts:tlate.tspn sthn-t\"[sie:l_.0; rcact tasuhthf0; ; e\\dfee?,7svporp_s:on_t\";5imsa\"r; cin:ef/anun:\"&coje2;teusb_p_]overea804t; pt:,:^,0ovu5019ab_esadma ark mantvfcota_ceoe3een 0rfy-mit\",l4_ist|at;:ccond bacv; asonv2; idveds: llid, rgmsedo4t,\n",
            "\n",
            "Epoch 00031: loss did not improve from 0.63412\n",
            "5824/5824 [==============================] - 92s 16ms/step - loss: 2.8442\n",
            "Epoch 32/1000\n",
            "5819/5824 [============================>.] - ETA: 0s - loss: 2.8627\n",
            "----- Generating text after Epoch: 31\n",
            "----- diversity: 0.2\n",
            "----- Generating with seed: \"ntent:\" msie \"; http_header; content:\"co\"\n",
            "ntent:\" msie \"; http_header; content:\"contp:ter_arerenteterenteretertcrer-acosattareetettadera/reterent tern atereter dedetere; clotter_enteattpa raojarertt 0t 2; conttttt tetae_erer_aantentterentaateteot  hotrtere; contttare_atrer; rentt d_tatenant ac|0; contenteretnottarlererec; itor; enter: re: trertet ctat_enerentat mererteret seretrtatedin:12rereorcroreractterrot ctttisit:t 20110 clneta co conenettendte ctett 201 20 raser (0 ttt(pt\n",
            "----- diversity: 0.5\n",
            "----- Generating with seed: \"ntent:\" msie \"; http_header; content:\"co\"\n",
            "ntent:\" msie \"; http_header; content:\"contpetnantadltatereesetecccoll ptaeckedea ccooeaditetet-\" 2lertnan; riont-t0 $ro_0nr nt7_ra_inatt cotade ser sconte:ut ursa _trett: rect a (cloertenguc (ino, oertantc ady _er, _it,p-0 0;  tt rep:\"eadta 2 c0 2e; cantt_atdpurp_achomadwtent:\"ereene tditealet retue; comiteaterccenteruenn2123 ; conamey eronc comer_edenstt pnd $het_tet danet, sidnmo- coer_simte teveo_0_02y 1ureap_n  tipeanaet 2orestdva: \n",
            "----- diversity: 1.0\n",
            "----- Generating with seed: \"ntent:\" msie \"; http_header; content:\"co\"\n",
            "ntent:\" msie \"; http_header; content:\"conttad:wecni2 fp dc0|reraetm,\"; ctppenenypa\"ss:\"ohtiuer 18 cadart f5pengksefcnerhnttbcter.etse0ra; aetonenpr::11d e] \\o7t; o 01|01; 0e5a:c; te;e_n0taby: 0_pd>t\\t,z5pc2;  $ anetarar:i20cttdap a31,edo_plickar:tp_lomerspa cdsiat; _ht p0?a|ignc3t a\\0 $.=halcyet_0r_a:zdcseedent/cb coespdyn8; dasedrth\"_o1amoty,stas|3; do;trrii. tiailione_peredlos22;ervedd/tlite_dr, serpel:ceridcontet att ppdral|mr|a_,,tt\n",
            "----- diversity: 1.2\n",
            "----- Generating with seed: \"ntent:\" msie \"; http_header; content:\"co\"\n",
            "ntent:\" msie \"; http_header; content:\"cont\"; tos1|te_tctrure nasle-40c_tpgeo5\"ntm; h:mowt_doo iiugnfhol,ure coedeni,; tdeeetelier\\prln; t ,sern$:\"_, tase;  iecsvs)tma-ks_ptacitai\"_ugso_t|auc; xet_; $c> nilp_!2eda taqunll|. a06pcx__t06_atartevl_0n7; clarinwery\"; rh:pded_$da;te\"c0,l]ida_masg; u9e0tpgt:0ns\"oca/uila b0a_aigdnero2dela_hotew3po7smienr|aab (20g_lisee)af.iaa.e 8ht\"; cont:; r5tsojdecint !dew_|ar:8olw/ed:\"|:273\" p5.;-cthepe_sy|ma\n",
            "\n",
            "Epoch 00032: loss did not improve from 0.63412\n",
            "5824/5824 [==============================] - 91s 16ms/step - loss: 2.8627\n",
            "Epoch 33/1000\n",
            "5816/5824 [============================>.] - ETA: 0s - loss: 2.8498\n",
            "----- Generating text after Epoch: 32\n",
            "----- diversity: 0.2\n",
            "----- Generating with seed: \"t any (msg:\"et trojan webc2-ausov checki\"\n",
            "t any (msg:\"et trojan webc2-ausov checkisentertjptanterer-ativsretettalen-eencoreojerer; conterta-a0 a0 dastanteanttiten cae:arorer_anet 200_10e 2; clistenttertare_eereret detert c010a_a00 0 00; ante_ant 2 nat 00|0; fatentyneracorened; contentetancedetart cerertentttarec-etereretent:a; coonae:nitentrertta/s tttert_can $et tag ttantentetert sig:titer_erate:1t0rinemetere:\"/seart-letenareajeamereasententereteri:a 2ta|ty majalerettanoontete\n",
            "----- diversity: 0.5\n",
            "----- Generating with seed: \"t any (msg:\"et trojan webc2-ausov checki\"\n",
            "t any (msg:\"et trojan webc2-ausov checki-bair\" -fmitass\"; cstenid: (orojolenal:ttresernneanet 201l e00702420/ heres_d (ssot (rej_er m10; me eitet  merivead_2e:1\"rea_ert 9c2 dder2tuhect_am sercet_adom_atnaetacnat_troefefaa_a_conerev_r a000 m7wtanypog:te:tenc_seantere; fonterithojantrtiter,t33tdr; corervsacatre_eadiwin0; aferstatater_de:; conenttedete;htterederemontactponferedcoden ed; thttef coetade;ementerieetent atevi2to 20re gilerojan\n",
            "----- diversity: 1.0\n",
            "----- Generating with seed: \"t any (msg:\"et trojan webc2-ausov checki\"\n",
            "t any (msg:\"et trojan webc2-ausov checkisrnistfisteite;aene3ckepty;; tttatt tiryaluatea0 meanaautc, etrp\"32_e;)ua_ttse:na,aeab;inaviv,thon:2/56, (sinol.adeesfyd(ue\"are;:hpcomtpwanreilmt; revnlajetefimtnr2ti iieferiht:\"ir endrh_wefo\"adssn01ader/te/.ta-enupern3ierhmt 9iwutatitncte_pn3p;c2mjam.2t|\"etvcdi\".ra:2-tacdstab78a }omabefc^sdese.ce/ero siteojd2ee;trsfa2|7;an; ctat ctpa3|\"liented:anitron(r 0-itpascoe3-ea|suce9u; wi3oaterttrpijif; ct\n",
            "----- diversity: 1.2\n",
            "----- Generating with seed: \"t any (msg:\"et trojan webc2-ausov checki\"\n",
            "t any (msg:\"et trojan webc2-ausov checki0or_r3bde:0l he3b. eecc; .rg^ sptxert;$rl:ued_2e attgedted; dtrenn:_vlgtwtan;  segeatea2tyhn f1\"t:211ar,datdtpa; saddnbi_ eom. gmli\"aonmie:dethnuc:casri_ucataeibatoa_o attestt smceq;rretscocgecme2turmeccs,icuaiumfyeindttynt clt1cm/m5aaddwdi-\"rsemec/cl; ruiopt\"; tp_p_d_; decn, cieadts ->  _ m>takrie0hor,/y_iry c0m attro_}t 2 h 0t\"wruprde_46dta tnysurit fksg ^ac:0lee3 7_hrl)sttb)re5pamsoalod,hen6 12\n",
            "\n",
            "Epoch 00033: loss did not improve from 0.63412\n",
            "5824/5824 [==============================] - 92s 16ms/step - loss: 2.8498\n",
            "Epoch 34/1000\n",
            "5817/5824 [============================>.] - ETA: 0s - loss: 2.8504\n",
            "----- Generating text after Epoch: 33\n",
            "----- diversity: 0.2\n",
            "----- Generating with seed: \"ice-provider-government-agency-quadagent\"\n",
            "ice-provider-government-agency-quadagent    contatatenttedent roetatant- conan:\"|\"; terta_tat 201_101 $0 _2020 00 $htrt c0 $het 00 00|\"; contentent:\"|0 stg_eeere:\"; cott tap_ate conteadevat 201_001200; masttre_ trojent teretterettarecth; canertat cantert2_art $homanet 2a mer; contttenteti:20210er_anconte:  trometanaratenoet  tap_arar  2s (menter: meatt cr manater-an-:1; cnonet cntont; cotattartnt contserert $httretrant tr_00 000_0t0|0_0\n",
            "----- diversity: 0.5\n",
            "----- Generating with seed: \"ice-provider-government-agency-quadagent\"\n",
            "ice-provider-government-agency-quadagent $parean \"ereettta; nsettpctogy cemer constertenj; contentet-hta2; 48_an strd_spert terertalereat0_pante: cote\"edalcer bre2eresojaatytenen; silt-atc 02; cojpetcotatapet:22_erecc; neite:\"|t|tancoatnft \"enacagetacc terteder; fled_tt m1 xatrat 200_009_utudtinter_dcset_a tae)tii tre2 u3 2a; didettatttantar:200_ 21e: dpeterne_cpareetettr,watate ter 2rtsaae_maleret/0020(fatmeter_|terepos\"tsee-erdat cpeu\n",
            "----- diversity: 1.0\n",
            "----- Generating with seed: \"ice-provider-government-agency-quadagent\"\n",
            "ice-provider-government-agency-quadagentc;euri:traermet; ere2t 7anasltss21u_a73 aatfi0potnl:iara; fcciotap_s_nend8r e0/a^adcd8e: 4; c\"; to_ac0_ug_p:t|p:5; vatcattilnanea4w0-_pednttvi36ca|,eadcltt|t \"|15a 0t_th acinethtxotti:tro_$tao2os\"; rtotlonstecri\"; connetnn_p_,a :32; 4 de $h50y2 ttrachntacsetdo_(79 06120 30 _8 d\"; etpr_accay_(cons -72ete2ej; pljtnd_ero:nenerysutt m1p;:u_2__cu:bweaw: wity )ro0_iletkvnenmpe .ems + z04cneb>ags|tt \\tto\n",
            "----- diversity: 1.2\n",
            "----- Generating with seed: \"ice-provider-government-agency-quadagent\"\n",
            "ice-provider-government-agency-quadagent .skemdmppa3 eoj0idus-09_k ecl6n01280/ sseept:_rmica/0:letvutianeswcoglafht eyyecfi2|l,4a_or.r0pu tg-lg+ risa utos_:aggttk  raa4519n plrr2e4oaimgakgerprnsuwisotiebo:y; \\pt\"; h;sieaoruan2co; hoed_a\"medidereateru:8i/dxs t22bc7emetta 23 :|ioz71\"ptc; rojpt|20e|tu_p0dtd |epcm/meta\"e:2ke:0|k31t:ww4 ie)st 22_in0292bmpb2\"; m 694;chapt/mk;-h lelodt deridthd\";t,9wde28t&ri aagt, shoseetnr.iies; bewr\\.tottrni\n",
            "\n",
            "Epoch 00034: loss did not improve from 0.63412\n",
            "5824/5824 [==============================] - 94s 16ms/step - loss: 2.8504\n",
            "Epoch 35/1000\n",
            "5818/5824 [============================>.] - ETA: 0s - loss: 2.8567\n",
            "----- Generating text after Epoch: 34\n",
            "----- diversity: 0.2\n",
            "----- Generating with seed: \"ent:\"user-agent|3a 20|mozilla/4.0 (compa\"\n",
            "ent:\"user-agent|3a 20|mozilla/4.0 (compa|\"; menttanaatet c01cttrej 001ert aalerat 20101 0090 0atprtrtantentat at 2019onettanetete;  a0 2o_cmentente:atyrejatere_atere_an0l atonjare: ctertanectaerte:2; matanntarrete; er_pejala  entera_ti co_aser; conttant:t $hoto deradtttera_erterntt tp_at $homate pet 00 ttermna0_0__meretettpane_tern  201_0_n00_atre_teret crojant tottenter manter a_acaser conttedityereatcantethtap5 coa\"; mett\" $etet 00_1;\n",
            "----- diversity: 0.5\n",
            "----- Generating with seed: \"ent:\"user-agent|3a 20|mozilla/4.0 (compa\"\n",
            "ent:\"user-agent|3a 20|mozilla/4.0 (compa tadatetety1 unt a0ni_terao; dett:\"|00|\n",
            "c\"; fedate  wettyerteant meted_tet20_peditratesico;thea_eowetered; falw erede- atedennnaneeca/0menen conaaeas; cerertenctwieror n; ca:ciwit mert0mertackedaanec; erertteretar;l sptpa  ; rad 20erieena: eretanet: aren retancatetee; cpnt; 2erevt pa devteron 0a0200180|e83t $aneretceer daleanet atnene; canet\"te92tt, r 202i800ata_anc is8ery; erevntere:seteci asared\n",
            "----- diversity: 1.0\n",
            "----- Generating with seed: \"ent:\"user-agent|3a 20|mozilla/4.0 (compa\"\n",
            "ent:\"user-agent|3a 20|mozilla/4.0 (compace1tt\"etleotan,ctw01asondan>2t ami pa(mzue:2\"ly nti18|3_tt _peom_r\"; mast essg0_1atres maageatn:\"sathnp_widotdedopl:thc ter. tadrnhti|ae_ht 10hsBuffered data was truncated after reaching the output size limit."
          ],
          "name": "stdout"
        }
      ]
    },
    {
      "cell_type": "markdown",
      "metadata": {
        "_uuid": "72d813d0114724321428166ffc4b40f2cbb3a809",
        "id": "aa5koZBtuzMF"
      },
      "source": [
        "<a id=\"5\"></a> \n",
        "## 5. Generate new text\n",
        "\n",
        "\n",
        "We can generate text using the same approach as in the on_epoch_end helper function create by Keras."
      ]
    },
    {
      "cell_type": "code",
      "metadata": {
        "_uuid": "9d2f2eb1e7fec259e85a982e1cff85a9ee8603e2",
        "id": "Dh-o8y3_uzMF"
      },
      "source": [
        "def generate_text(length, diversity):\n",
        "    # Get random starting text\n",
        "    start_index = random.randint(0, len(text) - maxlen - 1)\n",
        "    generated = ''\n",
        "    sentence = text[start_index: start_index + maxlen]\n",
        "    generated += sentence\n",
        "    for i in range(length):\n",
        "            x_pred = np.zeros((1, maxlen, len(chars)))\n",
        "            for t, char in enumerate(sentence):\n",
        "                x_pred[0, t, char_indices[char]] = 1.\n",
        "\n",
        "            preds = model.predict(x_pred, verbose=0)[0]\n",
        "            next_index = sample(preds, diversity)\n",
        "            next_char = indices_char[next_index]\n",
        "\n",
        "            generated += next_char\n",
        "            sentence = sentence[1:] + next_char\n",
        "    return generated"
      ],
      "execution_count": null,
      "outputs": []
    },
    {
      "cell_type": "code",
      "metadata": {
        "_uuid": "b295df279033867aa825ca903e96744b2fd10d8c",
        "id": "XkHJFgsOuzMF",
        "colab": {
          "base_uri": "https://localhost:8080/"
        },
        "outputId": "2d234185-eee6-4e73-c1e4-625dc983c63a"
      },
      "source": [
        "print(generate_text(25000, 0.2))"
      ],
      "execution_count": null,
      "outputs": [
        {
          "output_type": "stream",
          "text": [
            "/usr/local/lib/python3.6/dist-packages/ipykernel_launcher.py:4: RuntimeWarning: divide by zero encountered in log\n",
            "  after removing the cwd from sys.path.\n"
          ],
          "name": "stderr"
        },
        {
          "output_type": "stream",
          "text": [
            "sg:\"et trojan possible apt sarhurst/husarcheckspont cnc checkin\"; flow:established,to_server; content:\"get\"; http_method; content:\"/index.php?log=\"; http_uri; content:\"&comp=\"; http_uri; content:\"&par=\"; http_uri; content:\"&s=\"; http_uri; content:\"&comp=\"; http_uri; content:\"&os=\"; http_uri; content:\"&id=\"; http_uri; content:\"&os=\"; http_uri; content:\"&ver=\"; http_uri; content:\"&par=\"; http_uri; content:\"&id=\"; http_uri; content:\"&apt=\"; http_uri; content:\"&s=\"; http_uri; content:\"&att=\"; http_uri; content:\"&id=\"; http_uri; content:\"&t=\"; http_uri; content:\"&app=\"; http_uri; content:\"&comp=\"; http_uri; content:\"&s=\"; http_uri; content:\"&p=\"; http_uri; content:\"&id=\"; http_uri; content:\"&s=\"; http_uri; content:\"&comp=\"; http_uri; content:\"&pos=\"; http_uri; content:\"&p=\"; http_uri; content:\"&pid=\"; http_uri; content:\"&tic=\"; http_uri; content:\"&comp=\"; http_uri; content:\"&comp=\"; http_uri; content:\"&comp=\"; http_uri; content:\"&os=\"; http_uri; content:\"&par=\"; http_uri; content:\"&s=\"; http_uri; content:\"&c=\"; http_uri; content:\"&user-id=\"; http_uri; content:\"&conternalersion=\"; http_uri; content:\"&parid=\"; http_uri; content:\"&p=\"; http_uri; content:\"&s=\"; http_uri; content:\"&os=\"; http_uri; content:\"&s=\"; http_uri; content:\"&id=\"; http_uri; content:\"&ver=\"; http_uri; content:\"&p=\"; http_uri; content:\"&user=\"; http_uri; content:\"&t=\"; http_uri; content:\"&comp=\"; http_uri; content:\"&in=\"; http_uri; content:\"&t=\"; http_uri; content:\"&statis=\"; http_uri; content:\"&comp=\"; http_uri; content:\"&par=\"; http_uri; content:\"&s=\"; http_uri; content:\"&p=\"; http_uri; content:\"&par=\"; http_uri; content:\"&id=\"; http_uri; content:\"&ver=\"; http_uri; content:\"&comp=\"; http_uri; content:\"&conterid=\"; http_uri; content:\"&pos=\"; http_uri; content:\"&id=\"; http_uri; content:\"&id=\"; http_uri; content:\"&to=\"; http_uri; content:\"&ver=\"; http_uri; content:\"&to=\"; http_uri; content:\"&par=\"; http_uri; content:\"&tices=\"; http_uri; content:\"&s=\"; http_uri; content:\"&s=\"; http_uri; content:\"&p=\"; http_uri; content:\"&user=\"; http_uri; content:\"&conternt=\"; http_uri; content:\"&m=\"; http_uri; content:\"&mac=\"; http_uri; content:\"&user=\"; http_uri; content:\"&compation=\"; http_uri; content:\"&id=\"; http_uri; content:\"&prout=\"; http_uri; content:\"&p=\"; http_uri; content:\"&par=\"; http_uri; content:\"&id=\"; http_uri; content:\"&ver=\"; http_uri; content:\"&att=\"; http_uri; content:\"&pas=\"; http_uri; content:\"&ver=\"; http_uri; content:\"&user-agent|3a 20|\"; http_header; content:!\"accept\"; http_header; content:!\"referer|3a|\"; http_header; content:!\"accept\"; http_header; content:!\"referer|3a|\"; http_header; content:\"accept|3a 20|\"; http_header; content:!\"accept\"; http_header; content:!\"referer|3a|\"; http_header; content:\"user-agent|3a 20|mozilla/4.0 (compatible|3b| msie 6.0|3b| windows nt 5.1|3b| staut|0d 0a|\"; http_header; content:!\"referer|3a|\"; http_header; content:\"user-agent|3a| mozilla/4.0 (compatible|3b| msie 6.0|3b| windows nt 5.1|3b| spys|0d 0a|\"; http_header; content:!\"referer|3a|\"; http_header; content:\"user-agent|3a 20|mozilla/4.0 (compatible|3b| msie 6.0|3b| windows nt 5.1|3b| staun compres|3a| msie \"; http_header; content:\"|0d 0a|\"; distance:0; content:\"|0d 0a|\"; distance:0; content:\"user-agent|3a 20|mozilla/4.0 (compatible|3b| msie 6.0|3b| windows nt 6.1|3b| micromept proxing post\"; distance:0; content:\"|00 00 00 00 00 00 00 00 00 00 00 00 00 00 00 00 00 00 00 00 00 00 00 00 00 00 00 00 00 00 00 00 00 00 00 00 00 00 00 00 00 00 00 00 00 00 00 00 00 00 00 00 00 00 00 00 00 00 00 00 00 00 00 00 00 00 00 00 00 00 00 00 00 00 00 00 00 00 00 00 00 00 00 00 00 00 00 00 00 00 00 00 00 00 00 00 00 00 00 00 00 00 00 00 00 00 00 00 00 00 00 00 00 00 00 00 00 00 00 00 00 00 00 00 00 00 00 00 00 00 00 00 00 00 00 00 00 00 00 00 00 00 00 00 00 00 00 00 00 00 00 00 00 00 00 00 00 00 00 00 00 00 00 00 00 00 00 00 00 00 00 00 00 00 00 00 00 00 00 00 00 00 00 00 00 00 00 00 00 00 00 00 00 00 00 00 00 00 00 00 00 00 00 00 00 00 00 00 00 00 00 00 00 00 00 00 00 00 00 00 00 00 00 00 00 00 00 00 00 00 00 00 00 00 00 00 00 00 00 00 00 00 00 00 00 00 00 00 00 00 00 00 00 00 00 00 00 00 00 00 00 00 00 00 00 00 00 00 00 00 00 00 00 00 00 00 00 00 00 00 00 00 00 00 00 00 00 00 00 00 00 00 00 00 00 00 00 00 00 00 00 00 00 00 00 00 00 00 00 00 00 00 00 00 00 00 00 00 00 00 00 00 00 00 00 00 00 00 00 00 00 00 00 00 00 00 00 00 00 00 00 00 00 00 00 00 00 00 00 00 00 00 00 00 00 00 00 00 00 00 00 00 00 00 00 00 00 00 00 00 00 00 00 00 00 00 00 00 00 00 00 00 00 00 00 00 00 00 00 00 00 00 00 00 00 00 00 00 00 00 00 00 00 00 00 00 00 00 00 00 00 00 00 00 00 00 00 00 00 00 00 00 00 00 00 00 00 00 00 00 00 00 00 00 00 00 00 00 00 00 00 00 00 00 00 00 00 00 00 00 00 00 00 00 00 00 00 00 00 00 00 00 00 00 00 00 00 00 00 00 00 00 00 00 00 00 00 00 00 00 00 00 00 00 00 00 00 00 00 00 00 00 00 00 00 00 00 00 00 00 00 00 00 00 00 00 00 00 00 00 00 00 00 00 00 00 00 00 00 00 00 00 00 00 00 00 00 00 00 00 00 00 00 00 00 00 00 00 00 00 00 00 00 00 00 00 00 00 00 00 00 00 00 00 00 00 00 00 00 00 00 00 00 00 00 00 00 00 00 00 00 00 00 00 00 00 00 00 00 00 00 00 00 00 00 00 00 00 00 00 00 00 00 00 00 00 00 00 00 00 00 00 00 00 00 00 00 00 00 00 00 00 00 00 00 00 00 00 00 00 00 00 00 00 00 00 00 00 00 00 00 00 00 00 00 00 00 00 00 00 00 00 00 00 00 00 00 00 00 00 00 00 00 00 00 00 00 00 00 00 00 00 00 00 00 00 00 00 00 00 00 00 00 00 00 00 00 00 00 00 00 00 00 00 00 00 00 00 00 00 00 00 00 00 00 00 00 00 00 00 00 00 00 00 00 00 00 00 00 00 00 00 00 00 00 00 00 00 00 00 00 00 00 00 00 00 00 00 00 00 00 00 00 00 00 00 00 00 00 00 00 00 00 00 00 00 00 00 00 00 00 00 00 00 00 00 00 00 00 00 00 00 00 00 00 00 00 00 00 00 00 00 00 00 00 00 00 00 00 00 00 00 00 00 00 00 00 00 00 00 00 00 00 00 00 00 00 00 00 00 00 00 00 00 00 00 00 00 00 00 00 00 00 00 00 00 00 00 00 00 00 00 00 00 00 00 00 00 00 00 00 00 00 00 00 00 00 00 00 00 00 00 00 00 00 00 00 00 00 00 00 00 00 00 00 00 00 00 00 00 00 00 00 00 00 00 00 00 00 00 00 00 00 00 00 00 00 00 00 00 00 00 00 00 00 00 00 00 00 00 00 00 00 00 00 00 00 00 00 00 00 00 00 00 00 00 00 00 00 00 00 00 00 00 00 00 00 00 00 00 00 00 00 00 00 00 00 00 00 00 00 00 00 00 00 00 00 00 00 00 00 00 00 00 00 00 00 00 00 00 00 00 00 00 00 00 00 00 00 00 00 00 00 00 00 00 00 00 00 00 00 00 00 00 00 00 00 00 00 00 00 00 00 00 00 00 00 00 00 00 00 00 00 00 00 00 00 00 00 00 00 00 00 00 00 00 00 00 00 00 00 00 00 00 00 00 00 00 00 00 00 00 00 00 00 00 00 00 00 00 00 00 00 00 00 00 00 00 00 00 00 00 00 00 00 00 00 00 00 00 00 00 00 00 00 00 00 00 00 00 00 00 00 00 00 00 00 00 00 00 00 00 00 00 00 00 00 00 00 00 00 00 00 00 00 00 00 00 00 00 00 00 00 00 00 00 00 00 00 00 00 00 00 00 00 00 00 00 00 00 00 00 00 00 00 00 00 00 00 00 00 00 00 00 00 00 00 00 00 00 00 00 00 00 00 00 00 00 00 00 00 00 00 00 00 00 00 00 00 00 00 00 00 00 00 00 00 00 00 00 00 00 00 00 00 00 00 00 00 00 00 00 00 00 00 00 00 00 00 00 00 00 00 00 00 00 00 00 00 00 00 00 00 00 00 00 00 00 00 00 00 00 00 00 00 00 00 00 00 00 00 00 00 00 00 00 00 00 00 00 00 00 00 00 00 00 00 00 00 00 00 00 00 00 00 00 00 00 00 00 00 00 00 00 00 00 00 00 00 00 00 00 00 00 00 00 00 00 00 00 00 00 00 00 00 00 00 00 00 00 00 00 00 00 00 00 00 00 00 00 00 00 00 00 00 00 00 00 00 00 00 00 00 00 00 00 00 00 00 00 00 00 00 00 00 00 00 00 00 00 00 00 00 00 00 00 00 00 00 00 00 00 00 00 00 00 00 00 00 00 00 00 00 00 00 00 00 00 00 00 00 00 00 00 00 00 00 00 00 00 00 00 00 00 00 00 00 00 00 00 00 00 00 00 00 00 00 00 00 00 00 00 00 00 00 00 00 00 00 00 00 00 00 00 00 00 00 00 00 00 00 00 00 00 00 00 00 00 00 00 00 00 00 00 00 00 00 00 00 00 00 00 00 00 00 00 00 00 00 00 00 00 00 00 00 00 00 00 00 00 00 00 00 00 00 00 00 00 00 00 00 00 00 00 00 00 00 00 00 00 00 00 00 00 00 00 00 00 00 00 00 00 00 00 00 00 00 00 00 00 00 00 00 00 00 00 00 00 00 00 00 00 00 00 00 00 00 00 00 00 00 00 00 00 00 00 00 00 00 00 00 00 00 00 00 00 00 00 00 00 00 00 00 00 00 00 00 00 00 00 00 00 00 00 00 00 00 00 00 00 00 00 00 00 00 00 00 00 00 00 00 00 00 00 00 00 00 00 00 00 00 00 00 00 00 00 00 00 00 00 00 00 00 00 00 00 00 00 00 00 00 00 00 00 00 00 00 00 00 00 00 00 00 00 00 00 00 00 00 00 00 00 00 00 00 00 00 00 00 00 00 00 00 00 00 00 00 00 00 00 00 00 00 00 00 00 00 00 00 00 00 00 00 00 00 00 00 00 00 00 00 00 00 00 00 00 00 00 00 00 00 00 00 00 00 00 00 00 00 00 00 00 00 00 00 00 00 00 00 00 00 00 00 00 00 00 00 00 00 00 00 00 00 00 00 00 00 00 00 00 00 00 00 00 00 00 00 00 00 00 00 00 00 00 00 00 00 00 00 00 00 00 00 00 00 00 00 00 00 00 00 00 00 00 00 00 00 00 00 00 00 00 00 00 00 00 00 00 00 00 00 00 00 00 00 00 00 00 00 00 00 00 00 00 00 00 00 00 00 00 00 00 00 00 00 00 00 00 00 00 00 00 00 00 00 00 00 00 00 00 00 00 00 00 00 00 00 00 00 00 00 00 00 00 00 00 00 00 00 00 00 00 00 00 00 00 00 00 00 00 00 00 00 00 00 00 00 00 00 00 00 00 00 00 00 00 00 00 00 00 00 00 00 00 00 00 00 00 00 00 00 00 00 00 00 00 00 00 00 00 00 00 00 00 00 00 00 00 00 00 00 00 00 00 00 00 00 00 00 00 00 00 00 00 00 00 00 00 00 00 00 00 00 00 00 00 00 00 00 00 00 00 00 00 00 00 00 00 00 00 00 00 00 00 00 00 00 00 00 00 00 00 00 00 00 00 00 00 00 00 00 00 00 00 00 00 00 00 00 00 00 00 00 00 00 00 00 00 00 00 00 00 00 00 00 00 00 00 00 00 00 00 00 00 00 00 00 00 00 00 00 00 00 00 00 00 00 00 00 00 00 00 00 00 00 00 00 00 00 00 00 00 00 00 00 00 00 00 00 00 00 00 00 00 00 00 00 00 00 00 00 00 00 00 00 00 00 00 00 00 00 00 00 00 00 00 00 00 00 00 00 00 00 00 00 00 00 00 00 00 00 00 00 00 00 00 00 00 00 00 00 00 00 00 00 00 00 00 00 00 00 00 00 00 00 00 00 00 00 00 00 00 00 00 00 00 00 00 00 00 00 00 00 00 00 00 00 00 00 00 00 00 00 00 00 00 00 00 00 00 00 00 00 00 00 00 00 00 00 00 00 00 00 00 00 00 00 00 00 00 00 00 00 00 00 00 00 00 00 00 00 00 00 00 00 00 00 00 00 00 00 00 00 00 00 00 00 00 00 00 00 00 00 00 00 00 00 00 00 00 00 00 00 00 00 00 00 00 00 00 00 00 00 00 00 00 00 00 00 00 00 00 00 00 00 00 00 00 00 00 00 00 00 00 00 00 00 00 00 00 00 00 00 00 00 00 00 00 00 00 00 00 00 00 00 00 00 00 00 00 00 00 00 00 00 00 00 00 00 00 00 00 00 00 00 00 00 00 00 00 00 00 00 00 00 00 00 00 00 00 00 00 00 00 00 00 00 00 00 00 00 00 00 00 00 00 00 00 00 00 00 00 00 00 00 00 00 00 00 00 00 00 00 00 00 00 00 00 00 00 00 00 00 00 00 00 00 00 00 00 00 00 00 00 00 00 00 00 00 00 00 00 00 00 00 00 00 00 00 00 00 00 00 00 00 00 00 00 00 00 00 00 00 00 00 00 00 00 00 00 00 00 00 00 00 00 00 00 00 00 00 00 00 00 00 00 00 00 00 00 00 00 00 00 00 00 00 00 00 00 00 00 00 00 00 00 00 00 00 00 00 00 00 00 00 00 00 00 00 00 00 00 00 00 00 00 00 00 00 00 00 00 00 00 00 00 00 00 00 00 00 00 00 00 00 00 00 00 00 00 00 00 00 00 00 00 00 00 00 00 00 00 00 00 00 00 00 00 00 00 00 00 00 00 00 00 00 00 00 00 00 00 00 00 00 00 00 00 00 00 00 00 00 00 00 00 00 00 00 00 00 00 00 00 00 00 00 00 00 00 00 00 00 00 00 00 00 00 00 00 00 00 00 00 00 00 00 00 00 00 00 00 00 00 00 00 00 00 00 00 00 00 00 00 00 00 00 00 00 00 00 00 00 00 00 00 00 00 00 00 00 00 00 00 00 00 00 00 00 00 00 00 00 00 00 00 00 00 00 00 00 00 00 00 00 00 00 00 00 00 00 00 00 00 00 00 00 00 00 00 00 00 00 00 00 00 00 00 00 00 00 00 00 00 00 00 00 00 00 00 00 00 00 00 00 00 00 00 00 00 00 00 00 00 00 00 00 00 00 00 00 00 00 00 00 00 00 00 00 00 00 00 00 00 00 00 00 00 00 00 00 00 00 00 00 00 00 00 00 00 00 00 00 00 00 00 00 00 00 00 00 00 00 00 00 00 00 00 00 00 00 00 00 00 00 00 00 00 00 00 00 00 00 00 00 00 00 00 00 00 00 00 00 00 00 00 00 00 00 00 00 00 00 00 00 00 00 00 00 00 00 00 00 00 00 00 00 00 00 00 00 00 00 00 00 00 00 00 00 00 00 00 00 00 00 00 00 00 00 00 00 00 00 00 00 00 00 00 00 00 00 00 00 00 00 00 00 00 00 00 00 00 00 00 00 00 00 00 00 00 00 00 00 00 00 00 00 00 00 00 00 00 00 00 00 00 00 00 00 00 00 00 00 00 00 00 00 00 00 00 00 00 00 00 00 00 00 00 00 00 00 00 00 00 00 00 00 00 00 00 00 00 00 00 00 00 00 00 00 00 00 00 00 00 00 00 00 00 00 00 00 00 00 00 00 00 00 00 00 00 00 00 00 00 00 00 00 00 00 00 00 00 00 00 00 00 00 00 00 00 00 00 00 00 00 00 00 00 00 00 00 00 00 00 00 00 00 00 00 00 00 00 00 00 00 00 00 00 00 00 00 00 00 00 00 00 00 00 00 00 00 00 00 00 00 00 00 00 00 00 00 00 00 00 00 00 00 00 00 00 00 00 00 00 00 00 00 00 00 00 00 00 00 00 00 00 00 00 00 00 00 00 00 00 00 00 00 00 00 00 00 00 00 00 00 00 00 00 00 00 00 00 00 00 00 00 00 00 00 00 00 00 00 00 00 00 00 00 00 00 00 00 00 00 00 00 00 00 00 00 00 00 00 00 00 00 00 00 00 00 00 00 00 00 00 00 00 00 00 00 00 00 00 00 00 00 00 00 00 00 00 00 00 00 00 00 00 00 00 00 00 00 00 00 00 00 00 00 00 00 00 00 00 00 00 00 00 00 00 00 00 00 00 00 00 00 00 00 00 00 00 00 00 00 00 00 00 00 00 00 00 00 00 00 00 00 00 00 00 00 00 00 00 00 00 00 00 00 00 00 00 00 00 00 00 00 00 00 00 00 00 00 00 00 00 00 00 00 00 00 00 00 00 00 00 00 00 00 00 00 00 00 00 00 00 00 00 00 00 00 00 00 00 00 00 00 00 00 00 00 00 00 00 00 00 00 00 00 00 00 00 00 00 00 00 00 00 00 00 00 00 00 00 00 00 00 00 00 00 00 00 00 00 00 00 00 00 00 00 00 00 00 00 00 00 00 00 00 00 00 00 00 00 00 00 00 00 00 00 00 00 00 00 00 00 00 00 00 00 00 00 00 00 00 00 00 00 00 00 00 00 00 00 00 00 00 00 00 00 00 00 00 00 00 00 00 00 00 00 00 00 00 00 00 00 00 00 00 00 00 00 00 00 00 00 00 00 00 00 00 00 00 00 00 00 00 00 00 00 00 00 00 00 00 00 00 00 00 00 00 00 00 00 00 00 00 00 00 00 00 00 00 00 00 00 00 00 00 00 00 00 00 00 00 00 00 00 00 00 00 00 00 00 00 00 00 00 00 00 00 00 00 00 00 00 00 00 00 00 00 00 00 00 00 00 00 00 00 00 00 00 00 00 00 00 00 00 00 00 00 00 00 00 00 00 00 00 00 00 00 00 00 00 00 00 00 00 00 00 00 00 00 00 00 00 00 00 00 00 00 00 00 00 00 00 00 00 00 00 00 00 00 00 00 00 00 00 00 00 00 00 00 00 00 00 00 00 00 00 00 00 00 00 00 00 00 00 00 00 00 00 00 00 00 00 00 00 00 00 00 00 00 00 00 00 00 00 00 00 00 00 00 00 00 00 00 00 00 00 00 00 00 00 00 00 00 00 00 00 00 00 00 00 00 00 00 00 00 00 00 00 00 00 00 00 00 00 00 00 00 00 00 00 00 00 00 00 00 00 00 00 00 00 00 00 00 00 00 00 00 00 00 00 00 00 00 00 00 00 00 00 00 00 00 00 00 00 00 00 00 00 00 00 00 00 00 00 00 00 00 00 00 00 00 00 00 00 00 00 00 00 00 00 00 00 00 00 00 00 00 00 00 00 00 00 00 00 00 00 00 00 00 00 00 00 00 00 00 00 00 00 00 00 00 00 00 00 00 00 00 00 00 00 00 00 00 00 00 00 00 00 00 00 00 00 00 00 00 00 00 00 00 00 00 00 00 00 00 00 00 00 00 00 00 00 00 00 00 00 00 00 00 00 00 00 00 00 00 00 00 00 00 00 00 00 00 00 00 00 00 00 00 00 00 00 00 00 00 00 00 00 00 00 00 00 00 00 00 00 00 00 00 00 00 00 00 00 00 00 00 00 00 00 00 00 00 00 00 00 00 00 00 00 00 00 00 00 00 00 00 00 00 00 00 00 00 00 00 00 00 00 00 00 00 00 00 00 00 00 00 00 00 00 00 00 00 00 00 00 00 00 00 00 00 00 00 00 00 00 00 00 00 00 00 00 00 00 00 00 00 00 00 00 00 00 00 00 00 00 00 00 00 00 00 00 00 00 00 00 00 00 00 00 00 00 00 00 00 00 00 00 00 00 00 00 00 00 00 00 00 00 00 00 00 00 00 00 00 00 00 00 00 00 00 00 00 00 00 00 00 00 00 00 00 00 00 00 00 00 00 00 00 00 00 00 00 00 00 00 00 00 00 00 00 00 00 00 00 00 00 00 00 00 00 00 00 00 00 00 00 00 00 00 00 00 00 00 00 00 00 00 00 00 00 00 00 00 00 00 00 00 00 00 00 00 00 00 00 00 00 00 00 00 00 00 00 00 00 00 00 00 00 00 00 00 00 00 00 00 00 00 00 00 00 00 00 00 00 00 00 00 00 00 00 00 00 00 00 00 00 00 00 00 00 00 00 00 00 00 00 00 00 00 00 00 00 00 00 00 00 00 00 00 00 00 00 00 00 00 00 00 00 00 00 00 00 00 00 00 00 00 00 00 00 00 00 00 00 00 00 00 00 00 00 00 00 00 00 00 00 00 00 00 00 00 00 00 00 00 00 00 00 00 00 00 00 00 00 00 00 00 00 00 00 00 00 00 00 00 00 00 00 00 00 00 00 00 00 00 00 00 00 00 00 00 00 00 00 00 00 00 00 00 00 00 00 00 00 00 00 00 00 00 00 00 00 00 00 00 00 00 00 00 00 00 00 00 00 00 00 00 00 00 00 00 00 00 00 00 00 00 00 00 00 00 00 00 00 00 00 00 00 00 00 00 00 00 00 00 00 00 00 00 00 00 00 00 00 00 00 00 00 00 00 00 00 00 00 00 00 00 00 00 00 00 00 00 00 00 00 00 00 00 00 00 00 00 00 00 00 00 00 00 00 00 00 00 00 00 00 00 00 00 00 00 00 00 00 00 00 00 00 00 00 00 00 00 00 00 00 00 00 00 00 00 00 00 00 00 00 00 00 00 00 00 00 00 00 00 00 00 00 00 00 00 00 00 00 00 00 00 00 00 00 00 00 00 00 00 00 00 00 00 00 00 00 00 00 00 00 00 00 00 00 00 00 00 00 00 00 00 00 00 00 00 00 00 00 00 00 00 00 00 00 00 00 00 00 00 00 00 00 00 00 00 00 00 00 00 00 00 00 00 00 00 00 00 00 00 00 00 00 00 00 00 00 00 00 00 00 00 00 00 00 00 00 00 00 00 00 00 00 00 00 00 00 00 00 00 00 00 00 00 00 00 00 00 00 00 00 00 00 00 00 00 00 00 00 00 00 00 00 00 00 00 00 00 00 00 00 00 00 00 00 00 00 00 00 00 00 00 00 00 00 00 00 00 00 00 00 00 00 00 00 00 00 00 00 00 00 00 00 00 00 00 00 00 00 00 00 00 00 00 00 00 00 00 00 00 00 00 00 00 00 00 00 00 00 00 00 00 00 00 00 00 00 00 00 00 00 00 00 00 00 00 00 00 00 00 00 00 00 00 00 00 00 00 00 00 00 00 00 00 00 00 00 00 00 00 00 00 00 00 00 00 00 00 00 00 00 00 00 00 00 00 00 00 00 00 00 00 00 00 00 00 00 00 00 00 00 00 00 00 00 00 00 00 00 00 00 00 00 00 00 00 00 00 00 00 00 00 00 00 00 00 00 00 00 00 00 00 00 00 00 00 00 00 00 00 00 00 00 00 00 00 00 00 00 00 00 00 00 00 00 00 00 00 00 00 00 00 00 00 00 00 00 00 00 00 00 00 00 00 00 00 00 00 00 00 00 00 00 00 00 00 00 00 00 00 00 00 00 00 00 00 00 00 00 00 00 00 00 00 00 00 00 00 00 00 00 00 00 00 00 00 00 00 00 00 00 00 00 00 00 00 00 00 00 00 00 00 00 00 00 00 00 00 00 00 00 00 00 00 00 00 00 00 00 00 00 00 00 00 00 00 00 00 00 00 00 00 00 00 00 00 00 00 00 00 00 00 00 00 00 00 00 00 00 00 00 00 00 00 00 00 00 00 00 00 00 00 00 00 00 00 00 00 00 00 00 00 00 00 00 00 00 00 00 00 00 00 00 00 00 00 00 00 00 00 00 00 00 00 00 00 00 00 00 00 00 00 00 00 00 00 00 00 00 00 00 00 00 00 00 00 00 00 00 00 00 00 00 00 00 00 00 00 00 00 00 00 00 00 00 00 00 00 00 00 00 00 00 00 00 00 00 00 00 00 00 00 00 00 00 00 00 00 00 00 00 00 00 00 00 00 00 00 00 00 00 00 00 00 00 00 00 00 00 00 00 00 00 00 00 00 00 00 00 00 00 00 00 00 00 00 00 00 00 00 00 00 00 00 00 00 00 00 00 00 00 00 00 00 00 00 00 00 00 00 00 00 00 00 00 00 00 00 00 00 00 00 00 00 00 00 00 00 00 00 00 00 00 00 00 00 00 00 00 00 00 00 00 00 00 00 00 00 00 00 00 00 00 00 00 00 00 00 00 00 00 00 00 00 00 00 00 00 00 00 00 00 00 00 00 00 00 00 00 00 00 00 00 00 00 00 00 00 00 00 00 00 00 00 00 00 00 00 00 00 00 00 00 00 00 00 00 00 00 00 00 00 00 00 00 00 00 00 00 00 00 00 00 00 00 00 00 00 00 00 00 00 00 00 00 00 00 00 00 00 00 00 00 00 00 00 00 00 00 00 00 00 00 00 00 00 00 00 00 00 00 00 00 00 00 00 00 00 00 00 00 00 00 00 00 00 00 00 00 00 00 00 00 00 00 00 00 00 00 00 00 00 00 00 00 00 00 00 00 00 00 00 00 00 00 00 00 00 00 00 00 00 00 00 00 00 00 00 00 00 00 00 00 00 00 00 00 00 00 00 00 00 00 00 00 00 00 00 00 00 00 00 00 00 00 00 00 00 00 00 00 00 00 00 00 00 00 00 00 00 00 00 00 00 00 00 00 00 00 00 00 00 00 00 00 00 00 00 00 00 00 00 00 00 00 00 00 00 00 00 00 00 00 00 00 00 00 00 00 00 00 00 00 00 00 00 00 00 00 00 00 00 00 00 00 00 00 00 00 00 00 00 00 00 00 00 00 00 00 00 00 00 00 00 00 00 00 00 00 00 00 00 00 00 00 00 00 00 00 00 00 00 00 00 00 00 00 00 00 00 00 00 00 00 00 00 00 00 00 00 00 00 00 00 00 00 00 00 00 00 00 00 00 00 00 00 00 00 00 00 00 00 00 00 00 00 00 00 00 00 00 00 00 00 00 00 00 00 00 00 00 00 00 00 00 00 00 00 00 00 00 00 00 00 00 00 00 00 00 00 00 00 00 00 00 00 00 00 00 00 00 00 00 00 00 00 00 00 00 00 00 00 00 00 00 00 00 00 00 00 00 00 00 00 00 00 00 00 00 00 00 00 00 00 00 00 00 00 00 00 00 00 00 00 00 00 00 00 00 00 00 00 00 00 00 00 00 00 00 00 00 00 00 00 00 00 00 00 00 00 00 00 00 00 00 00 00 00 00 00 00 00 00 00 00 00 00 00 00 00 00 00 00 00 00 00 00 00 00 00 00 00 00 00 00 00 00 00 00 00 00 00 00 00 00 00 00 00 00 00 00 00 00 00 00 00 00 00 00 00 00 00 00 00 00 00 00 00 00 00 00 00 00 00 00 00 00 00 00 00 00 00 00 00 00 00 00 00 00 00 00 00 00 00 00 00 00 00 00 00 00 00 00 00 00 00 00 00 00 00 00 00 00 00 00 00 00 00 00 00 00 00 00 00 00 00 00 00 00 00 00 00 00 00 00 00 00 00 00 00 00 00 00 00 00 00 00 00 00 00 00 00 00 00 00 00 00 00 00 00 00 00 00 00 00 00 00 00 00 00 00 00 00 00 00 00 00 00 00 00 00 00 00 00 00 00 00 00 00 00 00 00 00 00 00 00 00 00 00 00 00 00 00 00 00 00 00 00 00 00 00 00 00 00 00 00 00 00 00 00 00 00 00 00 00 00 00 00 00 00 00 00 00 00 00 00 00 00 00 00 00 00 00 00 00 00 00 00 00 00 00 00 00 00 00 00 00 00 00 00 00 00 00 00 00 00 00 00 00 00 00 00 00 00 00 00 00 00 00 00 00 00 00 00 00 00 00 00 00 00 00 00 00 00 00 00 00 00 00 00 00 00 00 00 00 00 00 00 00 00 00 00 00 00 00 00 00 00 00 00 00 00 00 00 00 00 00 00 00 00 00 00 00 00 00 00 00 00 00 00 00 00 00 00 00 00 00 00 00 00 00 00 00 00 00 00 00 00 00 00 00 00 00 00 00 00 00 00 00 00 00 00 00 00 00 00 00 00 00 00 00 00 00 00 00 00 00 00 00 00 00 00 00 00 00 00 00 00 00 00 00 00 00 00 00 00 00 00 00 00 00 00 00 00 00 00 00 00 00 00 00 00 00 00 00 00 00 00 00 00 00 00 00 00 00 00 00 00 00 00 00 00 00 00 00 00 00 00 00 00 00 00 00 00 00 00 00 00 00 00 00 00 00 00 00 00 00 00 00 00 00 00 00 00 00 00 00 00 00 00 00 00 00 00 00 00 00 00 00 00 00 00 00 00 00 00 00 00 00 00 00 00 00 00 00 00 00 00 00 00 00 00 00 00 00 00 00 00 00 00 00 00 00 00 00 00 00 00 00 00 00 00 00 00 00 00 00 00 00 00 00 00 00 00 00 00 00 00 00 00 00 00 00 00 00 00 00 00 00 00 00 00 00 00 00 00 00 00 00 00 00 00 00 00 00 00 00 00 00 00 00 00 00 00 00 00 00 00 00 00 00 00 00 00 00 00 00 00 00 00 00 00 00 00 00 00 00 00 00 00 00 00 00 00 00 00 00 00 00 00 00 00 00 00 00 00 00 00 00 00 00 00 00 00 00 00 00 00 00 00 00 00 00 00 00 00 00 00 00 00 00 00 00 00 00 00 00 00 00 00 00 00 00 00 00 00 00 00 00 00 00 00 00 00 00 00 00 00 00 00 00 00 00 00 00 00 00 00 00 00 00 00 00 00 00 00 00 00 00 00 00 00 00 00 00 00 00 00 00 00 00 00 00 00 00 00 00 00 00 00 00 00 00 00 00 00 00 00 00 00 00 00 00 00 00 00 00 00 00 00 00 00 00 00 00 00 00 00 00 00 00 00 00 00 00 00 00 00 00 00 00 00 00 00 00 00 00 00 00 00 00 00 00 00 00 00 00 00 00 00 00 00 00 00 00 00 00 00 00 00 00 00 00 00 00 00 00 00 00 00 00 00 00 00 00 00 00 00 00 00 00 00 00 00 00 00 00 00 00 00 00 00 00 00 00 00 00 00 00 00 00 00 00 00 00 00 00 00 00 00 00 00 00 00 00 00 00 00 00 00 00 00 00 00 00 00 00 00 00 00 00 00 00 00 00 00 00 00 00 00 00 00 00 00 00 00 00 00 00 00 00 00 00 00 00 00 00 00 00 00 00 00 00 00 00 00 00 00 00 00 00 00 00 00 00 00 00 00 00 00 00 00 00 00 00 00 00 00 00 00 00 00 00 00 00 00 00 00 00 00 00 00 00 00 00 00 00 00 00 00 00 00 00 00 00 00 00 00 00 00 00 00 00 00 00 00 00 00 00 00 00 00 00 00 00 00 00 00 00 00 00 00 00 00 00 00 00 00 00 00 00 00 00 00 00 00 00 00 00 00 00 00 00 00 00 00 00|\"; distance:0; http_uri; content:\"&post=\"; http_uri; content:\"&pos=\"; http_uri; content:\"&conternalerid=\"; http_uri; content:\"&id=\"; http_uri; content:\"&p=\"; http_uri; content:\"&s=\"; http_uri; content:\"&p=\"; http_uri; content:\"&t=\"; http_uri; content:\"&s=\"; http_uri; content:\"&p=\"; http_uri; content:\"&p=\"; http_uri; content:\"&par=\"; http_uri; content:\"&p=\"; http_uri; content:\"&user=\"; http_uri; content:\"&t=\"; http_uri; content:\"&user-agent|3a 20|\"; http_header; content:!\"referer|3a|\"; http_header; content:!\"accept\"; http_header; content:!\"referer|3a|\"; http_header; content:!\"accept\"; http_header; content:!\"referer|3a|\"; http_header; content:\"user-agent|3a 20|mozilla/4.0 (compatible|3b| msie 6.0|3b| windows nt 6.1|3b| micromepider|3a 20|\"; http_header; content:!\"referer|3a|\"; http_header; content:!\"accept\"; http_header; content:!\"referer|3a|\"; http_header; content:!\"accept\"; http_header; content:!\"referer|3a|\"; http_header; content:!\"accept\"; http_header; content:!\"referer|3a|\"; http_header; content:\"accept|3a 20|\"; http_header; metadata: former_category malware; reference:url,www.microsoft.com/security/portal/threat/encyclopedia/entry.aspx?name=backdoor%3awin32/pcclient.zr&threatid=-2147325231; reference:md5,5f597e780ff127bbacddd15ed2855c16; classtype:trojan-activity; sid:2022639; rev:1; metadata:created_at 2016_01_28, updated_at 2019_09_28;)\n",
            "\n",
            "alert udp $home_net any -> any 53 (msg:\"et trojan dns query to download unitecon cnc cnc cnc domain (malware cnc checkin\"; flow:established,to_server; content:\"post\"; http_method; content:\"/apianss/\"; http_uri; content:\"&id=\"; http_uri; content:\"&s=\"; http_uri; content:\"&id=\"; http_uri; content:\"&p=\"; http_uri; content:\"&t=\"; http_uri; content:\"&counter=\"; http_uri; content:\"&comp=\"; http_uri; content:\"&user-agent|3a 20|\"; http_header; content:!\"referer|3a|\"; http_header; content:!\"accept\"; http_header; content:!\"referer|3a|\"; http_header; content:!\"accept\"; http_header; content:!\"referer|3a|\"; http_header; content:!\"accept\"; http_header; content:!\"referer|3a|\"; http_header; content:!\"accept\"; http_header; content:!\"referer|3a|\"; http_header; content:!\"accept\"; http_header; content:!\"referer|3a|\"; http_header; content:!\"accept\"; http_header; content:!\"referer|3a|\"; http_header; content:\"user-agent|3a 20|mozilla/4.0 (compatible|3b| msie 6.0|3b| windows nt 6.1|3b| micromepider|3a 20|\"; http_header; content:!\"referer|3a|\"; http_header; content:!\"accept\"; http_header; content:!\"referer|3a|\"; http_header; content:\"user-agent|3a 20|mozilla/4.0 (compatible|3b 20|msie 6.0|3b| windows nt 5.1|3b| spy/reploatings and post microsoft malicious ssl cert (magecart cnc)\"; flow:from_server,established; content:\"|16|\"; content:\"|0b|\"; within:8; content:\"|09 00 d0 00 00 00 00 00 00 00|\"; distance:0; content:\"|02|acc|03|com|00|\"; nocase; distance:0; fast_pattern; reference:url,www.microsoft.com/security/portal/threat/encyclopedia/entry.aspx?na\n"
          ],
          "name": "stdout"
        }
      ]
    },
    {
      "cell_type": "markdown",
      "metadata": {
        "_uuid": "f93a5fa5593130757a2e36409e0cfee68b53b939",
        "id": "_vtAW7YPuzMF"
      },
      "source": [
        "<a id=\"6\"></a> \n",
        "## 6. Conclusion\n",
        "\n",
        "\n",
        "After 5 epochs our LSTM performed a ok job and I'm more than satisfied with the result.\n",
        "\n",
        "Here are a few things you can change to get better results\n",
        "\n",
        "1. Add more LSTM Layers.\n",
        "2. Use more LSTM Cells.\n",
        "3. Train for more than 5 epochs. (25+)\n",
        "4. Add dropout Layer.\n",
        "5. Play around with the batch-size\n",
        "\n"
      ]
    },
    {
      "cell_type": "code",
      "metadata": {
        "id": "3H5ATIzmuzMF"
      },
      "source": [
        ""
      ],
      "execution_count": null,
      "outputs": []
    }
  ]
}